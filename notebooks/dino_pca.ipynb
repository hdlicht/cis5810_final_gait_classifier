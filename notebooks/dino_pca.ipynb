{
 "cells": [
  {
   "cell_type": "code",
   "execution_count": null,
   "metadata": {},
   "outputs": [],
   "source": [
    "import os\n",
    "import torch\n",
    "import numpy as np\n",
    "\n",
    "def load_and_bind_features(directory_path):\n",
    "    \"\"\"\n",
    "    Load all .pt files in the given directory and bind them into a single NumPy array.\n",
    "\n",
    "    Args:\n",
    "        directory_path (str): Path to the directory containing .pt files.\n",
    "\n",
    "    Returns:\n",
    "        np.ndarray: Combined feature matrix of shape (num_samples, num_features).\n",
    "    \"\"\"\n",
    "    all_features = []\n",
    "    \n",
    "    for filename in os.listdir(directory_path):\n",
    "        if filename.endswith(\".pt\"):\n",
    "            file_path = os.path.join(directory_path, filename)\n",
    "            features = torch.load(file_path)  # Load the .pt file\n",
    "            if isinstance(features, torch.Tensor):\n",
    "                features = features.numpy()  # Convert to NumPy array\n",
    "            elif isinstance(features, list):  # Handle list of tensors if applicable\n",
    "                features = np.vstack([f.numpy() if isinstance(f, torch.Tensor) else f for f in features])\n",
    "            # cut down to 200 frames if more\n",
    "            if features.shape[0] > 200:\n",
    "                features = features[:200]\n",
    "            all_features.append(features)\n",
    "\n",
    "    # Combine all feature arrays into a single matrix\n",
    "    combined_features = np.vstack(all_features)\n",
    "    return combined_features\n",
    "\n",
    "# Example usage\n",
    "directory_path = \"data//features_directory\"\n",
    "combined_features = load_and_bind_features(directory_path)\n",
    "\n",
    "print(f\"Combined features shape: {combined_features.shape}\")\n"
   ]
  },
  {
   "cell_type": "code",
   "execution_count": 3,
   "metadata": {},
   "outputs": [
    {
     "name": "stdout",
     "output_type": "stream",
     "text": [
      "Current working directory: /home/henry/robo/cis5810/final/cis5810_final_gait_classifier\n"
     ]
    }
   ],
   "source": [
    "import os\n",
    "\n",
    "# Check the current working directory\n",
    "os.chdir('..')\n",
    "current_dir = os.getcwd()\n",
    "print(f\"Current working directory: {current_dir}\")"
   ]
  },
  {
   "cell_type": "code",
   "execution_count": 10,
   "metadata": {},
   "outputs": [
    {
     "name": "stdout",
     "output_type": "stream",
     "text": [
      "1826\n"
     ]
    }
   ],
   "source": [
    "import pandas as pd\n",
    "import torch\n",
    "import os\n",
    "\n",
    "directory_path = \"data/gavd_dataset/landmarks\"\n",
    "\n",
    "stats = []\n",
    "normalized_stats = []\n",
    "\n",
    "for filename in os.listdir(directory_path):\n",
    "    if filename.endswith(\".csv\"):\n",
    "        seq = filename.split(\"_\")[0]\n",
    "        file_path = os.path.join(directory_path, filename)\n",
    "        features_df = pd.read_csv(file_path, header = None)\n",
    "        features_df = features_df.sort_values(by=1, key=lambda col: col.astype(float))\n",
    "        features_df = features_df.iloc[:, 35:]\n",
    "        features = torch.tensor(features_df.values.astype(float), dtype=torch.float32)\n",
    "        # print the max, min, mean, std of the features\n",
    "        stats.append([seq, features.max(), features.min(), features.mean(), features.std()])\n",
    "        # normalize the features\n",
    "        normalized_features = (features - features.mean()) / features.std()\n",
    "        normalized_stats.append([seq, normalized_features.max(), normalized_features.min(), normalized_features.mean(), normalized_features.std()])\n",
    "print(len(stats))"
   ]
  },
  {
   "cell_type": "code",
   "execution_count": 14,
   "metadata": {},
   "outputs": [
    {
     "data": {
      "text/plain": [
       "(array([  1.,   0.,   1.,   1.,   1.,   1.,   3.,   3.,   3.,   5.,   7.,\n",
       "          8.,  12.,  26.,  63., 107., 174., 272., 231., 128.,  68.,  63.,\n",
       "         31.,  12.,   3.,   3.,   0.,   1.,   0.,   1.]),\n",
       " array([0.11105007, 0.12416311, 0.13727614, 0.15038918, 0.16350221,\n",
       "        0.17661525, 0.18972828, 0.20284132, 0.21595436, 0.22906739,\n",
       "        0.24218043, 0.25529346, 0.2684065 , 0.28151953, 0.29463257,\n",
       "        0.30774561, 0.32085864, 0.33397168, 0.34708471, 0.36019775,\n",
       "        0.37331078, 0.38642382, 0.39953686, 0.41264989, 0.42576293,\n",
       "        0.43887596, 0.451989  , 0.46510203, 0.47821507, 0.49132811,\n",
       "        0.50444114]),\n",
       " <BarContainer object of 30 artists>)"
      ]
     },
     "execution_count": 14,
     "metadata": {},
     "output_type": "execute_result"
    },
    {
     "data": {
      "image/png": "[encoded data removed]",
      "text/plain": [
       "<Figure size 640x480 with 1 Axes>"
      ]
     },
     "metadata": {},
     "output_type": "display_data"
    }
   ],
   "source": [
    "# Create a histogram of the mean values\n",
    "import matplotlib.pyplot as plt\n",
    "\n",
    "# Extract the mean values from the stats list\n",
    "mean_values = [stat[3].item() for stat in stats]\n",
    "\n",
    "# Create a histogram\n",
    "plt.hist(mean_values, bins=30, color='skyblue', edgecolor='black')"
   ]
  }
 ],
 "metadata": {
  "kernelspec": {
   "display_name": ".venv",
   "language": "python",
   "name": "python3"
  },
  "language_info": {
   "codemirror_mode": {
    "name": "ipython",
    "version": 3
   },
   "file_extension": ".py",
   "mimetype": "text/x-python",
   "name": "python",
   "nbconvert_exporter": "python",
   "pygments_lexer": "ipython3",
   "version": "3.8.10"
  }
 },
 "nbformat": 4,
 "nbformat_minor": 2
}
