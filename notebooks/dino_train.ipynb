{
 "cells": [
  {
   "cell_type": "code",
   "execution_count": 5,
   "metadata": {
    "id": "iny33Tq2Kttg"
   },
   "outputs": [],
   "source": [
    "import numpy as np\n",
    "import pandas as pd\n",
    "# import pytorch_lightning as pl\n",
    "# from pytorch_lightning.callbacks import ModelCheckpoint\n",
    "# from pytorch_lightning.loggers import TensorBoardLogger\n",
    "import torch\n",
    "import torch.nn as nn\n",
    "import torch.nn.functional as F\n",
    "import torch.optim as optim\n",
    "from sklearn.model_selection import train_test_split\n",
    "from sklearn.preprocessing import LabelEncoder\n",
    "from torch.utils.data import DataLoader, TensorDataset\n",
    "from collections import Counter\n",
    "import os\n",
    "from lstm_model import LSTMModel\n",
    "from dino_dataset import DINOFeatureDataset"
   ]
  },
  {
   "cell_type": "code",
   "execution_count": null,
   "metadata": {},
   "outputs": [
    {
     "name": "stdout",
     "output_type": "stream",
     "text": [
      "['cljwt275b001o3n6lx021hys6', 'cll9wg28l004r3o6lvje4jtk1', 'cljxl1oc900113n6larkl504p', 'cljxlxyc0003v3n6l0if3b0i7', 'cllam7xgc000z3o6lwanrl4ie', 'cljwrzfhq004t3n6lpnogqw2y', 'cljo6pd2x000k3n6lzncvjn3t', 'cljo39ok9002h3n6ldr0w5sey', 'cljxlzffo00413n6le9f85cjl', 'cljs4fg5q00533n6lva2cwo7m', 'cll74q59g00283o6lp8wjejom', 'cll8lc6c0000e3o6lgu3uicr8', 'cljo8g74m006g3n6l6kuxy9cf', 'cll9v50ee004y3o6lj9djtcfk', 'cljr6q6hi000s3n6l92mb8yqa', 'cljap0c1m003o3n6lgmq5uhwn', 'cll8yhohu003u3o6loak9t1uh', 'cljws24xx00563n6l1lvi70og', 'cll8e7fwo000a3o6lx7vbhve7', 'cll9vgqli000x3o6lnyfwj9yf', 'cllc2jyqh003u3o6lmte5fdzt', 'cll44yz75006d3o6l4a0v6ovq', 'cll7p6iq200793o6lyzrndvi1', 'clk7gxjve00123n6l2advgzrw', 'cll44uuy8005d3o6lp580ed3c', 'cll7pe1vf000u3o6l4kz90gxi', 'cll7os8xa00533o6lf7ezb4xb', 'cll8kj4xu007w3o6ll27qmd7n', 'cll8gkpjk003x3o6lj30cbt8l', 'cll7qekvj005t3o6ln160mgm7', 'cll7nivjk00043o6llmtvg69b', 'cll9wbp04004b3o6ldbbhuvwx', 'cljwd6kxa001i3n6lm1mk8bg8', 'cljwcz4en000d3n6lf1g0j311', 'cll8k1pmt00543o6llho982y4', 'cll9wjdqf005b3o6lu8tv6wdv', 'cljo75mgp00233n6lucgcvtnl', 'cll8z36lx007b3o6lvsy3tq9t', 'cljxijaiy00813n6lc6oo1rzh', 'cll7b64pr001j3o6l51wteo3i', 'cljawlkt0000v3n6lo2s8a5rl', 'cll8y32yb00153o6lll6uq3r4', 'cljwri6el002b3n6l76w6m2d2', 'cll7pesk200123o6lfl30fyxl', 'clk7h3u8a001u3n6l5e34c1yc', 'cll7ojdbj003y3o6lg6jm7foy', 'cljvw3sad000u3n6lb57uns3y', 'cljs4we1v00683n6l3sp64qx4', 'cll7ojtl100423o6lm79ehhfo', 'cll7b8rqh00233o6lu29ve8tx', 'cll7qexyr005x3o6l6nxx6vtn', 'cljvx1c3b003l3n6l6e7onq3z', 'cljwnp5ai000c3n6lqhuqij08', 'cll9v2gym004k3o6lse7pn7tt', 'cljax24er002l3n6l0dnxpdh8', 'cll44hwjc002i3o6lqv6hv0ze', 'cllbyyh2a001c3o6lanqqhs7g', 'cll45kp6a00ad3o6lakhi62pm', 'cljvw0vgp000i3n6lf0ykyacv', 'cll8kgvkh007d3o6lqcab168x', 'cll4sar1800053o6lrjwfg70j', 'cll8y079o000n3o6l3vep725g', 'cll7nz8sk00213o6lvx7830ce', 'cljxkk705001r3n6lih7q9zt8', 'cll8z1h2100703o6lx7kes4i5', 'cljxi664s00683n6lhxbh8beh', 'cljs3bsag002g3n6l2jctyel3', 'cljxkxrcq000g3n6l1h9qy95z', 'cll9uc54b000m3o6lp356kyh6', 'cljwcx6nj00043n6l90obz35w', 'cljo6oiiv000g3n6lr7nwhvl8', 'cljr3y3de002r3n6ld2hr4lka', 'cllc0la2000263o6ldir88qnb', 'cll8hv4lm007c3o6l3u0iruij', 'cljnz7jnj000w3n6lku3pfvtm', 'clk7wqkks007e3n6lnhit334h', 'cljxhxc8l00543n6le711pgu9', 'cll8ecayf000y3o6lpus3xxcd', 'cllamg376002c3o6lyco69adn', 'cljs0zfbo00043n6lp0sofeh2', 'cll44kk8300323o6l8rw8x8gy', 'cll8f521600423o6lve8akyfs', 'cll8ikdv2002q3o6l5kq3d1wp', 'cll1tvded002o3o6lqnb31xmm', 'cll8ylbsh004j3o6lguz5obh1', 'clk7wm113006m3n6lzk77zvoy', 'cljxhbr13002c3n6lo1ds8kua', 'cll8ht6s600703o6lxkz5kl10', 'cll45fxj000983o6lr7ndc8m8', 'cljvxgo1n005b3n6l1bw4vydg', 'cljaoak47000i3n6lsrb9rit9', 'cljo7lyhc003v3n6lf30a51uz', 'cljnyn1z3000v3n6lkxij2r22', 'cljws3yi7005j3n6lhe3pllsk', 'cljo2vai700133n6lr8vfevzs', 'cll7rg9nk00ba3o6lblgphdnf', 'cll8yh7sd003q3o6lqt5nao7f', 'cljvvvetj000b3n6lqxrqgm3o', 'cll45mm5f00al3o6l20i5vm7w', 'cljvx5r6q00433n6l9t84rm4c', 'cll74opgk001w3o6lpjvqslkk', 'cll45mw7j00ap3o6l0erzo5ug', 'cll8ggl88003b3o6laxqnyw1g', 'cljaqqdar00aa3n6lblt5iei7', 'cllc2gg5z003i3o6l7f4xc4qr', 'cll8fbber00503o6ltzkgfnwv', 'cljw2vl73000k3n6lqkzk2mga', 'cll1t00hj000b3o6ltvcr8m0l', 'cljwt17kh001g3n6lhqelrx2w', 'cll9ufofj00163o6l0whdyobn', 'cljw4219w000t3n6lid99z8il', 'cll45s6c300bo3o6ln7e944ww', 'cljwrsi3r003w3n6ltfmup6z0', 'cljap626d004v3n6ldyysleyr', 'cljawo31o00173n6lk7goqxm1', 'clk6lbly5003m3n6l9bjdqiyz', 'cll8ibede001y3o6lk4cuig9c', 'cll8k7lo2006f3o6lf4tw2dqz', 'cljo6vict000z3n6le2ct5haw', 'cljwth9ln00123n6l7bn94j2u', 'cllanvjdw00123o6ltqxqhs3e', 'cllanuqaa000u3o6lg3qa4fgb', 'cljo1mqee003m3n6lenghd74a', 'cll8z76z2007v3o6ly93fw8z3', 'cljaob36l000m3n6l9xokjqww', 'cll7pnxg4002v3o6lpixzcc64', 'clk7v3gtf000v3n6la00c8eue', 'cljvx44jt003v3n6lgox22f0q', 'cljo2wwu7001a3n6ljmqm39l6', 'cll7r2tbm009f3o6ltp97agru', 'cll9uvanr003c3o6lpzud1lr4', 'cll9y725p003e3o6lr6oco1w9', 'cljwcqyw500283n6lcmqv13n0', 'cllc1ylva00253o6le0hrppme', 'cljxkwbqc00083n6l6afotzlq', 'cljw6tpgu00293n6lhjzerp7d', 'cll8f81fi004f3o6lg0cl1dqz', 'cljr5zp1i002b3n6l72p1rnd6', 'cllam9ewb001b3o6liwz90gsq', 'cll44q7mm00453o6lblioekqn', 'cll454erx007l3o6lwt9kmva5', 'cljximnr0008g3n6lmof9rjho', 'cljr4zha200173n6l6dz5hydi', 'cll45qw8700bi3o6l1hnhjw9i', 'clk7uqx0y00093n6lyp9anc3y', 'cll44rghz004h3o6lrlt6ov6i', 'clk7woxkm00723n6lstd64c9z', 'cll45d7vn008q3o6l4sxv3e67', 'cljr59m8e00213n6l2yf4rga3', 'cll8k8pxy006n3o6l2q1gopyo', 'cll7ax03e00103o6lnh82mwyz', 'cll44vdaw005h3o6ldaam12sk', 'cll8ze04800943o6ll5yn10zx', 'cll7ot0hm00563o6lkpq8mwoe', 'cljw6t22j00253n6lqj29g2uu', 'cllba535b000x3o6l204nr8e8', 'cll7rem8d00ay3o6l3ytumz1s', 'cljr4wlt0000z3n6l0984n9o3', 'cllapc5o7000u3o6lijj8asww', 'clk7vlsxt00353n6lmynqknax', 'cll44833z000j3o6lwxof7566', 'clk7fh5rw000x3n6lxsbdzyi5', 'cljxgugiu000d3n6l1ieoxyk9', 'cljw2wxoy000o3n6lby0fknus', 'cll9wsbzf00673o6lhloccwpj', 'cljs45dkb00473n6lesqaxyj0', 'cll7ox55y005n3o6l356amt2i', 'cll9ub6zm000i3o6l9pagthuv', 'cljw7ndde006n3n6lfm5x8fuv', 'cljxibqo100703n6lt6hgcqi4', 'cll8in9cr002x3o6lkkh73hy9', 'cll7olcvh004b3o6lcxmzxvgq', 'cljxl14d9000x3n6la28mx768', 'cll8yya5b006k3o6l5u7hdns9', 'clk7ushtq000d3n6lkqijwp5x', 'cljwbiw4g000x3n6lzn7gplp8', 'cll16lmkw00423o6lvpbnbl4n', 'cll7p23kk00643o6le67ff7aj', 'cljwcvfg5002w3n6lo9eg0k8w', 'cljxjrak3000p3n6lpocul02a', 'cljo7acd3002j3n6lhb0de2it', 'cll7b5520001b3o6ltainxzq7', 'cllamrqq8003v3o6lk9rfdt01', 'cljr537dq001f3n6lvf21d511', 'cll1sz60600053o6lewgeftg3', 'cll8fprbu00083o6l8va6lsx5', 'cll8l7rpo009w3o6l08elz1cg', 'cljwsd2vm000o3n6ldtv71ge9', 'cll8yxfyv006d3o6l1g4f9okk', 'cljxhmxzx003s3n6lb888laay', 'cll44balt00193o6lbzpyxlqq', 'cljvwe0ky00213n6l7qczieno', 'cll74kndy000z3o6libp3z895', 'cllcybkmj001p3o6le6i3k02f', 'cljr4ymb700133n6lw4sannwy', 'cll7rh5l100bi3o6lsl6a0l14', 'cljs3cnzx002k3n6lf906p4hv', 'cljnyb9qa00083n6l2b6wex1t', 'cljo7rfp9004f3n6l8r52qile', 'cllam7kno000v3o6lzb3jexu6', 'cll9vfq7v000p3o6l9ix6aagp', 'cljvwkifk002x3n6l7jeh6adi', 'cljas2sou00ff3n6lasppj8h2', 'cll9wlxrk005n3o6l1cd92hoh', 'cll45eqix00903o6lalmbmqlv', 'cll8kljtt008c3o6lo3nauxjy', 'cljxlnjav001x3n6l5nn2uken', 'cll9u9i8r00093o6l5ikd2m5u', 'cljxlxk3m003r3n6l0ooimbk2', 'cll45qjap00bf3o6lsjazc5zi', 'cljvx81v2004f3n6lhw59hcha', 'clk7vjylo002t3n6l0is9degp', 'cljaouueo002k3n6l57zl7081', 'cllepcqcx000r3o6lduq2uact', 'cll4sklzb001w3o6l03xh1msu', 'cljs507qx006k3n6l0raraiqg', 'cljr6o2r2000g3n6ld9zqoaqo', 'cll4stl3f003s3o6l8w1r71n6', 'cll7pluwd002b3o6lktk9yfpv', 'cll16mmxj004a3o6lims8zdjc', 'cll9uvpau003g3o6llmw8nj01', 'cll8ykymb004g3o6ltus18wn7', 'cll9wr80g00633o6lg2tmhqi7', 'cljxlu1ql00313n6lqtuw77ji', 'cll8f9vug004r3o6lkzlw0bf1', 'cllame9uz00233o6lt03c2x51', 'cll1t1y56000n3o6l0erm0qfo', 'cljvx8zo5004j3n6l09nz7rpt', 'cljs1xxx5001o3n6lk7mnpg08', 'cll7qyeiw008t3o6lxtmvib3d', 'cljo1s7p1004d3n6lbqi16ndk', 'cljo6mjzm00043n6lm20jh9gw', 'cll9w85wy003v3o6lz06f49i4', 'cll7pyunc004t3o6l0hr6l81f', 'cljo7pxn500473n6lwuo5m466', 'cll9v1wrv004g3o6ldfsksu23', 'cljas134500f73n6lkfbjfayp', 'cll7okd2g00463o6lqony3cgv', 'cll747tza000a3o6l8yboodhd', 'cljs14tc4000o3n6lcl4e859g', 'cljr35dz2000o3n6ldv8nzdn2', 'cljr3jq8m001e3n6legw30pqn', 'cljw6ilc7000s3n6l6iyc9ju4', 'cljartjkn00e63n6lh194w640', 'cljr5dmk000043n6l5cme80uw', 'cll9v16uc004c3o6liq2wc2u8', 'cll74pdep00203o6l8m5f1a7p', 'cll451060006x3o6lq5y3lw7f', 'cljs3pito003c3n6ll8xr0kbi', 'cllc0njf1002c3o6lc9oewi8q', 'cll8i0gkd00053o6l4uzo1j7e', 'cll7qwmrw008h3o6la0nhmwi3', 'cll9yaxfs00413o6lqxu7a4qw', 'cljws85nz00043n6lfct00zcv', 'cll8ybx5d002t3o6ldf5s7yss', 'clk7v0al3000j3n6l81n66a68', 'cljr4m03300083n6l8udync6s', 'cljwrq524003j3n6lt19gnyf5', 'cll8iemjm002a3o6laj904gvd', 'cljxid694007c3n6l2mwpxjbt', 'cljo6nyzg000c3n6lx8ga01e2', 'cll8k24qs00583o6lbnpqmjyl', 'cll8ycctu002x3o6lpkcttnko', 'cll7p3axj006g3o6lly39n3tl', 'cljwr3nzm00083n6lt90ynbix', 'cljw771mg00483n6lnajrytho', 'cll44pl8l00413o6l376phbvv', 'cljwrju1q002k3n6locdj52a9', 'cllbxozns00053o6lttivp81c', 'cljxjqo0e000l3n6lzw4fbzvx', 'cll74lhf600173o6l1j74wi5e', 'cll7qa64b00593o6lrncwg6xx', 'cll7pipui001n3o6lnqji6t09', 'cll8ywl6200653o6lvr3kd8ni', 'cljaoyfcy00383n6lmftrl6rf', 'clk7vqef6003j3n6labf9flig', 'cll9x8ght000d3o6l4clj3v43', 'cljvw53pm00113n6l61zxh9f3', 'cll7qnc53007b3o6l18kjlo9h', 'cljwt2kh6001s3n6lnyzpoe3i', 'cll8yqmmo00553o6l1mj7ote9', 'cljwtj9z000173n6lfvq9s6p5', 'cljw7shbo007h3n6lhj6j73z3', 'cljxklc35001v3n6l6ex171ry', 'cll8z4ofb007j3o6l6ks1s7ho', 'cll7rf3tx00b23o6l6rmg0swu', 'cll450706006p3o6l2vc93wf0', 'cljap4p9j004j3n6lj39g6r9m', 'cllenw3r8003g3o6ludxcf6jg', 'clk7wescc005s3n6lwpgkwfkk', 'cljs2vx9b001s3n6lo4tc3qwd', 'clldfwnnn00153o6l8d3rygky', 'cljwsxudc000z3n6l8eoon4wq', 'cljr3vdmx002j3n6ldt042b04', 'cll9ybfgq00453o6ltqrsnmq0', 'cll45jh7d00a63o6lbqz4ayaj', 'cljwsawxw000h3n6lxtnmrtll', 'cll45nlw300av3o6l315uns4s', 'cljarp08600dt3n6lxa7sysiv', 'cljs513ok006o3n6l9oapxupv', 'cll9y063j002i3o6lfk3xgifq', 'cll9wweq1006r3o6ly8fqv6gh', 'cll7as4yq000d3o6l9o4h2ozb', 'cljaqwk3x00ar3n6l1dok7jvh', 'cll8gh26x003f3o6lmz6412q0', 'cljxlsc97002p3n6ldn9pbuxt', 'cll9wwuk0006v3o6lucy4o88r', 'cljaotzi6002g3n6ljofm5j6d', 'cljrrmdtk000y3n6l6l2e00j6', 'cljo7gra200373n6l6nyp18h5', 'cljaoo2cn001u3n6lf7xqjrze', 'cll7bb07a00293o6lln0i08hu', 'cll74cfvn00183o6lzjgjf4sy', 'cll7ohoq9003m3o6ls1ng58v3', 'cll8yaux6002l3o6l4ox4ttlh', 'clld33m5t001n3o6lakpu6arj', 'cljaqpie200a63n6li84amx32', 'cll8xxc8w00093o6lcq5eithl', 'cll7pn8hj002r3o6lgw1isap7', 'cll7pj6z0001r3o6lonkwy0ou', 'cljo1wt9j00533n6lzvn1a6d2', 'cll45zkrs00ct3o6loe94okf8', 'cll44cxvz001r3o6l42os54zz', 'cll45za6600cp3o6l44cswqa9', 'cljxihp86007x3n6lv3i1hc0h', 'cllenznbt003s3o6liisv7agr', 'cll8z0i67006w3o6l1edfeg5x', 'clld35xx200283o6l5o4i98br', 'cll8gpm34004h3o6lj5wimhnb', 'cll751hue00353o6ly952utd8', 'cljap4083004f3n6ldx98aixq', 'cllbkxxuf000c3o6l848vr3gz', 'cljwnqgpo000h3n6ljjl2gyh2', 'cll45208v00753o6lzyi7ilgm', 'cll7p882j00053o6lf14c7el3', 'cll44u10u00553o6lf2iilwrx', 'cll44r4mc004d3o6lf9qrgqcn', 'cljwsrf6f00043n6lyvybiqah', 'cll8f71lx004b3o6l0tgjpc2f', 'clk6ks8hy001e3n6labhtzxzt', 'cllc11h4u003y3o6lujf8deva', 'cll7p2x3z006c3o6l9gfs03ce', 'clk6km1dx000p3n6lg1prr2xr', 'clk7vgohu002f3n6l6edo8gi2', 'cll74bxqz00143o6luhlnqxyb', 'cllamsonz003z3o6lwrp5vstm', 'cljwbentj000d3n6lkdzqc77e', 'cljs541cf00703n6l8gjj1v6r', 'cllc0y22y003i3o6liek1w8k8', 'cljxhybys00583n6l77dunspa', 'cll9y8lpw003q3o6l5ynsgrm5', 'clk6ky7b5001z3n6l2xsvs2z2', 'cljwd49i700163n6lxv579o8a', 'clld350gs00213o6lt5pzq6o1', 'cll8y553i001k3o6lqko1gnwa', 'cljs51wg8006s3n6la5snnj9g', 'cll8gb2f0002s3o6la9w211ms', 'cljw70c2t00393n6l8ou5prmf', 'cljar11t100bb3n6ls0aq85hr', 'cljawqrbd001j3n6lqufhfuet', 'cljwd5h2s001e3n6l14zums1l', 'cll7ogyi4003i3o6lnpe3i230', 'cljxktaru002w3n6lb8hll80p', 'cljr34d8n000k3n6la33g2yh8', 'cllba340u000k3o6lfxhoh96p', 'cll8yq2pj00513o6lkv0grvn9', 'cljxh19il00143n6lcoxgwtoj', 'cljr5a80800253n6lzu0jmkx6', 'cll7ra6ex00ad3o6lokwwngiq', 'cll8gocmx004d3o6lj3ma0dbg', 'clk7vstq3003v3n6lx16fsb87', 'cllen39z8000v3o6l4x2kgvwe', 'cll7op9nd004t3o6l418l2kez', 'cljs1ke3l00103n6l5nvm1yfd', 'cljwbgqhk000l3n6lyl2bs2we', 'clk7fgn9n000t3n6ld4fxevnl', 'cljwsfrov00123n6llhq41svp', 'clk6ksjhi001i3n6la1jkwelz', 'cljws4z6p005n3n6l0pj42xf3', 'cll7of6ql00393o6l0hjh0o8h', 'cljvwjpf9002t3n6lho7y7owx', 'cljxi9qeq006o3n6lybhf28cp', 'cll8h2yit006s3o6l0megfvr0', 'cljr3ovxy001v3n6lp1ru2833', 'cll74bcch00103o6ljzbks9ds', 'cll8ey1l0003m3o6ldadqnbs8', 'cljao8kyf000d3n6l0x9kgmav', 'cljawov3k001b3n6li7bmdm12', 'cll9v6n7200523o6lbcj3iixb', 'cll8xy0z3000d3o6l0tu8ne8b', 'cljxgvdvj000k3n6lmyydoci5', 'cll16ij2s003e3o6lrapjbhw5', 'cll44xmlt00613o6luubjssx8', 'cll8ips7q00353o6llefwf1eb', 'cljxikwg800883n6l1fsf45nx', 'cll9ux9kg003w3o6larf35e2j', 'cljax9d2p00363n6lx043s1m7', 'cll9v8q89005f3o6loixx36b4', 'cll7qfnma00613o6ly66zt286', 'cll7b5mmr001f3o6ler43480l', 'cljw461m9001f3n6l0o9gjzvg', 'cljar2lr200bj3n6lnesaud88', 'cljwcn068001y3n6lrm6qqj8o', 'cljnyv9zm001n3n6l5midofuq', 'cll445m9200063o6lo2sbn0n7', 'cljw448vx00163n6lhm5vmfhm', 'cll8h0akb00683o6ls74ez7x9', 'cljr6xqvi001d3n6lctvtihw2', 'cll9vtlla002b3o6lisshyo9b', 'cll8lcois000i3o6lv2j3ajo4', 'cljardvzg00cs3n6loetskba6', 'cljr61601002i3n6lp9ppmflo', 'cljnythm4001j3n6l7hxzn2c4', 'cll7bgdaa002y3o6l35uuu3cn', 'cll8kl3ha00883o6l861c0yh4', 'cll7ntwcy001j3o6l58p3y3fx', 'cll9y6cyt00393o6ld8esryy9', 'cllam8frg00133o6l16jpk53x', 'clk7vuicr00413n6l97p3b0gj', 'cljs4jfyk005j3n6lwif0h0gw', 'cljwtgpsm000y3n6lgbj91b5h', 'cll9wgth7004v3o6l3sw4err0', 'cljaoq8tp00243n6lav1phi0c', 'clk6ktoi4001o3n6l2m6oag7i', 'cljaxabfg003a3n6l95mrlcry', 'cljvxbmbq004v3n6lz5ou4j62', 'cljawymwi002c3n6l9mbrouqu', 'clk7vkjqo002x3n6lfrz358aq', 'cljs1j69t000w3n6ll4jnm662', 'cll7qz1w4008x3o6lmg2qbi0u', 'cll45t8v800by3o6lvwscenc3', 'cll9y84ep003m3o6lpk4lprg8', 'cljwcurcc002s3n6lvrwlkbni', 'clk7gzvwl001e3n6ldwqkwlhl', 'cljaqzzus00b73n6lkximasu4', 'clk7gyl2g00163n6llq7wids3', 'cljaqz2zx00b33n6lrn4zn4tq', 'cll74m03k001b3o6lxpj0gss4', 'cljaqjnck009t3n6l3yakz4ot', 'cll1tkcu900133o6lebvnmt2x', 'cljw79f1u004l3n6l6qctcevn', 'cll7ointh003u3o6lgein6ile', 'cll8igqep002i3o6l1ruz7ggz', 'cljaobtd0000q3n6lutd71mer', 'cll8h2imm006o3o6lrk0orfvc', 'cllam0u6900053o6ls6ps8z9c', 'cljo340cm002a3n6low42ugvh', 'cljwd1n5o000u3n6lo2vje4yj', 'cll8lbfl1000a3o6ldqolrti3', 'cljaof3ba00153n6lcr8af6bi', 'cljwcsw38002g3n6l088m4lb7', 'cll8i17zu000d3o6l73pt03oc', 'cljaowoxy002s3n6lm5b9d3pg', 'cljayepal00153n6lh4i9j3c8', 'cljxl3an5001c3n6lschs9zkv', 'cll9w6h2n003n3o6l223ksi8x', 'cljvx07sw003h3n6ltdmixplw', 'cll9w31b300373o6ljog7yocm', 'cljaqvpdp00an3n6ld9oqnejn', 'cljw65m0800333n6lpxsiegdj', 'cll44x594005x3o6l8ojujebf', 'cll45e1rg008x3o6lki1yqi2o', 'cljr36rk2000w3n6laa36l6gs', 'cll9w1e0500333o6l5omih4uh', 'cljrrfoy300083n6lkg3w8u4s', 'cll8yxw15006h3o6liqintyur', 'cll7omlfa004j3o6l475krfek', 'cll8k844v006j3o6lyfwxu6xu', 'cljw76g4e00443n6lfbboyczo', 'cll7r3sa3009k3o6l1r97egyz', 'cljw4bvwa002i3n6l11cwtwxq', 'cljar4zkz00br3n6lp76etiwf', 'cll8zb0pp008f3o6l0iqld0dz', 'cll7qg66200653o6lt08n89it', 'cljo1phh2003y3n6l69kfyzp4', 'cllam6wcv000r3o6lq0gebr35', 'cljaoxzmr00343n6lfoaxldb1', 'cljvx6sap00473n6la59xatps', 'cljwr5ix0000o3n6luidaxct4', 'cll8k49ga005n3o6lrg92111d', 'cll451mvy00713o6lvcdckobf', 'cljr4nffe000c3n6ldehpf7mo', 'cljo7d25e002v3n6lmau0u1wr', 'cll8f95iw004n3o6l6eqevch7', 'clk6lnf1400543n6l9daxq3je', 'cllc248am002q3o6lx58pvcyp', 'clk7wguxr00613n6lcojvp2w1', 'cljwrcrjm001n3n6lpfcn7b9t', 'cll8k4oby005r3o6ljjncvkp8', 'clk6lc90h003q3n6lppkjh9f0', 'cljxl011m000p3n6l374n38ms', 'cljwr3zxa000c3n6l3s75sppt', 'cljwczhuy000h3n6l84ebe3ao', 'cljaqocwq00a23n6lj8kgw100', 'cljr6gdt9003k3n6l77qag0tc', 'cll8h0wn0006c3o6laag88cor', 'cljxjsxio000x3n6ldkxm7gs4', 'cljw7ewnf005o3n6ltnxeqg54', 'cljxhvgec004w3n6lbq9yhtpd', 'cljo7pfaj00433n6lnt8eedbx', 'cljawf4e4000h3n6lri4oz9uy', 'cljo78m9d002f3n6lveadgdhf', 'cll7pumim00413o6lxq82nwrf', 'cljwtdtig000m3n6l1wnao0fx', 'cll1tqcty001z3o6lieri2lsg', 'cljawsyn6001o3n6l6z20teaj', 'cll9w0eci002z3o6lpytk6e0z', 'cll1tjali000v3o6lz1q0sbhh', 'cll9uee8e000y3o6l6j48z4tx', 'cll4vednu00513o6lipvtz0oz', 'cljxi10qi005k3n6lyaoabejr', 'clk6l0fy800293n6lhh1t24pc', 'cljwrnrmd00393n6lvp4oc8sk', 'cljargosy00cx3n6lm6atozrz', 'clk7vl6yu00313n6lknetd6da', 'cll8y8es9001x3o6l3mcv4f58', 'cljxhla5g003g3n6le1tbxmop', 'cll4sm08e00243o6l77ggpy7n', 'cljwsf1ex000y3n6l13irae1p', 'cljaqdzxw009c3n6lo9tgpswu', 'clld2t47s000c3o6l0a95gyc2', 'cljvwlhib00323n6lu8rksy7r', 'cllc10m7m003u3o6lzizfrn1k', 'cljrrf2gf00043n6lx8hwp6k3', 'cll7p6z61007d3o6l15kfwloq', 'cljarn9oy00dl3n6l8pg9exfg', 'cll8i48z500123o6labtj33qq', 'cljr6zqwu001l3n6lc40rmemx', 'cljwbdhda00093n6lz1d59m25', 'cll9wlgu7005j3o6lefspaeem', 'cllepefwp00133o6lt28nvaio', 'cljxi82s2006k3n6l8u7gqntq', 'cljr33rc7000g3n6lt9i4czix', 'cll9yab0u003y3o6lj0ncffa5', 'cljxhirrl00373n6l7xsxnxki', 'cljwrqwc9003n3n6ltzrvje9c', 'cll8z5xql007n3o6l052xywc3', 'cljo3b2dy002l3n6l270vpzp8', 'cljw7r04700753n6ljc4jrdyl', 'clk6ldflp00423n6l9q27b78p', 'cll8i3cyg000x3o6l2tosywms', 'cll8k3z7n005k3o6lps3evia5', 'cljwrn1is00353n6lsjuek9uh', 'cll8yp0ff004t3o6l10qclwhs', 'cljw74mqw003u3n6lmj3h1v6x', 'cljw614kh002n3n6l98x3nnr6', 'cljo8e32t00643n6l37ncjeic', 'cll7b79a7001r3o6lmg9zv8kx', 'cll7axk4n00143o6lbbb91v5y', 'cljvwa0xv001l3n6ljqjllmr7', 'cljwtki9b001f3n6lx9z4sqj7', 'cll4scju3000h3o6ls1eg53cq', 'cllenlhp2002h3o6luagefsxk', 'clk7wq143007a3n6lbpbb74l7', 'cll9xf4z7001m3o6l1kaimbdt', 'cll9vqxj200233o6lbpxp789r', 'cljs3r7oy003g3n6lkf4rejsb', 'cll8ycy3i00313o6l7c95r6hw', 'cllc0owv5002i3o6lf8nc9wez', 'cll9x90dx000h3o6lbcp3ofpv', 'clk6lmzcw00503n6l851ywdpd', 'cll45cd8v008j3o6lylxngkv3', 'cll7pkx8m00233o6l364wm6k4', 'cll45bo9v008c3o6lli3qkb72', 'cll7pk4bv001v3o6l4rvsbn9u', 'cll8ex4h0003i3o6lmjfi5kde', 'cljw6om0e001f3n6l395dmbg4', 'cljo11225001g3n6l7zdk56hb', 'cljo2sm7w000r3n6lixdl066n', 'cljo17jg300233n6lfdzpb7r6', 'cljaqgysf009k3n6ll9eqg231', 'cll9y9spt003u3o6l3sjk40hf', 'cll8i4y5000163o6lrkj1m6h7', 'cljxho16c003w3n6lm2bhcvp6', 'cll45c3m7008f3o6lu5mtrg74', 'cllepaawp000f3o6licwg9yxt', 'cll8lahyq00063o6l3pfgzwtp', 'cljo89aiv005p3n6lqmsre4c2', 'clk7vzont004k3n6l8rzcrabu', 'cll1tcctq00093o6l30ew8fz2', 'cljr658xk00323n6lfid0k0y6', 'cll9xxn1300223o6ld7rnxtls', 'cll44srul004t3o6lx6ivzcz3', 'cll8hx6g8007p3o6la2gkhgoz', 'cll8fqm0r000f3o6lzmwvuf19', 'cljwssdku00093n6lv3u03u8b', 'cllenppvx002t3o6lxhjlee0a', 'clk7v95jh001f3n6lh0f2hs6i', 'cljxigc9k007p3n6l1tr0hmno', 'cljw75out003z3n6ldarll2qz', 'cljs1rs7s001g3n6lza2i5sdx', 'cljo2yqzp001i3n6lg75p7wtq', 'cljwbmxjq00163n6lbdlems0m', 'clk7vfg2700273n6l7uw034tx', 'cljvwfmxb00293n6lyo0ffqwb', 'cljw6vv80002m3n6l14b2y4jg', 'cljxl3joo001g3n6l4rl9x2md', 'cljws2r5g005a3n6ll46hxg3f', 'cljaox711002w3n6lwjtc0qb3', 'cljwr4g4a000g3n6lp1himnx5', 'cljvxflwd00573n6lpn9dt7mc', 'cll8ff8mp005g3o6lfiez3fs3', 'cljnyxctl001v3n6l9flqlh5e', 'cll4sddkv000o3o6lpm75iyoy', 'cllam232500093o6l726e7cf4', 'cljwd7gqa001m3n6lteailldg', 'cljwtfmw9000u3n6lwarp8uit', 'cll8hy6r8007x3o6lh12r2bhe', 'cljvxal6r004r3n6lykfghhom', 'cll7p9lfp000h3o6lrfsvfvud', 'cll45jwip00a93o6l9kjkmwjf', 'cll8ydvhl00393o6l4pn0f0db', 'cljwrw6js004g3n6lnv6bbczy', 'cll45htx3009r3o6laazc10p1', 'clk7wilpu006a3n6lly2g44il', 'cljarhldg00d13n6l7utw0lqn', 'cljw70yj4003d3n6lzhjn55nb', 'cll9w42za003b3o6l0zdfv5bn', 'cljwroo0h003e3n6l4gxaa049', 'cll7qcz84005l3o6l0u2rjgr3', 'cljo32ik2001y3n6lmmnu0sgo', 'cllapanh9000m3o6l7bvi0buh', 'cllc136vu00423o6lz1gyo2p8', 'cljwrdzna001r3n6l0rabjj56', 'cljvwg5ec002d3n6l2md9azmd', 'cll7psrig003q3o6lqzf1eqde', 'cljxloy3800263n6lyoi0r1ft', 'cll7oi4hc003q3o6l89somaig', 'cljr4k94300043n6lau0823r3', 'clk6lapp7003e3n6lnpqtai54', 'cllam9w82001f3o6lb3j1vm9l', 'cljrrgtez000c3n6lkj3o1mlv', 'cljwcrswx002c3n6lwn7iv6br', 'cljxidr5v007g3n6l7sp6espk', 'cljo7jzuh003n3n6l6ahn59qf', 'cll7bdq38002l3o6l1q2ph1uc', 'cljw2uzhq000g3n6l4hha2c1e', 'cll8k5qsr005z3o6lauk0dd4a', 'cll9uf30j00123o6lw9wpdi43', 'cljw7gpfm005t3n6lfh2c2fbe', 'cll7ofv0l003d3o6lfsogroze', 'cll8hvnj0007g3o6l26dqegsl', 'cljvw26w6000m3n6l6z38a9xm', 'cllc208i9002c3o6ls21a9v6i', 'cljxi1ue5005o3n6lb1dsot60', 'cll45mblp00ah3o6lihobda7q', 'cljs4evdd004z3n6lvr0hypqr', 'cll8ke4qz006w3o6l7wumvo66', 'cllbbsgxm003q3o6lz11hb2tj', 'cll8esfku002y3o6le510a9jy', 'clk7wdvrc005o3n6lo9zqc9oz', 'cll9w8x9u003z3o6lzqucccdy', 'cll8i28ce000l3o6lixho6ri4', 'cljo74u8m001z3n6ly63a0fod', 'cljr42eoh003b3n6lo0fmcy5k', 'cll8yirpz00423o6ltb2zalyj', 'cll8y97aw00253o6l8vtn03pu', 'cllbywkb000103o6lmam65od6', 'cljarkax200d93n6lukx52g1t', 'cll8h1d5f006g3o6lhytfdu5d', 'cljxgsqgt00043n6lvj5enj3z', 'cll7qxr1s008p3o6lx8jmlf7t', 'cljxjjxh5009f3n6ltrwv4sda', 'cll8hwczx007k3o6l9iqpma0o', 'cljxjnwb200043n6l82lqfqs4', 'cllc0wbia003c3o6lkgntlxxj', 'cljaruc8p00ea3n6lpgcgdo3d', 'cll9xyhl400293o6l0ais7ans', 'cljxm3vy3004q3n6lbbo4t0af', 'cljs3k2d600303n6le6jwya03', 'cljar878f00c03n6ly2v2ay88', 'cll7auory000n3o6lkh50rbef', 'cll9wckf9004f3o6lcoi6h59t', 'cljs40rs9003r3n6lcwzznnbm', 'cll8yglwy003m3o6ln0ykr332', 'cljwrkef8002o3n6lp21lyyik', 'cljw6gacy000g3n6lot0jsum0', 'cll8h3m1d006w3o6l16evhm2z', 'cljw6khdg00103n6ljsgnaaq3', 'cll9ukoss001y3o6l50e0q3lu', 'cll7riaoo00bq3o6ljjm9tgdk', 'cljo1f64d002w3n6lesxbgihr', 'cllamo3pq003d3o6ldsog6gb1', 'clk6kdbvm000g3n6ln30mqzw6', 'cljawkh09000r3n6lmz56x0qk', 'cljxhpdds00443n6l04zwwcby', 'cll8eyoab003q3o6lje0rebim', 'cljs1ngj000183n6l5u5lc6lr', 'cll4scvxa000k3o6lyevj3yli', 'cljw3yogu00093n6lsap57tt4', 'cljaonfdz001q3n6l4qtxtuut', 'cll44tnb500513o6l5zdd2bsb', 'cljvwngzn00373n6l5ma7hfra', 'cll45rg0v00bl3o6ls2ix6zfv', 'cljo71lk4001j3n6lghxvvz0r', 'cljarbn1y00cg3n6l1u4i0d5l', 'cllafmjc4000e3o6lz21wye9y', 'cll8fg7sv005l3o6le13nrlr6', 'cll8kzv9600923o6lnmbhp88u', 'cll74sxdi002s3o6ljm7imxsb', 'cljwsw2aj000n3n6l8leupj5h', 'cll8ee0we00143o6lutcc0bu3', 'cljdyypnd000c3n6lp8jaku1w', 'clk7v207i000r3n6l7cnpz7iv', 'cll8huk7100783o6la7heoyxn', 'cll7ob018002y3o6lngai3iq4', 'cll44wafv005p3o6lsd1boi3s', 'cljxjgy7n00923n6lf1jskzuu', 'cll9uwwio003s3o6livli3vfd', 'cljaommx0001m3n6lfb2cuqgv', 'cljxjq1v8000h3n6ljow5w2g6', 'cll44vscs005l3o6lizvxoeqj', 'cljw48sqo001x3n6lui1j6arn', 'cljr5rpf8001c3n6lpd51eb9m', 'cll7qgtea00693o6l50q3lo00', 'cll7556nj003u3o6lzhcysmtf', 'cll45yous00cl3o6l3amef1hg', 'cljxji13l00963n6l0o7vmhnf', 'cll4seb5n000v3o6lwdsjtqzy', 'cll7p2ixg00683o6lhbtcct1j', 'cll8zd2wr008w3o6lfbhuchnd', 'cljax80ln00323n6lqpmv3bw3', 'cljaruue100ee3n6l6kv3vv1h', 'clk6kqt7000163n6liyzaaif6', 'cljxl4f0n001o3n6lbbq2h864', 'cllc0v8c100363o6l0tnitjgo', 'cljarj6rf00d53n6ljtivf4q7', 'cllc2ljyk00413o6l0hx0vps0', 'cll8isulz00393o6ljthp6l7e', 'cljxlw9dn003i3n6l27b3p6y1', 'cll8eqzi1002q3o6lyzm2v8ri', 'cll8jx4k3004h3o6lsepmx7fp', 'cllbc9m7e00073o6ldmh5cpl5', 'clk7vifr9002o3n6lofjqr29e', 'cll9uz70r00453o6l3c7yy5r2', 'cljw78k2f004h3n6lsbwyu559', 'cll45h3z5009k3o6lfvvbtj9i', 'cll7o3c6p002p3o6ldijxknj2', 'cll1sv6l6000o3o6lnedidemq', 'cljr44fvu003l3n6l5mjp10bs', 'cll1sweuf00103o6lbl3xk82g', 'cllapcuxj000y3o6lja30yzic', 'cljo1a363002j3n6lcjk9wghk', 'cll9ve3jb00093o6lsp1bg88v', 'cljxi0h9y005g3n6lbv12po7w', 'cll7pg92t00173o6ll4zeix6p', 'cll9x793900053o6l4pkc6uco', 'cljvwi48w002l3n6l60p46q08', 'cljo8cyv500603n6lyl148tmg', 'cll8yw7dq00613o6l2kunfi99', 'cll74qs2e002c3o6l88xwhcsc', 'cllano2w1004y3o6la5r54560', 'cljvxhzpm005f3n6lup499agk', 'cll4sqvdl00383o6lhsd4an2j', 'cljo84jju00553n6lmgm4dqtb', 'cljvxjkga005m3n6llroca6j3', 'cll7plefm00273o6lrluiavsv', 'cljwd0zll000q3n6lg38q5kzy', 'cllc1utlu001r3o6leofk2m9w', 'cll8eztoy003u3o6lpqpiefk2', 'cll44ar0q00153o6luv35dhl0', 'cljr5iki0000j3n6lwi8z5nh6', 'cljnypth200163n6l1dfd5hbf', 'cljo2pc2p000c3n6l5f5bhadf', 'cll8z6f5h007r3o6lt29n5zmi', 'cll44mu2g003h3o6lo05v7xlw', 'cll1tgy4z000m3o6lon7dsr95', 'cljwslbss001w3n6lr5pf4t4k', 'cljvw8q00001h3n6lpt6wb3mz', 'cllanxilv001d3o6lavwr416p', 'cll7nuzfe001r3o6lzh1nyjnq', 'cllbaqgt6000y3o6ltgx2ezg4', 'cll7r1ayz00983o6lyniyjad5', 'cllenmtfi002n3o6l56xcf72f', 'cll7p93u3000d3o6l2xmwkb5o', 'cljwrljou002w3n6ld0cnkyyv', 'cll16hpim00363o6lw2vi7j2h', 'cll4vcbd6004p3o6lid3c1g9g', 'cljwrtedu00413n6lty9mdlvq', 'cll9x1wxt007i3o6lxiyp6gs2', 'cljnz5sb1000o3n6lntosswwz', 'cll1stw3h000c3o6ls181yumr', 'cljw7knmw006a3n6lz5gfb0bo', 'cll44l89z00353o6l1ve62vk7', 'cll1tmroq001h3o6loxlzrj86', 'cljarcfa700ck3n6lfww83ig1', 'cll8e9sgi000m3o6lveq1w2fr', 'cljxi6yx1006c3n6l55izjvr5', 'cll8ifor6002e3o6l1zwhhwps', 'cll9uwjqd003o3o6lcu3t5orv', 'cll7rbjqf00ah3o6lavxphy3j', 'cll8i2wa6000t3o6l1lq6m3k1', 'cll44md5y003d3o6l2s8g314n', 'cljw7uo8h007y3n6lyok5axbw', 'cljwtauxc00093n6lcfjk03tn', 'cljwteh0c000q3n6l0atu1s0y', 'cll7pofeu002z3o6l476wbj4v', 'cll8xynyj000h3o6l9y7gaf94', 'cll8kdgma006s3o6lsehgsfea', 'cll8ywztu00693o6l3vf6is8g', 'cljo7iy1d003j3n6lvhf98cre', 'cljw77snx004c3n6lvetndlu2', 'cll9wf622004n3o6lbzugnnix', 'cljwbrss4001k3n6l6oaj5ayy', 'cljw6r61s001t3n6luv0xuqsw', 'cll8jvu18004d3o6la711z911', 'cllamwa5z00493o6lnpn080ov', 'cll7bhnmu00373o6lsa7y9j51', 'cljxib3tw006w3n6librdqi7p', 'cll9vjtaw00133o6lyz1ucmc4', 'cljo7c1po002r3n6lbm26bmg1', 'cljwrgl2p00243n6lwusay4pt', 'cllba1khy00093o6l3l358uz7', 'cljxhw08900503n6l3nyj2qhl', 'cll7nljgk000d3o6l3psndypi', 'cljw46iz7001k3n6ln8mclrmb', 'cll44faz0002b3o6lkfu2oggx', 'cljo70i8d001f3n6l2s1ykcxd', 'cljr676xh00363n6le4sij6m4', 'cllc2ioa7003q3o6lns793jmg', 'cll1tjqey000z3o6l9rxk74ly', 'cljxhso2n004k3n6lczes9nyj', 'cljr3n1ca001r3n6l2qydcdn2', 'cljaxb5y2003e3n6lj1j9qvav', 'cljw66tru00363n6lul1gvz3v', 'clk7v85pj001b3n6lhmu8dk9m', 'cllamgxfm002g3o6l9dg956zh', 'cljr64k4y002y3n6lqg5rmn1o', 'cljs1t95n001k3n6ldcxlogmd', 'cljr632e1002q3n6lcmbpwpnh', 'cljxhcwlt002g3n6lpnrdf5mx', 'cll8ihonw002m3o6lcgibt5w5', 'cljnz6vg1000s3n6lxxknbe72', 'cljxkjjxz001n3n6lui5d54d8', 'cljo7e7vi002z3n6leux4ut5h', 'cll8zbjbh008j3o6lxbl4kovp', 'cll9xdfxd001c3o6l6mds2dvp', 'cljxkmtb900203n6l4tapnb5w', 'cll74oaue001s3o6lokpt6r3r', 'cljxicsda00783n6lzoxzdb0r', 'cljxh46p8001j3n6lnjlzlxpd', 'cljw6dlqu00043n6lth228e1x', 'cljvwh32z002h3n6lqbpciciy', 'cljaxbq22003i3n6lmzka93uq', 'cll1suku5000i3o6l0ztj3m3v', 'cljax40az002t3n6lwspyczks', 'cljr3lvzs001n3n6l5805w9wq', 'cll8h1zss006k3o6lophvktm7', 'cll9xelef001i3o6lz3xa6hw6', 'cll7nuif7001n3o6ltux62vsz', 'cll9vy38r002r3o6lllypg329', 'cll9xxd7l001y3o6l53bs9rox', 'cljwd53nu001a3n6l8lu2lz3u', 'cljo1twwk004t3n6l8leun97q', 'cll8je3cl00403o6lem0c5jxl', 'cljw47neo001o3n6ll8fh5krg', 'cljwskeid001s3n6lrp3je2km', 'cll44m0to00393o6l0zg49ou0', 'cll16nhyo004i3o6lhic41bhi', 'cll8kem2400703o6lhgbdrzn6', 'clk6l28gd002l3n6l0sh6iyud', 'cljs424vc003v3n6l00y4fdlb', 'clk7wcql7005g3n6lqmwzxquh', 'cljs4qzpx005v3n6lpl170g3d', 'clk6lhj5y004l3n6l6hlpkdfp', 'cll8y6s9i001s3o6lc0zvi1j4', 'cll8jctrz003s3o6lrq9j7upl', 'cljvxl9n3005u3n6lqtp6f009', 'cljwtogit00203n6labkjs3gk', 'cll9xcslc00183o6l9eyhnguz', 'clk6ko1kf000w3n6l3wq5uxbi', 'cljw7tfqg007p3n6l0nwqb8w1', 'cljw7u9tn007u3n6lq4pt7x51', 'cll4st1rv003o3o6l7sfx8uhq', 'cll9x2r7c007p3o6l4dqekhnl', 'cljwrxvse004o3n6l8gzn0koh', 'cljawvm5k00203n6lpalr2ose', 'cljxjew0v008u3n6lfp6v2l22', 'cllephqq9001m3o6li43x1ynu', 'cljvxkgf9005q3n6ls1lts5ug', 'cll45shi700br3o6l4ggnfmtz', 'cljwrxi03004k3n6ltnmu15ks', 'cll8k1ddg00503o6ld0ttyqyk', 'cllba1zj9000d3o6lsgqt9rxz', 'cljo7eycd00333n6loe70zhzt', 'cll8z9hk100883o6l3llduslo', 'cljxlvf5h003a3n6lqssm40es', 'cljxh25bj00183n6lp4ev8gns', 'cljxih2v7007t3n6lbkgqlfoq', 'cljap3krs004b3n6ldjwuf1cm', 'cljw6sanb00213n6lzcmw192b', 'cljs4o2ps005r3n6lxofiekfe', 'cll9y4lev00303o6lah01qglm', 'cljxlohpd00223n6l1ev4lh2f', 'cljs4cd14004r3n6l3pu26q0r', 'cll7pvj2400463o6lfkjwek8x', 'cll8yj3l800453o6lacid5bqv', 'cll7p5o5700713o6lf77pcwo6', 'cljxjiy2z009a3n6lt8814xvn', 'cljas5esv00fn3n6lewd5xqdl', 'cll7p4tbq006t3o6lbgfi7uc9', 'cll8hytic00813o6lfvxhgo3z', 'cll7ppx1b003b3o6l7e9k5dwc', 'cll8fvs5r00113o6lp21ek1dl', 'cll8i1ry6000h3o6lro9qix4i', 'cll167h5e001i3o6l5mpbhm7y', 'cljxlvp0c003e3n6lhbqb87qc', 'cljwszxbr001c3n6lb5como0l', 'cljvwbtul001t3n6lu4qeic4a', 'cljwd7wey001q3n6lgwlba49x', 'cljs38rol002c3n6lnpdlbyoq', 'cll458jkt007p3o6lzvdpvi7z', 'cll45ct6p008n3o6ltsoy1y7d', 'cljawy3jy00283n6l7xw1p3ab', 'clk7fg9z9000p3n6lwqf8ijr7', 'cll8kklqc00843o6lqv7v4xnl', 'clld37oaa002m3o6li6dyqsp9', 'cljo72lvo001n3n6lw5vlaf38', 'cll8eahs6000q3o6lzemkbi27', 'cljw73je6003m3n6l9d63qd2a', 'cll8z3wz6007f3o6lhaskdeir', 'cljs11rxw000c3n6ll6xgdtq5', 'cll7pecrs000y3o6lonjwilvk', 'cljr41gm600373n6l0lw102v7', 'clk6l0vqc002d3n6lfp1rdygf', 'cljs2wgbs001w3n6lh1rtv3be', 'cljxiakgy006s3n6lnv6bs294', 'cll7nsa9l001e3o6ldsgyg1qy', 'cll9vewwu000h3o6lb7juql1r', 'cll8fp9jh00043o6leq1pvm6n', 'cll4sduso000s3o6lkjb878it', 'cll8erp8i002u3o6lvgyz4i4d', 'cljw7257w003h3n6lgnsitrvd', 'cljr306j300043n6lha3jpr8z', 'cll8f8oxc004j3o6lf22qu0lg', 'cljo17yhq00273n6loaq9lln6', 'cljrrkkuv000o3n6ldcm0l99u', 'cljw7pk60006w3n6lud1dvft9', 'clk6lcq54003u3n6llqcmuee5', 'cll8ytqe1005j3o6l3r7h2zkx', 'clk7wi2pt00663n6lc98qnzvz', 'cljr3qjx300233n6ltiah1f9z', 'cljo1nlnw003q3n6lpt6tvjf5', 'cljaqdekt00983n6ldn9m222j', 'cljw6n7mg00173n6lnk3lmru5', 'cllc0reid002s3o6l3w7ki23w', 'cll8l6r0y009s3o6lb2t64r1s', 'cll7pmkwd002j3o6l8zgf0gll', 'cll8zcn9d008s3o6lsr0cpuit', 'cljw7mjyv006j3n6lr6d34gvu', 'cll1svwwf000u3o6l1ek6dzq5', 'cll1tta09002d3o6l4kroorkw', 'cljwbhsda000p3n6lo07fktzr', 'cljxkinfg001j3n6lrled80pl', 'cljr5jk0h000n3n6la34mkdfz', 'cljarlbch00dd3n6l9jaubrxq', 'cll44e48l00233o6lu0msccp4', 'cll1thi3n000q3o6lnr0j6u0f', 'cll7bec6c002p3o6lddbs22oo', 'cljr6ohvb000k3n6lfqwsgy5d', 'cll8iagot001u3o6ll0or5dcd', 'clk7vy9ja004f3n6lhju0ini5', 'cljvw49xy000y3n6lgej0434g', 'cljw2m5z500043n6lddrtk80j', 'cll8gq7i7004l3o6lby0zk8l9', 'cljr5tz3c001k3n6lfc27vpnp', 'cll453dco007d3o6lyqagucjd', 'cll8yi9av003y3o6l013h50cq', 'cll9wq8oc005z3o6lgzuw4rfo', 'cll8kijic007s3o6lbxho0i7s', 'cll460wqp00d13o6lp5bsf1ku', 'cll9vfa44000l3o6luf8qzkqs', 'cll45xfis00cd3o6l8ljdswtv', 'cljs43skx00433n6lxa7dsu3i', 'cll1sxtm2001c3o6ljrt1rg3u', 'cljo8hcfv006k3n6lgrx0fcpx', 'cljo16xom001z3n6lfhv0be5m', 'cllanslnj000a3o6lyqljitdf', 'cljwno0m600043n6lq54umusu', 'cll44p7pf003x3o6ll7fkmgvc', 'cll749ze3000s3o6lpoucotf0', 'cljxhm9kc003o3n6lint153vq', 'cljo73h3a001r3n6l786njnar', 'cll74njy2001k3o6ls5l7mt08', 'cll8kxq55008t3o6lg6kdl7lw', 'cllam6iz2000n3o6l64srxfcp', 'clk7h0iwr001i3n6l7zutfxo5', 'cll7oc4r400323o6loioj0j28', 'cljo73wlq001v3n6lwewuob3u', 'cljwcu98s002o3n6lgvojbey3', 'cll7awma0000w3o6lrtedrldd', 'clk6l7f4h00353n6ldqj6x8z2', 'cll8y0q36000r3o6ljimeybn1', 'cll44t8c3004x3o6llo4b3z0m', 'cll9vej3n000d3o6li0zfmfjh', 'cljs48vzw004j3n6ld4gmox8u', 'cll9vx1ut002n3o6lnaazymt0', 'cll44ukc800593o6lcuyd2sai', 'cll7phgq7001f3o6lhvyp3qkx', 'cljarvh1700ei3n6lkjjreiz2', 'cljr3tvxt002f3n6lui2z8qw7', 'cll7qrh84007o3o6ljr3cnbp7', 'cll8icqaq00223o6laukxqg3q', 'cljr62h3i002m3n6l9z24blly', 'cllbyzkkm001i3o6l45u1jeg3', 'cllc0t1oc002y3o6lz7j1wq4l', 'cllfygkas000a3o6lz5uy81n1', 'cljo32xnz00223n6lvxzyif3y', 'clk7wnlq4006t3n6l6bimz9pn', 'clk7gz7xe001a3n6lwzc45ru5', 'cljs4mt5j005n3n6ladrkpabn', 'cll45n5z700as3o6lqvsiny7q', 'cllc26p7b002x3o6lmz7e7jh5', 'cljaycatw00113n6lai3dpr03', 'cljr5hwxc000f3n6lof5w9tyt', 'clld3ef9b003p3o6l1f3mrlez', 'cljwrs3ox003s3n6l3qiz89pr', 'cljarmcm700dh3n6lxw24hxgx', 'clk6l5hsj002w3n6lrta6djle', 'cll8fwfcz00153o6lirqzxw1f', 'cljo16d9a001w3n6lg07nk76y', 'cljw7drsi005f3n6l5aaw5d6j', 'cljr6cam3003f3n6lzc4mo5ig', 'cljxhkcct003c3n6lvn7vvhnk', 'cljxlptaq002b3n6l5ppph0z3', 'cll9wu7p1006f3o6lvttbgw8r', 'cljw2ochy00083n6l3ry9cvgy', 'cljw6u6lf002d3n6lo0tu78zp', 'cllepbkly000l3o6l0iowjhfk', 'cljxkz0sw000l3n6lag5efqf7', 'cllbyadr3000a3o6ll9sc6eii', 'cllc295kl00343o6ldnlgsc1i', 'cljnyqv6p001a3n6ltpn3im47', 'cll8yfox7003f3o6ls5wjgmkn', 'cll45y7bn00ch3o6lda25s1bw', 'cljxhdl5y002k3n6lryoxnto7', 'cljw743d9003q3n6l8tpmdqtf', 'cll9vb7gq005q3o6lmoiqs9sw', 'cll755ukj003y3o6l82yyhwzc', 'cljaroguw00dp3n6lhfddiadu', 'cllami1j5002o3o6lds4184l6', 'cll1t57ph000v3o6lwjhz9zz2', 'cll7ate0a000j3o6lurub2tak', 'cljxjfx4c008y3n6lvumawda5', 'cll9wibkn00573o6l2f7dlhrh', 'cll4ssg7d003k3o6lp1s8zs9g', 'cljs4uncs00643n6l8sijg6vc', 'cll8kjx4500803o6laioc6a6l', 'cljaqfh2m009g3n6l1e9tgem1', 'clk7vopzf003b3n6ls09yk91c', 'cljo2it2u00043n6lwbfknran', 'cljr5wgkf001w3n6lwp1w3wlu', 'cll9wxj1v006z3o6lek7gwmy4', 'cllepj4kb001s3o6le0fhjor3', 'cljw4az3t002a3n6l7j3i4lee', 'cljawx5x200243n6lr7umgyvq', 'cll8gdntt00353o6l94nu8a89', 'cljawh4c7000m3n6lkz9es9bl', 'cll9ucwud000q3o6l14sjstwt', 'clk7w3ipd004v3n6lvxg2f2do', 'cll9w4rnj003f3o6lzdlqqweb', 'clk7h4oki001y3n6l7typ149i', 'clld38e4i002t3o6l0iije9fu', 'cllc21h2d002g3o6lq9rx96l1', 'cll74psft00243o6lzpm59k27', 'cljwd0g2x000m3n6lgzb8jcwo', 'cljaoxl8100303n6ll1waw5n0', 'cll74aq06000w3o6l1li6whdq', 'clld370jn002f3o6luhtp48iu', 'cll7oy5jl005r3o6l399jkpuj', 'cll7r6v4500a13o6lddr88noj', 'cll8f6ept00473o6lw6kjtfk7', 'cljw6zrh800353n6l76psqelc', 'cll9xy2d900263o6llvx82ob0', 'cll7ay9td00183o6li3x7vks6', 'cll8yu4li005n3o6l7zfk7m67', 'cljr4rcwq000s3n6lxu1mjryx', 'cljr5ycaw00243n6lnkzsmyhl', 'cljw6392x002v3n6l2cmbbtj8', 'cljw3xegk00043n6l9kkmoeco', 'clk7f51es000a3n6l36qtf09v', 'cljo8c0sw005w3n6l9ulr2eg2', 'cljs4htao005f3n6ltnfqcut7', 'cljawzxb5002g3n6ladcuzi1g', 'cljw6jpnw000w3n6lvibo5ynh', 'cljnyzwbo00043n6lugyldlhu', 'cll1tnnrs001n3o6lkc9v4mgo', 'cljo30lnz001q3n6lopfty7q5', 'cljo817z5004u3n6le3srfa4t', 'cll4sil1p001k3o6lzcqlflci', 'cljw69f3h003a3n6lk2qd3f08', 'cljnyl8fe000r3n6lrz4uf8bb', 'cljxi7kt0006g3n6l9obrwgde', 'cllamcout001v3o6lx51e4fcu', 'cljs47o7w004f3n6lxha5i3or', 'clk7wj19b006e3n6lrt6z46hn', 'cll7ouqx5005b3o6l6jpxfc60', 'cljo7s6cc004j3n6lqerc9fdt', 'cll44qpg400493o6lfcd9cdqa', 'cljw6qeiv001o3n6lo9dcmmeg', 'cllbz0tcd001o3o6l9xk6p1rd', 'cljwcxjlo00083n6lkqia9zx0', 'cll8ekggd00233o6lzpy73nhi', 'cllans7ke00063o6lnfjxskgg', 'cllenx426003m3o6ld6v9zx31', 'cll8jurgd00493o6lzdzjcang', 'cljs46rs6004b3n6l7w9axgfi', 'cljxl3w9f001k3n6lf6lezxqe', 'cll9vdoyz00053o6lesqzcat4', 'cll9w9nz000433o6l7wkh825g', 'cljw7c11f004z3n6ldnwe9cqj', 'cljw6a6on003e3n6l34f95ehd', 'cljwsuzo5000i3n6l6fh04vn2', 'clk7v4dfr000z3n6lthxv7b9z', 'cll8jyjjy004p3o6l74mpoz40', 'cljo6xjhg00173n6ldwpsvaln', 'cllbjs73i000x3o6lx7zbihtv', 'cljaqunj200aj3n6lm8st67pq', 'cllba5q1o00113o6lst176ho2', 'clk7vd8v8001z3n6l4h45mbxl', 'cll74iurd000n3o6l11c4d3dr', 'cljaolsgy001i3n6li20nkrgp', 'cljw456fl001b3n6lgrikkdsg', 'cll44zhfw006h3o6l8nn8i80l', 'cllanuda0000q3o6lqaqrsc0c', 'cll7p45l4006l3o6labj32ddr', 'cll9vw6df002j3o6l4u88m6kj', 'cll44rrtg004l3o6lodazy5i6', 'cljas4dqj00fj3n6ldw6wiwpy', 'cljxltgmi002x3n6luf6r5xa4', 'cllamwozn004d3o6l7puz81dt', 'cll4sbha700093o6ly9spvstq', 'cljapbtwe00543n6lsdbwbhhi', 'cljo6na9q00083n6lajw2or7e', 'clk7wg3vw005x3n6lh068vbd3', 'cljvwd8v1001x3n6l4kctzozr', 'cljwr30g000043n6ls0cp5ety', 'cljvw2pll000q3n6ljsxpln23', 'cljr5unji001o3n6lapqpzkio', 'cljr4ocop000g3n6ltgnuhwj9', 'cljr5pdec00103n6lxb9mplvp', 'clk7fexpr000l3n6l3fnz76zq', 'cljxh5uz0001r3n6l64mpm5b3', 'cljawurcg001w3n6lbuefy26i', 'cljwsiehw001g3n6lmr006lhr', 'clk6kym3f00233n6lkpm2dxnq', 'cll8i98ro001q3o6l6me0cbul', 'cljs37jz800283n6lb3g7s5a5', 'cll9wv828006n3o6llgnvk6fw', 'cljwtlo9i001k3n6l5haobi9m', 'cljo7bfwl002n3n6lnbxuwj21', 'cll8y3gpc00193o6lk70shwvu', 'clk7vs979003r3n6l21728wxc', 'cljwbp6ll001b3n6lcbxh7liq', 'cljdytzd800083n6l1vuekg83', 'cljvw6qaf00193n6lxyocxz4f', 'clk7vr8n7003n3n6l1mm7nwq5', 'cllba3xz8000p3o6lpaedkp88', 'cljwswmbz000r3n6lijh3r47s', 'cljwshr10001c3n6ln1kkpqs6', 'cll7phxi9001j3o6l45fcb97i', 'cll9x7wof00093o6lyuh32onb', 'cll74rnnc002k3o6lgyr24huh', 'cll9wtk9j006b3o6l447t02ju', 'cll8z8cjo00833o6lye7ul3os', 'cljxhzmht005c3n6ljn9iszh2', 'cll8i2l3w000p3o6l8vxxvet5', 'cljxhh8ya00333n6lmn4bfa1d', 'cljxh4sqp001n3n6lrk6rnevw', 'cljr31smq00083n6lcpk6x77s', 'cll74i7aa000i3o6ljiq0nqr2', 'cllbacor3001n3o6l6shinqqr', 'cll45pxyw00b73o6loem485nq', 'cll74k2q6000v3o6lkwwid8uy', 'cllenjarj002b3o6ldef7ptm7', 'cljw3ziud000d3n6lavym94ol', 'cljxi2qbp005s3n6llajez7qb', 'cll1tpvdm001v3o6lpqzlnorv', 'cljvwb1h6001p3n6l138k9qo4', 'cll8ysxvg005f3o6lyxwy9am9', 'cljxm0q9n00493n6l1zgi8j4p', 'cljr4pd4f000k3n6l64jbh99c', 'cljarw4ip00em3n6lp4xcmkcb', 'cljo0ytcr00143n6lf5yeso30', 'cll4vcq7i004t3o6ljvfqfw5h', 'cll9usru4002x3o6lx0n272sp']\n"
     ]
    }
   ],
   "source": [
    "# Load annotations\n",
    "annotation_path = \"/home/henry/robo/cis5810/final/updated_dataset.pkl\"\n",
    "df = pd.read_pickle(annotation_path)\n",
    "clip_label = df[['seq', 'gait_pat']].drop_duplicates()\n",
    "clip_angle = df[['seq', 'cam_view']].drop_duplicates()\n",
    "label_mapping = {row['seq']: row['gait_pat'] for idx, row in clip_label.iterrows()}\n",
    "angle_mapping = {row['seq']: row['cam_view'] for idx, row in clip_angle.iterrows()}\n",
    "\n",
    "# Load all sequence directories\n",
    "feature_dir = \"/home/henry/robo/cis5810/final/dino_features\"\n",
    "sequence_dirs = [d.split(\"_\")[0] for d in os.listdir(feature_dir) if d.startswith('c')]\n",
    "labels = [label_mapping[seq] for seq in sequence_dirs]\n",
    "\n",
    "# Count occurrences of each label\n",
    "label_counts = Counter(labels)\n",
    "\n",
    "# Keep only classes with at least 2 samples\n",
    "valid_classes = {label for label, count in label_counts.items() if count > 1}\n",
    "filtered_dirs = [seq for seq, label in zip(sequence_dirs, labels) if label in valid_classes]\n",
    "filtered_labels = [label for label in labels if label in valid_classes]\n",
    "\n",
    "label_encoder = LabelEncoder()\n",
    "y_encoded = label_encoder.fit_transform(filtered_labels)\n",
    "# Create a mapping of labels to their encodings\n",
    "label_to_encoding = {label: idx for idx, label in enumerate(label_encoder.classes_)}\n",
    "encoding_to_label = {idx: label for label, idx in label_to_encoding.items()}\n",
    "encoded_label_mapping = {idx: label_to_encoding[label] for idx, label in label_mapping.items()}\n",
    "\n",
    "# Stratified split\n",
    "train_dirs, temp_dirs, train_labels, temp_labels = train_test_split(\n",
    "    filtered_dirs, y_encoded, stratify=y_encoded, test_size=0.35, random_state=42\n",
    ")\n",
    "val_dirs, test_dirs, val_labels, test_labels = train_test_split(\n",
    "    temp_dirs, temp_labels, stratify=temp_labels, test_size=0.5, random_state=42)\n",
    "\n",
    "print(label_encoder.classes_)"
   ]
  },
  {
   "cell_type": "code",
   "execution_count": 4,
   "metadata": {},
   "outputs": [],
   "source": [
    "# Initialize Dataset\n",
    "train_dataset = DINOFeatureDataset(\n",
    "    clips=train_dirs,\n",
    "    feature_dir=feature_dir,\n",
    "    label_mapping=encoded_label_mapping,\n",
    "    angle_mapping=angle_mapping,\n",
    "    sequence_length=20,\n",
    "    downsample_factor=3\n",
    ")\n",
    "# Initialize Dataset\n",
    "val_dataset = DINOFeatureDataset(\n",
    "    clips=val_dirs,\n",
    "    feature_dir=feature_dir,\n",
    "    label_mapping=encoded_label_mapping,\n",
    "    angle_mapping=angle_mapping,\n",
    "    sequence_length=20,\n",
    "    downsample_factor=3\n",
    ")\n",
    "# Initialize Dataset\n",
    "test_dataset = DINOFeatureDataset(\n",
    "    clips=test_dirs,\n",
    "    feature_dir=feature_dir,\n",
    "    label_mapping=encoded_label_mapping,\n",
    "    angle_mapping=angle_mapping,\n",
    "    sequence_length=20,\n",
    "    downsample_factor=3\n",
    ")\n",
    "\n",
    "# Make data loaders\n",
    "train_loader = DataLoader(train_dataset, batch_size=16, shuffle=True)\n",
    "val_loader = DataLoader(val_dataset, batch_size=16, shuffle=False)\n",
    "test_loader = DataLoader(test_dataset, batch_size=16, shuffle=False)"
   ]
  },
  {
   "cell_type": "code",
   "execution_count": 42,
   "metadata": {
    "id": "snFBGg4hK30s"
   },
   "outputs": [],
   "source": [
    "# Model parameters\n",
    "input_size = 768  # Number of features, assuming landmark_11 to landmark_32 (22 landmarks)\n",
    "hidden_size = 128  # Size of the LSTM's hidden layer\n",
    "num_layers = 2     # Number of LSTM layers\n",
    "output_size = 12    # Number of output units (change this based on your task)\n",
    "\n",
    "# Instantiate the model\n",
    "model = LSTMModel(input_size, hidden_size, num_layers, output_size)\n"
   ]
  },
  {
   "cell_type": "code",
   "execution_count": 49,
   "metadata": {},
   "outputs": [
    {
     "name": "stdout",
     "output_type": "stream",
     "text": [
      "tensor([ 0.1997,  4.3476,  2.3776,  0.6587,  6.6159,  0.8270,  0.5229,  3.2376,\n",
      "        30.4333,  3.9017,  2.0289,  2.1738])\n"
     ]
    }
   ],
   "source": [
    "# Loss function\n",
    "class_weights = compute_class_weight(class_weight='balanced', classes=np.unique(y_encoded), y=y_encoded)\n",
    "class_weights = torch.tensor(class_weights, dtype=torch.float)\n",
    "print(class_weights)"
   ]
  },
  {
   "cell_type": "code",
   "execution_count": null,
   "metadata": {
    "colab": {
     "base_uri": "https://localhost:8080/",
     "height": 538,
     "referenced_widgets": [
      "4c79c8c2781c4cf0b32fc171a61b1b13",
      "8db33c38bdc044faa485325dcf93da1f",
      "13b7101cbe984e98baf22bff01537042",
      "848d22aca05e4c86a0a1eb6d4c774060",
      "bcb205c8a06c480da3c5f544e024981b",
      "547673061020455f9504e722918d4460",
      "31b5c1f5e633417fae052dcd458028fb",
      "58dc7d092bba42b99c7250619411eafa",
      "df1c207a4c434ed1b9f58fde4ee717b3",
      "7849c788ac404493b4c30068d6869ec5",
      "14e862028f40495db926c5ab87ce33f0",
      "b3f60f9bc78842fd960ea49829bafaa9",
      "07e1c02738924dd28a24d540dec00673",
      "72c3ee7ee14c49209102c8dc36addcc2",
      "e52fa36f103e44458d133fbc3e744269",
      "21b3ae2f69494b7b8a6b5da6f9e7aa63",
      "fcaba6a1adbb4758af24c0ac04633d2c",
      "b04bb91068524c2092a1381652687a6b",
      "b28cf06c4c164d2bae820a2e5aca96e9",
      "e4e8f1da10fd430da3c31f5cda584da1",
      "ee174f0e8d1e427e9d36f2667fe41a66",
      "a6ccffc7ca044195a2490081ba41caad"
     ]
    },
    "id": "VxYIF-I1atnA",
    "outputId": "ad213804-7fc8-4e20-9941-771a959c0c5d"
   },
   "outputs": [
    {
     "name": "stderr",
     "output_type": "stream",
     "text": [
      "\u001b[34m\u001b[1mwandb\u001b[0m: \u001b[33mWARNING\u001b[0m Calling wandb.login() after wandb.init() has no effect.\n"
     ]
    },
    {
     "data": {
      "text/html": [
       "Finishing last run (ID:vd35v09k) before initializing another..."
      ],
      "text/plain": [
       "<IPython.core.display.HTML object>"
      ]
     },
     "metadata": {},
     "output_type": "display_data"
    },
    {
     "data": {
      "text/html": [
       "\n",
       "    <style>\n",
       "        .wandb-row {\n",
       "            display: flex;\n",
       "            flex-direction: row;\n",
       "            flex-wrap: wrap;\n",
       "            justify-content: flex-start;\n",
       "            width: 100%;\n",
       "        }\n",
       "        .wandb-col {\n",
       "            display: flex;\n",
       "            flex-direction: column;\n",
       "            flex-basis: 100%;\n",
       "            flex: 1;\n",
       "            padding: 10px;\n",
       "        }\n",
       "    </style>\n",
       "<div class=\"wandb-row\"><div class=\"wandb-col\"><h3>Run history:</h3><br/><table class=\"wandb\"><tr><td>epoch</td><td>▁▁██</td></tr><tr><td>train_accuracy</td><td>█▁</td></tr><tr><td>train_loss</td><td>▁█</td></tr><tr><td>val_accuracy</td><td>▁█</td></tr><tr><td>val_loss</td><td>█▁</td></tr></table><br/></div><div class=\"wandb-col\"><h3>Run summary:</h3><br/><table class=\"wandb\"><tr><td>epoch</td><td>1</td></tr><tr><td>train_accuracy</td><td>99.23077</td></tr><tr><td>train_loss</td><td>0.02306</td></tr><tr><td>val_accuracy</td><td>87.10317</td></tr><tr><td>val_loss</td><td>1.25673</td></tr></table><br/></div></div>"
      ],
      "text/plain": [
       "<IPython.core.display.HTML object>"
      ]
     },
     "metadata": {},
     "output_type": "display_data"
    },
    {
     "data": {
      "text/html": [
       " View run <strong style=\"color:#cdcd00\">warm-grass-59</strong> at: <a href='https://wandb.ai/henrylicht/3d-cnn-gait-analysis/runs/vd35v09k' target=\"_blank\">https://wandb.ai/henrylicht/3d-cnn-gait-analysis/runs/vd35v09k</a><br/> View project at: <a href='https://wandb.ai/henrylicht/3d-cnn-gait-analysis' target=\"_blank\">https://wandb.ai/henrylicht/3d-cnn-gait-analysis</a><br/>Synced 5 W&B file(s), 0 media file(s), 0 artifact file(s) and 0 other file(s)"
      ],
      "text/plain": [
       "<IPython.core.display.HTML object>"
      ]
     },
     "metadata": {},
     "output_type": "display_data"
    },
    {
     "data": {
      "text/html": [
       "Find logs at: <code>./wandb/run-20241127_202326-vd35v09k/logs</code>"
      ],
      "text/plain": [
       "<IPython.core.display.HTML object>"
      ]
     },
     "metadata": {},
     "output_type": "display_data"
    },
    {
     "data": {
      "text/html": [
       "Successfully finished last run (ID:vd35v09k). Initializing new run:<br/>"
      ],
      "text/plain": [
       "<IPython.core.display.HTML object>"
      ]
     },
     "metadata": {},
     "output_type": "display_data"
    },
    {
     "data": {
      "text/html": [
       "Tracking run with wandb version 0.18.7"
      ],
      "text/plain": [
       "<IPython.core.display.HTML object>"
      ]
     },
     "metadata": {},
     "output_type": "display_data"
    },
    {
     "data": {
      "text/html": [
       "Run data is saved locally in <code>/home/henry/wandb/run-20241127_202344-it4ntc1g</code>"
      ],
      "text/plain": [
       "<IPython.core.display.HTML object>"
      ]
     },
     "metadata": {},
     "output_type": "display_data"
    },
    {
     "data": {
      "text/html": [
       "Syncing run <strong><a href='https://wandb.ai/henrylicht/3d-cnn-gait-analysis/runs/it4ntc1g' target=\"_blank\">balmy-galaxy-60</a></strong> to <a href='https://wandb.ai/henrylicht/3d-cnn-gait-analysis' target=\"_blank\">Weights & Biases</a> (<a href='https://wandb.me/developer-guide' target=\"_blank\">docs</a>)<br/>"
      ],
      "text/plain": [
       "<IPython.core.display.HTML object>"
      ]
     },
     "metadata": {},
     "output_type": "display_data"
    },
    {
     "data": {
      "text/html": [
       " View project at <a href='https://wandb.ai/henrylicht/3d-cnn-gait-analysis' target=\"_blank\">https://wandb.ai/henrylicht/3d-cnn-gait-analysis</a>"
      ],
      "text/plain": [
       "<IPython.core.display.HTML object>"
      ]
     },
     "metadata": {},
     "output_type": "display_data"
    },
    {
     "data": {
      "text/html": [
       " View run at <a href='https://wandb.ai/henrylicht/3d-cnn-gait-analysis/runs/it4ntc1g' target=\"_blank\">https://wandb.ai/henrylicht/3d-cnn-gait-analysis/runs/it4ntc1g</a>"
      ],
      "text/plain": [
       "<IPython.core.display.HTML object>"
      ]
     },
     "metadata": {},
     "output_type": "display_data"
    },
    {
     "name": "stdout",
     "output_type": "stream",
     "text": [
      "Train Loss: 0.8484, Train Accuracy: 67.04%\n",
      "Val Loss: 1.0142, Val Accuracy: 70.71%\n",
      "Model saved with improved validation loss.\n",
      "Train Loss: 0.4118, Train Accuracy: 82.21%\n",
      "Val Loss: 1.1166, Val Accuracy: 72.89%\n",
      "Train Loss: 0.3146, Train Accuracy: 86.22%\n",
      "Val Loss: 0.8087, Val Accuracy: 78.75%\n",
      "Model saved with improved validation loss.\n",
      "Train Loss: 0.2480, Train Accuracy: 89.00%\n",
      "Val Loss: 0.8337, Val Accuracy: 80.26%\n",
      "Train Loss: 0.1662, Train Accuracy: 92.09%\n",
      "Val Loss: 0.7771, Val Accuracy: 83.95%\n",
      "Model saved with improved validation loss.\n",
      "Train Loss: 0.1334, Train Accuracy: 93.45%\n",
      "Val Loss: 0.7629, Val Accuracy: 83.31%\n",
      "Model saved with improved validation loss.\n",
      "Train Loss: 0.1713, Train Accuracy: 92.99%\n",
      "Val Loss: 0.9316, Val Accuracy: 81.15%\n",
      "Train Loss: 0.1556, Train Accuracy: 93.66%\n",
      "Val Loss: 0.7664, Val Accuracy: 84.20%\n",
      "Train Loss: 0.0917, Train Accuracy: 95.58%\n",
      "Val Loss: 0.8567, Val Accuracy: 81.85%\n",
      "Train Loss: 0.1217, Train Accuracy: 94.37%\n",
      "Val Loss: 0.8550, Val Accuracy: 85.17%\n",
      "Train Loss: 0.0979, Train Accuracy: 94.97%\n",
      "Val Loss: 0.8192, Val Accuracy: 86.16%\n",
      "Train Loss: 0.0757, Train Accuracy: 96.28%\n",
      "Val Loss: 0.9312, Val Accuracy: 82.37%\n",
      "Train Loss: 0.0926, Train Accuracy: 95.46%\n",
      "Val Loss: 1.0064, Val Accuracy: 83.06%\n",
      "Train Loss: 0.0755, Train Accuracy: 96.28%\n",
      "Val Loss: 0.9632, Val Accuracy: 85.62%\n",
      "Train Loss: 0.0727, Train Accuracy: 96.59%\n",
      "Val Loss: 1.0384, Val Accuracy: 85.59%\n",
      "Train Loss: 0.0727, Train Accuracy: 96.59%\n",
      "Val Loss: 0.8803, Val Accuracy: 82.89%\n",
      "Train Loss: 0.0679, Train Accuracy: 96.73%\n",
      "Val Loss: 0.8647, Val Accuracy: 86.21%\n",
      "Train Loss: 0.0743, Train Accuracy: 96.22%\n",
      "Val Loss: 0.8430, Val Accuracy: 84.57%\n",
      "Train Loss: 0.0394, Train Accuracy: 97.43%\n",
      "Val Loss: 0.9055, Val Accuracy: 87.48%\n",
      "Train Loss: 0.0473, Train Accuracy: 97.11%\n",
      "Val Loss: 0.9325, Val Accuracy: 85.47%\n",
      "Train Loss: 0.0688, Train Accuracy: 96.71%\n",
      "Val Loss: 0.8793, Val Accuracy: 86.78%\n",
      "Train Loss: 0.0385, Train Accuracy: 97.72%\n",
      "Val Loss: 0.9142, Val Accuracy: 85.86%\n",
      "Train Loss: 0.0321, Train Accuracy: 97.86%\n",
      "Val Loss: 0.8523, Val Accuracy: 87.48%\n",
      "Train Loss: 0.0397, Train Accuracy: 97.62%\n",
      "Val Loss: 0.9357, Val Accuracy: 85.07%\n",
      "Train Loss: 0.0705, Train Accuracy: 96.66%\n",
      "Val Loss: 0.8463, Val Accuracy: 82.47%\n",
      "Train Loss: 0.0367, Train Accuracy: 97.71%\n",
      "Val Loss: 0.9898, Val Accuracy: 86.93%\n",
      "Train Loss: 0.0389, Train Accuracy: 97.83%\n",
      "Val Loss: 1.0906, Val Accuracy: 87.20%\n",
      "Train Loss: 0.0336, Train Accuracy: 98.04%\n",
      "Val Loss: 1.1160, Val Accuracy: 85.76%\n",
      "Train Loss: 0.0499, Train Accuracy: 97.44%\n",
      "Val Loss: 0.9985, Val Accuracy: 84.23%\n",
      "Train Loss: 0.0474, Train Accuracy: 97.57%\n",
      "Val Loss: 0.9884, Val Accuracy: 86.88%\n",
      "Train Loss: 0.0253, Train Accuracy: 98.31%\n",
      "Val Loss: 1.0192, Val Accuracy: 87.00%\n",
      "Train Loss: 0.0173, Train Accuracy: 98.73%\n",
      "Val Loss: 1.0514, Val Accuracy: 87.28%\n",
      "Train Loss: 0.0206, Train Accuracy: 98.58%\n",
      "Val Loss: 1.1095, Val Accuracy: 86.06%\n",
      "Train Loss: 0.0577, Train Accuracy: 97.50%\n",
      "Val Loss: 1.1764, Val Accuracy: 83.16%\n",
      "Train Loss: 0.0523, Train Accuracy: 97.74%\n",
      "Val Loss: 1.1837, Val Accuracy: 85.02%\n",
      "Train Loss: 0.0280, Train Accuracy: 98.12%\n",
      "Val Loss: 1.0685, Val Accuracy: 84.47%\n",
      "Train Loss: 0.0235, Train Accuracy: 98.63%\n",
      "Val Loss: 1.0230, Val Accuracy: 85.02%\n",
      "Train Loss: 0.0428, Train Accuracy: 97.81%\n",
      "Val Loss: 1.1529, Val Accuracy: 85.24%\n",
      "Train Loss: 0.0327, Train Accuracy: 98.25%\n",
      "Val Loss: 1.0702, Val Accuracy: 85.81%\n",
      "Train Loss: 0.0211, Train Accuracy: 98.75%\n",
      "Val Loss: 1.0858, Val Accuracy: 86.11%\n",
      "Train Loss: 0.0205, Train Accuracy: 98.67%\n",
      "Val Loss: 1.1395, Val Accuracy: 87.30%\n",
      "Train Loss: 0.0340, Train Accuracy: 98.30%\n",
      "Val Loss: 1.0312, Val Accuracy: 85.81%\n",
      "Train Loss: 0.0191, Train Accuracy: 98.85%\n",
      "Val Loss: 0.9466, Val Accuracy: 86.53%\n",
      "Train Loss: 0.0170, Train Accuracy: 98.80%\n",
      "Val Loss: 0.9167, Val Accuracy: 85.62%\n",
      "Train Loss: 0.0174, Train Accuracy: 98.86%\n",
      "Val Loss: 1.0549, Val Accuracy: 86.06%\n",
      "Train Loss: 0.0116, Train Accuracy: 99.08%\n",
      "Val Loss: 1.1105, Val Accuracy: 86.66%\n",
      "Train Loss: 0.0408, Train Accuracy: 97.90%\n",
      "Val Loss: 1.0494, Val Accuracy: 85.42%\n",
      "Train Loss: 0.0211, Train Accuracy: 98.74%\n",
      "Val Loss: 1.0979, Val Accuracy: 85.66%\n",
      "Train Loss: 0.0120, Train Accuracy: 99.21%\n",
      "Val Loss: 1.1331, Val Accuracy: 85.79%\n",
      "Train Loss: 0.0063, Train Accuracy: 99.24%\n",
      "Val Loss: 1.2873, Val Accuracy: 85.52%\n"
     ]
    }
   ],
   "source": [
    "import torch\n",
    "import torch.nn as nn\n",
    "import torch.optim as optim\n",
    "import wandb \n",
    "from sklearn.utils.class_weight import compute_class_weight\n",
    "\n",
    "\n",
    "# Initialize wandb\n",
    "wandb.login(key='af968dcc6f77f75c5bcd9bfc39807a51bcecab9d')\n",
    "wandb.init(project='3d-cnn-gait-analysis')\n",
    "\n",
    "device = torch.device(\"cuda\" if torch.cuda.is_available() else \"cpu\")\n",
    "model.to(device)\n",
    "\n",
    "# Loss function\n",
    "class_weights = compute_class_weight(class_weight='balanced', classes=np.unique(y_encoded), y=y_encoded)\n",
    "class_weights = torch.tensor(class_weights, dtype=torch.float)\n",
    "\n",
    "class_weights = class_weights.to(device)\n",
    "\n",
    "# Use in loss\n",
    "criterion = torch.nn.CrossEntropyLoss(weight=class_weights)\n",
    "optimizer = optim.Adam(model.parameters(), lr=1e-3)\n",
    "\n",
    "# Track the best validation loss\n",
    "best_val_loss = float('inf')\n",
    "best_model_weights = None  # To hold the best model's weights\n",
    "\n",
    "# Training loop\n",
    "num_epochs = 50\n",
    "for epoch in range(num_epochs):\n",
    "    model.train()  # Set the model to training mode\n",
    "    running_loss = 0.0\n",
    "    correct = 0\n",
    "    total = 0\n",
    "\n",
    "    for batch in train_loader:\n",
    "        inputs, targets, _, _ = batch  # Assuming train_loader returns inputs and targets\n",
    "        inputs, targets = inputs.to(device), targets.to(device)\n",
    "\n",
    "        # Zero the parameter gradients\n",
    "        optimizer.zero_grad()\n",
    "\n",
    "        # Forward pass\n",
    "        outputs = model(inputs)\n",
    "        loss = criterion(outputs, targets)\n",
    "\n",
    "        # Backward pass and optimize\n",
    "        loss.backward()\n",
    "        optimizer.step()\n",
    "        running_loss += loss.item()\n",
    "\n",
    "        # Calculate accuracy\n",
    "        _, predicted = torch.max(outputs, 1)\n",
    "        total += targets.size(0)\n",
    "        correct += (predicted == targets).sum().item()\n",
    "\n",
    "        train_loss = running_loss / len(train_loader)\n",
    "        train_accuracy = 100 * correct / total\n",
    "\n",
    "    # Log the validation loss and accuracy to wandb\n",
    "    wandb.log({\"epoch\":epoch, \"train_loss\": train_loss, \"train_accuracy\": train_accuracy})\n",
    "    print(f\"Train Loss: {train_loss:.4f}, Train Accuracy: {train_accuracy:.2f}%\")\n",
    "\n",
    "    # Validation step\n",
    "    model.eval()\n",
    "    val_loss = 0.0\n",
    "    correct = 0\n",
    "    total = 0\n",
    "    with torch.no_grad():\n",
    "        for sequences, labels, _, _ in val_loader:\n",
    "            sequences = sequences.to(device)\n",
    "            labels = labels.to(device)\n",
    "\n",
    "            outputs = model(sequences)\n",
    "            loss = criterion(outputs, labels)\n",
    "            val_loss += loss.item()\n",
    "\n",
    "            _, predicted = torch.max(outputs, 1)\n",
    "            total += labels.size(0)\n",
    "            correct += (predicted == labels).sum().item()\n",
    "\n",
    "    val_loss /= len(val_loader)\n",
    "    val_accuracy = 100 * correct / total\n",
    "\n",
    "    # Log the validation loss and accuracy to wandb\n",
    "    wandb.log({\"epoch\":epoch, \"val_loss\": val_loss, \"val_accuracy\": val_accuracy})\n",
    "    print(f\"Val Loss: {val_loss:.4f}, Val Accuracy: {val_accuracy:.2f}%\")\n",
    "\n",
    "    # Save the model if the validation loss improves\n",
    "    if val_loss < best_val_loss:\n",
    "        best_val_loss = val_loss\n",
    "\n",
    "        # Save the model checkpoint\n",
    "        torch.save(model.state_dict(), f\"dinomodel_20_3.pth\")\n",
    "        print(\"Model saved with improved validation loss.\")\n"
   ]
  },
  {
   "cell_type": "code",
   "execution_count": null,
   "metadata": {},
   "outputs": [
    {
     "name": "stdout",
     "output_type": "stream",
     "text": [
      "Model saved with improved validation loss.\n"
     ]
    }
   ],
   "source": [
    "torch.save(model.state_dict(), f\"final_dinomodel_20_3.pth\")"
   ]
  },
  {
   "cell_type": "code",
   "execution_count": 46,
   "metadata": {},
   "outputs": [
    {
     "name": "stdout",
     "output_type": "stream",
     "text": [
      "Test Accuracy: 90.56%\n"
     ]
    }
   ],
   "source": [
    "# Test the model\n",
    "model.eval()  # Set the model to evaluation mode\n",
    "test_loss = 0.0\n",
    "correct = 0\n",
    "total = 0\n",
    "\n",
    "with torch.no_grad():\n",
    "    for batch in test_loader:\n",
    "        inputs, targets, _, _ = batch\n",
    "        inputs, targets = inputs.to(device), targets.to(device)\n",
    "\n",
    "        outputs = model(inputs)\n",
    "        loss = criterion(outputs, targets)\n",
    "        test_loss += loss.item()\n",
    "\n",
    "        # Get predictions\n",
    "        _, predicted = torch.max(outputs, 1)\n",
    "        total += targets.size(0)\n",
    "        correct += (predicted == targets).sum().item()\n",
    "\n",
    "print(f\"Test Accuracy: {100 * correct / total:.2f}%\")\n"
   ]
  },
  {
   "cell_type": "code",
   "execution_count": 51,
   "metadata": {
    "colab": {
     "base_uri": "https://localhost:8080/"
    },
    "id": "z-oo1bWUfQ4V",
    "outputId": "d9fdb6cc-11c9-4c4a-e662-15f58aeca2c0"
   },
   "outputs": [
    {
     "name": "stdout",
     "output_type": "stream",
     "text": [
      "Per-Video Confusion Matrix:\n",
      " [[131   0   0   2   0   0   1   0   0   0   0   0]\n",
      " [  0   6   0   0   0   0   0   0   0   0   0   0]\n",
      " [  2   0   9   0   0   0   0   0   0   0   0   0]\n",
      " [  2   0   0  38   0   0   0   0   0   0   0   0]\n",
      " [  1   0   0   0   3   0   0   0   0   0   0   0]\n",
      " [  1   0   0   1   0  31   0   0   0   0   0   0]\n",
      " [  2   0   2   2   0   0  44   1   0   0   0   0]\n",
      " [  2   0   0   0   0   0   0   6   0   0   0   0]\n",
      " [  0   0   0   1   0   0   0   0   0   0   0   0]\n",
      " [  0   0   0   0   0   0   0   0   0   7   0   0]\n",
      " [  2   0   0   0   0   0   0   1   0   0  10   0]\n",
      " [  0   0   0   0   0   0   0   0   0   0   0  12]]\n",
      "Class Labels: ['abnormal' 'antalgic' 'cerebral palsy' 'exercise' 'inebriated'\n",
      " 'myopathic' 'normal' 'parkinsons' 'pregnant' 'prosthetic' 'stroke'\n",
      " 'style']\n"
     ]
    }
   ],
   "source": [
    "from sklearn.metrics import confusion_matrix\n",
    "from collections import defaultdict\n",
    "import numpy as np\n",
    "\n",
    "# Extract true labels, clip IDs, and predictions\n",
    "y_true = [x[1] for x in test_dataset]\n",
    "clip_ids = [x[2] for x in test_dataset]\n",
    "x_test = torch.stack([x[0] for x in test_dataset]).to(device)\n",
    "\n",
    "# Predict using the model\n",
    "y_pred = torch.argmax(model(x_test), dim=1).cpu().numpy()\n",
    "\n",
    "# Group predictions and true labels by video (clip ID)\n",
    "clip_predictions = defaultdict(list)\n",
    "clip_labels = {}\n",
    "\n",
    "for pred, true_label, clip in zip(y_pred, y_true, clip_ids):\n",
    "    clip_predictions[clip].append(pred)\n",
    "    clip_labels[clip] = true_label  # True label for each video\n",
    "\n",
    "# Determine majority vote prediction and true label per video\n",
    "video_preds = []\n",
    "video_labels = []\n",
    "\n",
    "for clip, preds in clip_predictions.items():\n",
    "    majority_vote = np.bincount(preds).argmax()  # Most common prediction\n",
    "    video_preds.append(majority_vote)\n",
    "    video_labels.append(clip_labels[clip])\n",
    "\n",
    "# Generate the per-video confusion matrix\n",
    "per_video_conf_matrix = confusion_matrix(video_labels, video_preds)\n",
    "print(\"Per-Video Confusion Matrix:\\n\", per_video_conf_matrix)\n",
    "\n",
    "# Assuming you have a label encoder to get class names\n",
    "print(\"Class Labels:\", label_encoder.classes_)\n"
   ]
  },
  {
   "cell_type": "code",
   "execution_count": 50,
   "metadata": {
    "colab": {
     "base_uri": "https://localhost:8080/"
    },
    "id": "IMEKIs15fx1B",
    "outputId": "7cae8db7-b5f1-416c-a11b-75f6a42f3ab2"
   },
   "outputs": [
    {
     "name": "stdout",
     "output_type": "stream",
     "text": [
      "Confusion Matrix:\n",
      " [[1741    1    0   19    0   10   11    5    0    0    1    3]\n",
      " [   0   72    0    0    0    3    0    0    0    0    0    0]\n",
      " [  39    0  127    0    0    0    2    0    0    0    0    0]\n",
      " [  34    0    0  484    0    0    5    0    0    7    0    4]\n",
      " [   6    0    0    0   39    0    0    0    0    0    0    0]\n",
      " [  17    1    0    9    0  292    0    0    0    0    0    0]\n",
      " [  18    0   23   77    0    0  331   11    0    0    0    0]\n",
      " [  36    0    0    0    0    0    0   96    0    0    0    0]\n",
      " [   1    0    2    6    0    0    0    0    0    0    0    0]\n",
      " [   0    0    0    0    0    0    0    0    0  114    0    0]\n",
      " [  27    0    0    3    0    0    0    9    0    0  375    0]\n",
      " [   0    0    0    0    0    0    0    0    0    0    0   71]]\n",
      "['abnormal' 'antalgic' 'cerebral palsy' 'exercise' 'inebriated'\n",
      " 'myopathic' 'normal' 'parkinsons' 'pregnant' 'prosthetic' 'stroke'\n",
      " 'style']\n"
     ]
    }
   ],
   "source": [
    "from sklearn.metrics import confusion_matrix\n",
    "\n",
    "# Generate the confusion matrix\n",
    "conf_matrix = confusion_matrix(y_true, y_pred)\n",
    "print(\"Confusion Matrix:\\n\", conf_matrix)\n",
    "\n",
    "print(label_encoder.classes_)\n"
   ]
  },
  {
   "cell_type": "code",
   "execution_count": null,
   "metadata": {
    "colab": {
     "base_uri": "https://localhost:8080/"
    },
    "id": "VKHAnpmIf0lx",
    "outputId": "f3582949-5f09-4280-8467-ddda5e09ab18"
   },
   "outputs": [
    {
     "name": "stdout",
     "output_type": "stream",
     "text": [
      "Class abnormal: 93.35%\n",
      "Class antalgic: 67.31%\n",
      "Class cerebral palsy: 48.43%\n",
      "Class exercise: 79.62%\n",
      "Class inebriated: 87.50%\n",
      "Class myopathic: 85.11%\n",
      "Class normal: 91.87%\n",
      "Class parkinsons: 64.38%\n",
      "Class pregnant: 100.00%\n",
      "Class prosthetic: 70.18%\n",
      "Class stroke: 72.29%\n",
      "Class style: 94.20%\n"
     ]
    }
   ],
   "source": [
    "import numpy as np\n",
    "\n",
    "# Calculate per-class accuracy\n",
    "class_accuracy = {}\n",
    "num_classes = conf_matrix.shape[0]\n",
    "\n",
    "for i in range(num_classes):\n",
    "    true_positives = conf_matrix[i, i]  # Correctly predicted instances for class i\n",
    "    total_instances = np.sum(conf_matrix[i, :])  # Total instances for class i\n",
    "    if total_instances > 0:\n",
    "        class_accuracy[label_encoder.classes_[i]] = true_positives / total_instances * 100  # Percent correct\n",
    "    else:\n",
    "        class_accuracy[label_encoder.classes_[i]] = 0.0  # Handle cases with no instances of class i\n",
    "\n",
    "#print(\"Original labels:\", label_encoder.classes_)\n",
    "\n",
    "# Print per-class accuracy\n",
    "for class_label, accuracy in class_accuracy.items():\n",
    "    print(f\"Class {class_label}: {accuracy:.2f}%\")\n"
   ]
  },
  {
   "cell_type": "code",
   "execution_count": null,
   "metadata": {},
   "outputs": [
    {
     "name": "stderr",
     "output_type": "stream",
     "text": [
      "2024-11-27 21:07:13.220669: E external/local_xla/xla/stream_executor/cuda/cuda_fft.cc:477] Unable to register cuFFT factory: Attempting to register factory for plugin cuFFT when one has already been registered\n",
      "WARNING: All log messages before absl::InitializeLog() is called are written to STDERR\n",
      "E0000 00:00:1732741633.248764  448753 cuda_dnn.cc:8310] Unable to register cuDNN factory: Attempting to register factory for plugin cuDNN when one has already been registered\n",
      "E0000 00:00:1732741633.255844  448753 cuda_blas.cc:1418] Unable to register cuBLAS factory: Attempting to register factory for plugin cuBLAS when one has already been registered\n",
      "2024-11-27 21:07:13.282642: I tensorflow/core/platform/cpu_feature_guard.cc:210] This TensorFlow binary is optimized to use available CPU instructions in performance-critical operations.\n",
      "To enable the following instructions: AVX2 FMA, in other operations, rebuild TensorFlow with the appropriate compiler flags.\n",
      "/opt/conda/lib/python3.10/site-packages/numpy/_core/_dtype.py:106: FutureWarning: In the future `np.bool` will be defined as the corresponding NumPy scalar.\n",
      "  if dtype.type == np.bool:\n",
      "/opt/conda/lib/python3.10/site-packages/shap/explainers/_deep/deep_tf.py:99: UserWarning: Your TensorFlow version is newer than 2.4.0 and so graph support has been removed in eager mode and some static graphs may not be supported. See PR #1483 for discussion.\n",
      "  warnings.warn(\"Your TensorFlow version is newer than 2.4.0 and so graph support has been removed in eager mode and some static graphs may not be supported. See PR #1483 for discussion.\")\n"
     ]
    },
    {
     "ename": "ValueError",
     "evalue": "<class '__main__.ModelWrapper'> is not currently a supported model type!",
     "output_type": "error",
     "traceback": [
      "\u001b[0;31m---------------------------------------------------------------------------\u001b[0m",
      "\u001b[0;31mValueError\u001b[0m                                Traceback (most recent call last)",
      "Cell \u001b[0;32mIn[55], line 15\u001b[0m\n\u001b[1;32m     12\u001b[0m             outputs \u001b[38;5;241m=\u001b[39m \u001b[38;5;28mself\u001b[39m\u001b[38;5;241m.\u001b[39mmodel(inputs)\n\u001b[1;32m     13\u001b[0m         \u001b[38;5;28;01mreturn\u001b[39;00m outputs\u001b[38;5;241m.\u001b[39mcpu()\u001b[38;5;241m.\u001b[39mnumpy()\n\u001b[0;32m---> 15\u001b[0m explainer \u001b[38;5;241m=\u001b[39m \u001b[43mshap\u001b[49m\u001b[38;5;241;43m.\u001b[39;49m\u001b[43mDeepExplainer\u001b[49m\u001b[43m(\u001b[49m\u001b[43mModelWrapper\u001b[49m\u001b[43m(\u001b[49m\u001b[43mmodel\u001b[49m\u001b[43m)\u001b[49m\u001b[43m,\u001b[49m\u001b[43m \u001b[49m\u001b[43mx_test\u001b[49m\u001b[43m)\u001b[49m\n\u001b[1;32m     17\u001b[0m \u001b[38;5;66;03m# Generate SHAP values\u001b[39;00m\n\u001b[1;32m     18\u001b[0m shap_values \u001b[38;5;241m=\u001b[39m explainer\u001b[38;5;241m.\u001b[39mshap_values(x_test)\n",
      "File \u001b[0;32m/opt/conda/lib/python3.10/site-packages/shap/explainers/_deep/__init__.py:90\u001b[0m, in \u001b[0;36mDeepExplainer.__init__\u001b[0;34m(self, model, data, session, learning_phase_flags)\u001b[0m\n\u001b[1;32m     87\u001b[0m \u001b[38;5;28msuper\u001b[39m()\u001b[38;5;241m.\u001b[39m\u001b[38;5;21m__init__\u001b[39m(model, masker)\n\u001b[1;32m     89\u001b[0m \u001b[38;5;28;01mif\u001b[39;00m framework \u001b[38;5;241m==\u001b[39m \u001b[38;5;124m'\u001b[39m\u001b[38;5;124mtensorflow\u001b[39m\u001b[38;5;124m'\u001b[39m:\n\u001b[0;32m---> 90\u001b[0m     \u001b[38;5;28mself\u001b[39m\u001b[38;5;241m.\u001b[39mexplainer \u001b[38;5;241m=\u001b[39m \u001b[43mTFDeep\u001b[49m\u001b[43m(\u001b[49m\u001b[43mmodel\u001b[49m\u001b[43m,\u001b[49m\u001b[43m \u001b[49m\u001b[43mdata\u001b[49m\u001b[43m,\u001b[49m\u001b[43m \u001b[49m\u001b[43msession\u001b[49m\u001b[43m,\u001b[49m\u001b[43m \u001b[49m\u001b[43mlearning_phase_flags\u001b[49m\u001b[43m)\u001b[49m\n\u001b[1;32m     91\u001b[0m \u001b[38;5;28;01melif\u001b[39;00m framework \u001b[38;5;241m==\u001b[39m \u001b[38;5;124m'\u001b[39m\u001b[38;5;124mpytorch\u001b[39m\u001b[38;5;124m'\u001b[39m:\n\u001b[1;32m     92\u001b[0m     \u001b[38;5;28mself\u001b[39m\u001b[38;5;241m.\u001b[39mexplainer \u001b[38;5;241m=\u001b[39m PyTorchDeep(model, data)\n",
      "File \u001b[0;32m/opt/conda/lib/python3.10/site-packages/shap/explainers/_deep/deep_tf.py:102\u001b[0m, in \u001b[0;36mTFDeep.__init__\u001b[0;34m(self, model, data, session, learning_phase_flags)\u001b[0m\n\u001b[1;32m     99\u001b[0m     warnings\u001b[38;5;241m.\u001b[39mwarn(\u001b[38;5;124m\"\u001b[39m\u001b[38;5;124mYour TensorFlow version is newer than 2.4.0 and so graph support has been removed in eager mode and some static graphs may not be supported. See PR #1483 for discussion.\u001b[39m\u001b[38;5;124m\"\u001b[39m)\n\u001b[1;32m    101\u001b[0m \u001b[38;5;66;03m# determine the model inputs and outputs\u001b[39;00m\n\u001b[0;32m--> 102\u001b[0m \u001b[38;5;28mself\u001b[39m\u001b[38;5;241m.\u001b[39mmodel_inputs \u001b[38;5;241m=\u001b[39m \u001b[43m_get_model_inputs\u001b[49m\u001b[43m(\u001b[49m\u001b[43mmodel\u001b[49m\u001b[43m)\u001b[49m\n\u001b[1;32m    103\u001b[0m \u001b[38;5;28mself\u001b[39m\u001b[38;5;241m.\u001b[39mmodel_output \u001b[38;5;241m=\u001b[39m _get_model_output(model)\n\u001b[1;32m    104\u001b[0m \u001b[38;5;28;01massert\u001b[39;00m \u001b[38;5;129;01mnot\u001b[39;00m \u001b[38;5;28misinstance\u001b[39m(\u001b[38;5;28mself\u001b[39m\u001b[38;5;241m.\u001b[39mmodel_output, \u001b[38;5;28mlist\u001b[39m), \u001b[38;5;124m\"\u001b[39m\u001b[38;5;124mThe model output to be explained must be a single tensor!\u001b[39m\u001b[38;5;124m\"\u001b[39m\n",
      "File \u001b[0;32m/opt/conda/lib/python3.10/site-packages/shap/explainers/tf_utils.py:73\u001b[0m, in \u001b[0;36m_get_model_inputs\u001b[0;34m(model)\u001b[0m\n\u001b[1;32m     70\u001b[0m     \u001b[38;5;28;01mreturn\u001b[39;00m model[\u001b[38;5;241m0\u001b[39m]\n\u001b[1;32m     72\u001b[0m emsg \u001b[38;5;241m=\u001b[39m \u001b[38;5;124mf\u001b[39m\u001b[38;5;124m\"\u001b[39m\u001b[38;5;132;01m{\u001b[39;00m\u001b[38;5;28mtype\u001b[39m(model)\u001b[38;5;132;01m}\u001b[39;00m\u001b[38;5;124m is not currently a supported model type!\u001b[39m\u001b[38;5;124m\"\u001b[39m\n\u001b[0;32m---> 73\u001b[0m \u001b[38;5;28;01mraise\u001b[39;00m \u001b[38;5;167;01mValueError\u001b[39;00m(emsg)\n",
      "\u001b[0;31mValueError\u001b[0m: <class '__main__.ModelWrapper'> is not currently a supported model type!"
     ]
    }
   ],
   "source": [
    "import shap\n",
    "\n",
    "x_test = torch.stack([x[0] for x in test_dataset]).to(device)\n",
    "bg = x_test[:100]\n",
    "\n",
    "class ModelWrapper:\n",
    "    \"\"\"Wrap the model to handle PyTorch tensor inputs and outputs for SHAP.\"\"\"\n",
    "    def __init__(self, model):\n",
    "        self.model = model\n",
    "\n",
    "    def __call__(self, inputs):\n",
    "        with torch.no_grad():\n",
    "            outputs = self.model(inputs)\n",
    "        return outputs.cpu().numpy()\n",
    "\n",
    "explainer = shap.DeepExplainer(ModelWrapper(model), x_test)\n",
    "\n",
    "# Generate SHAP values\n",
    "shap_values = explainer.shap_values(x_test)\n",
    "\n",
    "# Visualize SHAP values for a single prediction\n",
    "sample_idx = 0  # Index of the sample you want to explain\n",
    "shap.summary_plot(shap_values[0][sample_idx], x_test[sample_idx].cpu().numpy())"
   ]
  }
 ],
 "metadata": {
  "accelerator": "GPU",
  "colab": {
   "gpuType": "T4",
   "provenance": []
  },
  "kernelspec": {
   "display_name": "Python 3",
   "language": "python",
   "name": "python3"
  },
  "language_info": {
   "codemirror_mode": {
    "name": "ipython",
    "version": 3
   },
   "file_extension": ".py",
   "mimetype": "text/x-python",
   "name": "python",
   "nbconvert_exporter": "python",
   "pygments_lexer": "ipython3",
   "version": "3.8.10"
  },
  "widgets": {
   "application/vnd.jupyter.widget-state+json": {
    "07e1c02738924dd28a24d540dec00673": {
     "model_module": "@jupyter-widgets/controls",
     "model_module_version": "1.5.0",
     "model_name": "HTMLModel",
     "state": {
      "_dom_classes": [],
      "_model_module": "@jupyter-widgets/controls",
      "_model_module_version": "1.5.0",
      "_model_name": "HTMLModel",
      "_view_count": null,
      "_view_module": "@jupyter-widgets/controls",
      "_view_module_version": "1.5.0",
      "_view_name": "HTMLView",
      "description": "",
      "description_tooltip": null,
      "layout": "IPY_MODEL_fcaba6a1adbb4758af24c0ac04633d2c",
      "placeholder": "​",
      "style": "IPY_MODEL_b04bb91068524c2092a1381652687a6b",
      "value": "Testing DataLoader 0: 100%"
     }
    },
    "13b7101cbe984e98baf22bff01537042": {
     "model_module": "@jupyter-widgets/controls",
     "model_module_version": "1.5.0",
     "model_name": "FloatProgressModel",
     "state": {
      "_dom_classes": [],
      "_model_module": "@jupyter-widgets/controls",
      "_model_module_version": "1.5.0",
      "_model_name": "FloatProgressModel",
      "_view_count": null,
      "_view_module": "@jupyter-widgets/controls",
      "_view_module_version": "1.5.0",
      "_view_name": "ProgressView",
      "bar_style": "success",
      "description": "",
      "description_tooltip": null,
      "layout": "IPY_MODEL_58dc7d092bba42b99c7250619411eafa",
      "max": 108,
      "min": 0,
      "orientation": "horizontal",
      "style": "IPY_MODEL_df1c207a4c434ed1b9f58fde4ee717b3",
      "value": 108
     }
    },
    "14e862028f40495db926c5ab87ce33f0": {
     "model_module": "@jupyter-widgets/controls",
     "model_module_version": "1.5.0",
     "model_name": "DescriptionStyleModel",
     "state": {
      "_model_module": "@jupyter-widgets/controls",
      "_model_module_version": "1.5.0",
      "_model_name": "DescriptionStyleModel",
      "_view_count": null,
      "_view_module": "@jupyter-widgets/base",
      "_view_module_version": "1.2.0",
      "_view_name": "StyleView",
      "description_width": ""
     }
    },
    "21b3ae2f69494b7b8a6b5da6f9e7aa63": {
     "model_module": "@jupyter-widgets/base",
     "model_module_version": "1.2.0",
     "model_name": "LayoutModel",
     "state": {
      "_model_module": "@jupyter-widgets/base",
      "_model_module_version": "1.2.0",
      "_model_name": "LayoutModel",
      "_view_count": null,
      "_view_module": "@jupyter-widgets/base",
      "_view_module_version": "1.2.0",
      "_view_name": "LayoutView",
      "align_content": null,
      "align_items": null,
      "align_self": null,
      "border": null,
      "bottom": null,
      "display": "inline-flex",
      "flex": null,
      "flex_flow": "row wrap",
      "grid_area": null,
      "grid_auto_columns": null,
      "grid_auto_flow": null,
      "grid_auto_rows": null,
      "grid_column": null,
      "grid_gap": null,
      "grid_row": null,
      "grid_template_areas": null,
      "grid_template_columns": null,
      "grid_template_rows": null,
      "height": null,
      "justify_content": null,
      "justify_items": null,
      "left": null,
      "margin": null,
      "max_height": null,
      "max_width": null,
      "min_height": null,
      "min_width": null,
      "object_fit": null,
      "object_position": null,
      "order": null,
      "overflow": null,
      "overflow_x": null,
      "overflow_y": null,
      "padding": null,
      "right": null,
      "top": null,
      "visibility": null,
      "width": "100%"
     }
    },
    "31b5c1f5e633417fae052dcd458028fb": {
     "model_module": "@jupyter-widgets/controls",
     "model_module_version": "1.5.0",
     "model_name": "DescriptionStyleModel",
     "state": {
      "_model_module": "@jupyter-widgets/controls",
      "_model_module_version": "1.5.0",
      "_model_name": "DescriptionStyleModel",
      "_view_count": null,
      "_view_module": "@jupyter-widgets/base",
      "_view_module_version": "1.2.0",
      "_view_name": "StyleView",
      "description_width": ""
     }
    },
    "4c79c8c2781c4cf0b32fc171a61b1b13": {
     "model_module": "@jupyter-widgets/controls",
     "model_module_version": "1.5.0",
     "model_name": "HBoxModel",
     "state": {
      "_dom_classes": [],
      "_model_module": "@jupyter-widgets/controls",
      "_model_module_version": "1.5.0",
      "_model_name": "HBoxModel",
      "_view_count": null,
      "_view_module": "@jupyter-widgets/controls",
      "_view_module_version": "1.5.0",
      "_view_name": "HBoxView",
      "box_style": "",
      "children": [
       "IPY_MODEL_8db33c38bdc044faa485325dcf93da1f",
       "IPY_MODEL_13b7101cbe984e98baf22bff01537042",
       "IPY_MODEL_848d22aca05e4c86a0a1eb6d4c774060"
      ],
      "layout": "IPY_MODEL_bcb205c8a06c480da3c5f544e024981b"
     }
    },
    "547673061020455f9504e722918d4460": {
     "model_module": "@jupyter-widgets/base",
     "model_module_version": "1.2.0",
     "model_name": "LayoutModel",
     "state": {
      "_model_module": "@jupyter-widgets/base",
      "_model_module_version": "1.2.0",
      "_model_name": "LayoutModel",
      "_view_count": null,
      "_view_module": "@jupyter-widgets/base",
      "_view_module_version": "1.2.0",
      "_view_name": "LayoutView",
      "align_content": null,
      "align_items": null,
      "align_self": null,
      "border": null,
      "bottom": null,
      "display": null,
      "flex": null,
      "flex_flow": null,
      "grid_area": null,
      "grid_auto_columns": null,
      "grid_auto_flow": null,
      "grid_auto_rows": null,
      "grid_column": null,
      "grid_gap": null,
      "grid_row": null,
      "grid_template_areas": null,
      "grid_template_columns": null,
      "grid_template_rows": null,
      "height": null,
      "justify_content": null,
      "justify_items": null,
      "left": null,
      "margin": null,
      "max_height": null,
      "max_width": null,
      "min_height": null,
      "min_width": null,
      "object_fit": null,
      "object_position": null,
      "order": null,
      "overflow": null,
      "overflow_x": null,
      "overflow_y": null,
      "padding": null,
      "right": null,
      "top": null,
      "visibility": null,
      "width": null
     }
    },
    "58dc7d092bba42b99c7250619411eafa": {
     "model_module": "@jupyter-widgets/base",
     "model_module_version": "1.2.0",
     "model_name": "LayoutModel",
     "state": {
      "_model_module": "@jupyter-widgets/base",
      "_model_module_version": "1.2.0",
      "_model_name": "LayoutModel",
      "_view_count": null,
      "_view_module": "@jupyter-widgets/base",
      "_view_module_version": "1.2.0",
      "_view_name": "LayoutView",
      "align_content": null,
      "align_items": null,
      "align_self": null,
      "border": null,
      "bottom": null,
      "display": null,
      "flex": "2",
      "flex_flow": null,
      "grid_area": null,
      "grid_auto_columns": null,
      "grid_auto_flow": null,
      "grid_auto_rows": null,
      "grid_column": null,
      "grid_gap": null,
      "grid_row": null,
      "grid_template_areas": null,
      "grid_template_columns": null,
      "grid_template_rows": null,
      "height": null,
      "justify_content": null,
      "justify_items": null,
      "left": null,
      "margin": null,
      "max_height": null,
      "max_width": null,
      "min_height": null,
      "min_width": null,
      "object_fit": null,
      "object_position": null,
      "order": null,
      "overflow": null,
      "overflow_x": null,
      "overflow_y": null,
      "padding": null,
      "right": null,
      "top": null,
      "visibility": null,
      "width": null
     }
    },
    "72c3ee7ee14c49209102c8dc36addcc2": {
     "model_module": "@jupyter-widgets/controls",
     "model_module_version": "1.5.0",
     "model_name": "FloatProgressModel",
     "state": {
      "_dom_classes": [],
      "_model_module": "@jupyter-widgets/controls",
      "_model_module_version": "1.5.0",
      "_model_name": "FloatProgressModel",
      "_view_count": null,
      "_view_module": "@jupyter-widgets/controls",
      "_view_module_version": "1.5.0",
      "_view_name": "ProgressView",
      "bar_style": "success",
      "description": "",
      "description_tooltip": null,
      "layout": "IPY_MODEL_b28cf06c4c164d2bae820a2e5aca96e9",
      "max": 47,
      "min": 0,
      "orientation": "horizontal",
      "style": "IPY_MODEL_e4e8f1da10fd430da3c31f5cda584da1",
      "value": 47
     }
    },
    "7849c788ac404493b4c30068d6869ec5": {
     "model_module": "@jupyter-widgets/base",
     "model_module_version": "1.2.0",
     "model_name": "LayoutModel",
     "state": {
      "_model_module": "@jupyter-widgets/base",
      "_model_module_version": "1.2.0",
      "_model_name": "LayoutModel",
      "_view_count": null,
      "_view_module": "@jupyter-widgets/base",
      "_view_module_version": "1.2.0",
      "_view_name": "LayoutView",
      "align_content": null,
      "align_items": null,
      "align_self": null,
      "border": null,
      "bottom": null,
      "display": null,
      "flex": null,
      "flex_flow": null,
      "grid_area": null,
      "grid_auto_columns": null,
      "grid_auto_flow": null,
      "grid_auto_rows": null,
      "grid_column": null,
      "grid_gap": null,
      "grid_row": null,
      "grid_template_areas": null,
      "grid_template_columns": null,
      "grid_template_rows": null,
      "height": null,
      "justify_content": null,
      "justify_items": null,
      "left": null,
      "margin": null,
      "max_height": null,
      "max_width": null,
      "min_height": null,
      "min_width": null,
      "object_fit": null,
      "object_position": null,
      "order": null,
      "overflow": null,
      "overflow_x": null,
      "overflow_y": null,
      "padding": null,
      "right": null,
      "top": null,
      "visibility": null,
      "width": null
     }
    },
    "848d22aca05e4c86a0a1eb6d4c774060": {
     "model_module": "@jupyter-widgets/controls",
     "model_module_version": "1.5.0",
     "model_name": "HTMLModel",
     "state": {
      "_dom_classes": [],
      "_model_module": "@jupyter-widgets/controls",
      "_model_module_version": "1.5.0",
      "_model_name": "HTMLModel",
      "_view_count": null,
      "_view_module": "@jupyter-widgets/controls",
      "_view_module_version": "1.5.0",
      "_view_name": "HTMLView",
      "description": "",
      "description_tooltip": null,
      "layout": "IPY_MODEL_7849c788ac404493b4c30068d6869ec5",
      "placeholder": "​",
      "style": "IPY_MODEL_14e862028f40495db926c5ab87ce33f0",
      "value": " 108/108 [00:00&lt;00:00, 179.70it/s, v_num=6]"
     }
    },
    "8db33c38bdc044faa485325dcf93da1f": {
     "model_module": "@jupyter-widgets/controls",
     "model_module_version": "1.5.0",
     "model_name": "HTMLModel",
     "state": {
      "_dom_classes": [],
      "_model_module": "@jupyter-widgets/controls",
      "_model_module_version": "1.5.0",
      "_model_name": "HTMLModel",
      "_view_count": null,
      "_view_module": "@jupyter-widgets/controls",
      "_view_module_version": "1.5.0",
      "_view_name": "HTMLView",
      "description": "",
      "description_tooltip": null,
      "layout": "IPY_MODEL_547673061020455f9504e722918d4460",
      "placeholder": "​",
      "style": "IPY_MODEL_31b5c1f5e633417fae052dcd458028fb",
      "value": "Epoch 49: 100%"
     }
    },
    "a6ccffc7ca044195a2490081ba41caad": {
     "model_module": "@jupyter-widgets/controls",
     "model_module_version": "1.5.0",
     "model_name": "DescriptionStyleModel",
     "state": {
      "_model_module": "@jupyter-widgets/controls",
      "_model_module_version": "1.5.0",
      "_model_name": "DescriptionStyleModel",
      "_view_count": null,
      "_view_module": "@jupyter-widgets/base",
      "_view_module_version": "1.2.0",
      "_view_name": "StyleView",
      "description_width": ""
     }
    },
    "b04bb91068524c2092a1381652687a6b": {
     "model_module": "@jupyter-widgets/controls",
     "model_module_version": "1.5.0",
     "model_name": "DescriptionStyleModel",
     "state": {
      "_model_module": "@jupyter-widgets/controls",
      "_model_module_version": "1.5.0",
      "_model_name": "DescriptionStyleModel",
      "_view_count": null,
      "_view_module": "@jupyter-widgets/base",
      "_view_module_version": "1.2.0",
      "_view_name": "StyleView",
      "description_width": ""
     }
    },
    "b28cf06c4c164d2bae820a2e5aca96e9": {
     "model_module": "@jupyter-widgets/base",
     "model_module_version": "1.2.0",
     "model_name": "LayoutModel",
     "state": {
      "_model_module": "@jupyter-widgets/base",
      "_model_module_version": "1.2.0",
      "_model_name": "LayoutModel",
      "_view_count": null,
      "_view_module": "@jupyter-widgets/base",
      "_view_module_version": "1.2.0",
      "_view_name": "LayoutView",
      "align_content": null,
      "align_items": null,
      "align_self": null,
      "border": null,
      "bottom": null,
      "display": null,
      "flex": "2",
      "flex_flow": null,
      "grid_area": null,
      "grid_auto_columns": null,
      "grid_auto_flow": null,
      "grid_auto_rows": null,
      "grid_column": null,
      "grid_gap": null,
      "grid_row": null,
      "grid_template_areas": null,
      "grid_template_columns": null,
      "grid_template_rows": null,
      "height": null,
      "justify_content": null,
      "justify_items": null,
      "left": null,
      "margin": null,
      "max_height": null,
      "max_width": null,
      "min_height": null,
      "min_width": null,
      "object_fit": null,
      "object_position": null,
      "order": null,
      "overflow": null,
      "overflow_x": null,
      "overflow_y": null,
      "padding": null,
      "right": null,
      "top": null,
      "visibility": null,
      "width": null
     }
    },
    "b3f60f9bc78842fd960ea49829bafaa9": {
     "model_module": "@jupyter-widgets/controls",
     "model_module_version": "1.5.0",
     "model_name": "HBoxModel",
     "state": {
      "_dom_classes": [],
      "_model_module": "@jupyter-widgets/controls",
      "_model_module_version": "1.5.0",
      "_model_name": "HBoxModel",
      "_view_count": null,
      "_view_module": "@jupyter-widgets/controls",
      "_view_module_version": "1.5.0",
      "_view_name": "HBoxView",
      "box_style": "",
      "children": [
       "IPY_MODEL_07e1c02738924dd28a24d540dec00673",
       "IPY_MODEL_72c3ee7ee14c49209102c8dc36addcc2",
       "IPY_MODEL_e52fa36f103e44458d133fbc3e744269"
      ],
      "layout": "IPY_MODEL_21b3ae2f69494b7b8a6b5da6f9e7aa63"
     }
    },
    "bcb205c8a06c480da3c5f544e024981b": {
     "model_module": "@jupyter-widgets/base",
     "model_module_version": "1.2.0",
     "model_name": "LayoutModel",
     "state": {
      "_model_module": "@jupyter-widgets/base",
      "_model_module_version": "1.2.0",
      "_model_name": "LayoutModel",
      "_view_count": null,
      "_view_module": "@jupyter-widgets/base",
      "_view_module_version": "1.2.0",
      "_view_name": "LayoutView",
      "align_content": null,
      "align_items": null,
      "align_self": null,
      "border": null,
      "bottom": null,
      "display": "inline-flex",
      "flex": null,
      "flex_flow": "row wrap",
      "grid_area": null,
      "grid_auto_columns": null,
      "grid_auto_flow": null,
      "grid_auto_rows": null,
      "grid_column": null,
      "grid_gap": null,
      "grid_row": null,
      "grid_template_areas": null,
      "grid_template_columns": null,
      "grid_template_rows": null,
      "height": null,
      "justify_content": null,
      "justify_items": null,
      "left": null,
      "margin": null,
      "max_height": null,
      "max_width": null,
      "min_height": null,
      "min_width": null,
      "object_fit": null,
      "object_position": null,
      "order": null,
      "overflow": null,
      "overflow_x": null,
      "overflow_y": null,
      "padding": null,
      "right": null,
      "top": null,
      "visibility": null,
      "width": "100%"
     }
    },
    "df1c207a4c434ed1b9f58fde4ee717b3": {
     "model_module": "@jupyter-widgets/controls",
     "model_module_version": "1.5.0",
     "model_name": "ProgressStyleModel",
     "state": {
      "_model_module": "@jupyter-widgets/controls",
      "_model_module_version": "1.5.0",
      "_model_name": "ProgressStyleModel",
      "_view_count": null,
      "_view_module": "@jupyter-widgets/base",
      "_view_module_version": "1.2.0",
      "_view_name": "StyleView",
      "bar_color": null,
      "description_width": ""
     }
    },
    "e4e8f1da10fd430da3c31f5cda584da1": {
     "model_module": "@jupyter-widgets/controls",
     "model_module_version": "1.5.0",
     "model_name": "ProgressStyleModel",
     "state": {
      "_model_module": "@jupyter-widgets/controls",
      "_model_module_version": "1.5.0",
      "_model_name": "ProgressStyleModel",
      "_view_count": null,
      "_view_module": "@jupyter-widgets/base",
      "_view_module_version": "1.2.0",
      "_view_name": "StyleView",
      "bar_color": null,
      "description_width": ""
     }
    },
    "e52fa36f103e44458d133fbc3e744269": {
     "model_module": "@jupyter-widgets/controls",
     "model_module_version": "1.5.0",
     "model_name": "HTMLModel",
     "state": {
      "_dom_classes": [],
      "_model_module": "@jupyter-widgets/controls",
      "_model_module_version": "1.5.0",
      "_model_name": "HTMLModel",
      "_view_count": null,
      "_view_module": "@jupyter-widgets/controls",
      "_view_module_version": "1.5.0",
      "_view_name": "HTMLView",
      "description": "",
      "description_tooltip": null,
      "layout": "IPY_MODEL_ee174f0e8d1e427e9d36f2667fe41a66",
      "placeholder": "​",
      "style": "IPY_MODEL_a6ccffc7ca044195a2490081ba41caad",
      "value": " 47/47 [00:00&lt;00:00, 179.68it/s]"
     }
    },
    "ee174f0e8d1e427e9d36f2667fe41a66": {
     "model_module": "@jupyter-widgets/base",
     "model_module_version": "1.2.0",
     "model_name": "LayoutModel",
     "state": {
      "_model_module": "@jupyter-widgets/base",
      "_model_module_version": "1.2.0",
      "_model_name": "LayoutModel",
      "_view_count": null,
      "_view_module": "@jupyter-widgets/base",
      "_view_module_version": "1.2.0",
      "_view_name": "LayoutView",
      "align_content": null,
      "align_items": null,
      "align_self": null,
      "border": null,
      "bottom": null,
      "display": null,
      "flex": null,
      "flex_flow": null,
      "grid_area": null,
      "grid_auto_columns": null,
      "grid_auto_flow": null,
      "grid_auto_rows": null,
      "grid_column": null,
      "grid_gap": null,
      "grid_row": null,
      "grid_template_areas": null,
      "grid_template_columns": null,
      "grid_template_rows": null,
      "height": null,
      "justify_content": null,
      "justify_items": null,
      "left": null,
      "margin": null,
      "max_height": null,
      "max_width": null,
      "min_height": null,
      "min_width": null,
      "object_fit": null,
      "object_position": null,
      "order": null,
      "overflow": null,
      "overflow_x": null,
      "overflow_y": null,
      "padding": null,
      "right": null,
      "top": null,
      "visibility": null,
      "width": null
     }
    },
    "fcaba6a1adbb4758af24c0ac04633d2c": {
     "model_module": "@jupyter-widgets/base",
     "model_module_version": "1.2.0",
     "model_name": "LayoutModel",
     "state": {
      "_model_module": "@jupyter-widgets/base",
      "_model_module_version": "1.2.0",
      "_model_name": "LayoutModel",
      "_view_count": null,
      "_view_module": "@jupyter-widgets/base",
      "_view_module_version": "1.2.0",
      "_view_name": "LayoutView",
      "align_content": null,
      "align_items": null,
      "align_self": null,
      "border": null,
      "bottom": null,
      "display": null,
      "flex": null,
      "flex_flow": null,
      "grid_area": null,
      "grid_auto_columns": null,
      "grid_auto_flow": null,
      "grid_auto_rows": null,
      "grid_column": null,
      "grid_gap": null,
      "grid_row": null,
      "grid_template_areas": null,
      "grid_template_columns": null,
      "grid_template_rows": null,
      "height": null,
      "justify_content": null,
      "justify_items": null,
      "left": null,
      "margin": null,
      "max_height": null,
      "max_width": null,
      "min_height": null,
      "min_width": null,
      "object_fit": null,
      "object_position": null,
      "order": null,
      "overflow": null,
      "overflow_x": null,
      "overflow_y": null,
      "padding": null,
      "right": null,
      "top": null,
      "visibility": null,
      "width": null
     }
    }
   }
  }
 },
 "nbformat": 4,
 "nbformat_minor": 0
}
