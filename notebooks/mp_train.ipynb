{
 "cells": [
  {
   "cell_type": "code",
   "execution_count": 1,
   "metadata": {
    "id": "iny33Tq2Kttg"
   },
   "outputs": [],
   "source": [
    "import numpy as np\n",
    "import pandas as pd\n",
    "import pytorch_lightning as pl\n",
    "from pytorch_lightning.callbacks import ModelCheckpoint\n",
    "from pytorch_lightning.loggers import TensorBoardLogger\n",
    "import torch\n",
    "import torch.nn as nn\n",
    "import torch.nn.functional as F\n",
    "import torch.optim as optim\n",
    "from sklearn.model_selection import train_test_split\n",
    "from sklearn.preprocessing import LabelEncoder\n",
    "from torch.utils.data import DataLoader, TensorDataset\n",
    "from collections import Counter\n",
    "import os\n",
    "from lstm_angle_model import LSTMwithAngle\n",
    "from mp_dataset import MediapipeDataset"
   ]
  },
  {
   "cell_type": "code",
   "execution_count": 2,
   "metadata": {},
   "outputs": [
    {
     "name": "stderr",
     "output_type": "stream",
     "text": [
      "\u001b[34m\u001b[1mwandb\u001b[0m: Using wandb-core as the SDK backend.  Please refer to https://wandb.me/wandb-core for more information.\n",
      "\u001b[34m\u001b[1mwandb\u001b[0m: Currently logged in as: \u001b[33mhdlicht\u001b[0m (\u001b[33mhenrylicht\u001b[0m). Use \u001b[1m`wandb login --relogin`\u001b[0m to force relogin\n",
      "\u001b[34m\u001b[1mwandb\u001b[0m: \u001b[33mWARNING\u001b[0m If you're specifying your api key in code, ensure this code is not shared publicly.\n",
      "\u001b[34m\u001b[1mwandb\u001b[0m: \u001b[33mWARNING\u001b[0m Consider setting the WANDB_API_KEY environment variable, or running `wandb login` from the command line.\n",
      "\u001b[34m\u001b[1mwandb\u001b[0m: Appending key for api.wandb.ai to your netrc file: /home/henry/.netrc\n"
     ]
    },
    {
     "data": {
      "text/plain": [
       "True"
      ]
     },
     "execution_count": 2,
     "metadata": {},
     "output_type": "execute_result"
    }
   ],
   "source": [
    "import wandb \n",
    "wandb.login(key='af968dcc6f77f75c5bcd9bfc39807a51bcecab9d')"
   ]
  },
  {
   "cell_type": "code",
   "execution_count": 3,
   "metadata": {},
   "outputs": [
    {
     "name": "stdout",
     "output_type": "stream",
     "text": [
      "['cljxltgmi002x3n6luf6r5xa4', 'cll44p7pf003x3o6ll7fkmgvc', 'cll7pmvht002n3o6lwh3pr199', 'cljwr4g4a000g3n6lp1himnx5', 'cljawm39e000z3n6lqdpem506', 'cljwr8nhk00113n6lhe98we1e', 'cll7qu5m400853o6leo4sl391', 'cllenppvx002t3o6lxhjlee0a', 'cllc10m7m003u3o6lzizfrn1k', 'cljr3vdmx002j3n6ldt042b04', 'cll7plefm00273o6lrluiavsv', 'cljwsiehw001g3n6lmr006lhr', 'cljo8eumx00683n6le2s7myd4', 'cljwbiw4g000x3n6lzn7gplp8', 'cll7p23kk00643o6le67ff7aj', 'cll45yous00cl3o6l3amef1hg', 'cljap3krs004b3n6ldjwuf1cm', 'cljws24xx00563n6l1lvi70og', 'cll1tmroq001h3o6loxlzrj86', 'cllami1j5002o3o6lds4184l6', 'clk7h0iwr001i3n6l7zutfxo5', 'cljawu5xd001s3n6lejw8p0uv', 'cll8kdgma006s3o6lsehgsfea', 'cllc2b2ja003b3o6lprua1g0l', 'cll9wv828006n3o6llgnvk6fw', 'cll459c0b007w3o6lki1lqixo', 'cljaoyfcy00383n6lmftrl6rf', 'cll74u7cs00303o6lf02y81t8', 'cll7qg66200653o6lt08n89it', 'cllba1zj9000d3o6lsgqt9rxz', 'cll45dokq008u3o6laphlyfqp', 'cljw743d9003q3n6l8tpmdqtf', 'cll8fqm0r000f3o6lzmwvuf19', 'cljvwngzn00373n6l5ma7hfra', 'cljwsj29l001k3n6l8938wrtc', 'cll9x56vp00863o6labnlv6yt', 'cll8yh7sd003q3o6lqt5nao7f', 'cljo73h3a001r3n6l786njnar', 'cljxiepu3007k3n6lnr4xhxvd', 'cljo76b0900273n6lmbeb54nc', 'cll9y8lpw003q3o6l5ynsgrm5', 'cll7onjtt004n3o6lb97nivnd', 'cll1ste1x00063o6l3v8z8pxh', 'cljo75mgp00233n6lucgcvtnl', 'cljxksdtz002s3n6lnhe5t4p3', 'cljrrh99b000g3n6lvvhqvd6t', 'cll44rghz004h3o6lrlt6ov6i', 'cljarj6rf00d53n6ljtivf4q7', 'cll8ze04800943o6ll5yn10zx', 'cll9xc1np00103o6l7mlj3e43', 'cll7qa64b00593o6lrncwg6xx', 'clk7h195v001m3n6lqorxya1g', 'cljwnp5ai000c3n6lqhuqij08', 'cll7qhd3g006d3o6lee9v7nbf', 'clk6l6t7v00313n6ljaiz1cl6', 'cll74bxqz00143o6luhlnqxyb', 'clk7gzvwl001e3n6ldwqkwlhl', 'cll7riaoo00bq3o6ljjm9tgdk', 'cll9xwz5r001u3o6lp3khnj7q', 'cljws3yi7005j3n6lhe3pllsk', 'cljo1rjf100493n6lor0uc179', 'clk7wg3vw005x3n6lh068vbd3', 'cll8ke4qz006w3o6l7wumvo66', 'cllc2gg5z003i3o6l7f4xc4qr', 'cll8jx4k3004h3o6lsepmx7fp', 'cljxi9qeq006o3n6lybhf28cp', 'cljs4evdd004z3n6lvr0hypqr', 'cljaycatw00113n6lai3dpr03', 'cll7bfkl4002u3o6l8hbja1yl', 'cll7ar7am00053o6l5o5l0gu5', 'cllbhztg3002f3o6lp3a9u4nd', 'cljs3pito003c3n6ll8xr0kbi', 'cljxjv25j001a3n6lw4iv9fwe', 'cljr5tz3c001k3n6lfc27vpnp', 'cljnz4y5a000k3n6lkv4b1rjn', 'clk7wj19b006e3n6lrt6z46hn', 'cljxi0h9y005g3n6lbv12po7w', 'cll7p6z61007d3o6l15kfwloq', 'cll7of6ql00393o6l0hjh0o8h', 'cljs11rxw000c3n6ll6xgdtq5', 'cll8kfsiq00783o6lvet26y6s', 'cljo1s7p1004d3n6lbqi16ndk', 'cll7p93u3000d3o6l2xmwkb5o', 'cljw6hftm000k3n6l1whdg71z', 'cljawov3k001b3n6li7bmdm12', 'cljw7uo8h007y3n6lyok5axbw', 'cllenlhp2002h3o6luagefsxk', 'cll8huk7100783o6la7heoyxn', 'cljwbgqhk000l3n6lyl2bs2we', 'clk6krh1l001a3n6le4octg6x', 'cll8yk8or00493o6la302k3ww', 'cll9wweq1006r3o6ly8fqv6gh', 'cllanv4az000y3o6lpkyl32yu', 'cljr6z0uo001h3n6lixdz25qa', 'cllba2d6w000g3o6lx6kwyah0', 'cljvx9oz1004n3n6lq7ax9uzr', 'cll9uwjqd003o3o6lcu3t5orv', 'cljwrzfhq004t3n6lpnogqw2y', 'cljw78k2f004h3n6lsbwyu559', 'cll8yxfyv006d3o6l1g4f9okk', 'cll44bzhg001f3o6l7spc508t', 'cljo7eycd00333n6loe70zhzt', 'cll1tsq1n00293o6lu7c9kurh', 'cll9w0eci002z3o6lpytk6e0z', 'cljxih2v7007t3n6lbkgqlfoq', 'cll4ss28r003g3o6ldu082dxy', 'cll9y6cyt00393o6ld8esryy9', 'cll8z0i67006w3o6l1edfeg5x', 'cljvx1c3b003l3n6l6e7onq3z', 'cljs4zb32006g3n6lllbx3wh4', 'cll4sqano00343o6libyypvif', 'cll4sduso000s3o6lkjb878it', 'cljwd5h2s001e3n6l14zums1l', 'cllam7xgc000z3o6lwanrl4ie', 'cll9w6h2n003n3o6l223ksi8x', 'cljwbp6ll001b3n6lcbxh7liq', 'cll8yxw15006h3o6liqintyur', 'cljar9bqo00c43n6l2u5zmlru', 'cljr4nffe000c3n6ldehpf7mo', 'clk7fg9z9000p3n6lwqf8ijr7', 'cljwd49i700163n6lxv579o8a', 'cljwroo0h003e3n6l4gxaa049', 'cll450m70006t3o6l88dmnp6h', 'cljaqqdar00aa3n6lblt5iei7', 'cljwd7wey001q3n6lgwlba49x', 'cll74njy2001k3o6ls5l7mt08', 'cllenx426003m3o6ld6v9zx31', 'cll9wuubq006j3o6lsw6f6s9h', 'cll9vjtaw00133o6lyz1ucmc4', 'cll9udswa000u3o6lwgei346g', 'cll9uvpau003g3o6llmw8nj01', 'cljwspg6e00213n6ltn2y4cy8', 'cljr5jk0h000n3n6la34mkdfz', 'clk7fh5rw000x3n6lxsbdzyi5', 'cll4scvxa000k3o6lyevj3yli', 'cljw6sanb00213n6lzcmw192b', 'cll8f95iw004n3o6l6eqevch7', 'cllba4baj000t3o6lxfq01aok', 'cll7orenf004z3o6lv1lktjsl', 'cll9xcslc00183o6l9eyhnguz', 'cll44xxfd00653o6li0fk3odg', 'cllbywkb000103o6lmam65od6', 'cllaflvfo000a3o6lrdm0akp5', 'cll44hwjc002i3o6lqv6hv0ze', 'cljo2y1f7001e3n6lt1wgacw6', 'cll7p45l4006l3o6labj32ddr', 'cll9y3j53002u3o6ldv6062um', 'cljaoshr200283n6lp3zsekp0', 'clk6lnf1400543n6l9daxq3je', 'cll8k59j9005v3o6l2w9i0lse', 'cllbjuuah00133o6l8feqshab', 'cll45d7vn008q3o6l4sxv3e67', 'cll7ojtl100423o6lm79ehhfo', 'cllam7kno000v3o6lzb3jexu6', 'cljw2m5z500043n6lddrtk80j', 'clk6ks8hy001e3n6labhtzxzt', 'cll45shi700br3o6l4ggnfmtz', 'cljaoo2cn001u3n6lf7xqjrze', 'cljo1kedv003c3n6l4p52mpyp', 'cljwtchru000e3n6ln81oebjw', 'cll74m03k001b3o6lxpj0gss4', 'cljxjgy7n00923n6lf1jskzuu', 'cljxh19il00143n6lcoxgwtoj', 'cljnyhuig000k3n6l1tt24vl1', 'cll44wqg1005t3o6lor9rzkdb', 'cljr3n1ca001r3n6l2qydcdn2', 'cll9uuo0600383o6l2qtuk7lz', 'cll9v9302005j3o6lcgyrlbkp', 'cljas6das00fr3n6lhlqzyhq2', 'cljxhybys00583n6l77dunspa', 'cll8elvuh002b3o6llun2czxc', 'cljnyxctl001v3n6l9flqlh5e', 'cll8yaux6002l3o6l4ox4ttlh', 'cll9xfkzk001q3o6lfnqnzvtc', 'cllenmtfi002n3o6l56xcf72f', 'cljo7c1po002r3n6lbm26bmg1', 'cljxgw12o000o3n6lm1k3e342', 'cll44cxvz001r3o6l42os54zz', 'cll8l5xmc009o3o6la9fovmmm', 'cljwr5ix0000o3n6luidaxct4', 'cll8kem2400703o6lhgbdrzn6', 'cll7pecrs000y3o6lonjwilvk', 'cljw2z31s000w3n6lni7ls140', 'cll8gb2f0002s3o6la9w211ms', 'cll44ztbc006l3o6lwzcrjhsh', 'cll9xy2d900263o6llvx82ob0', 'cll7oc4r400323o6loioj0j28', 'cll8z1h2100703o6lx7kes4i5', 'cljaqxf7400av3n6lk29hlkyg', 'cljxigc9k007p3n6l1tr0hmno', 'cljr6wkld00193n6ltjloqzl1', 'cll8k24qs00583o6lbnpqmjyl', 'cll8h1d5f006g3o6lhytfdu5d', 'clld370jn002f3o6luhtp48iu', 'cll9vx1ut002n3o6lnaazymt0', 'cljaqc7jf00943n6l9cmdtsmn', 'cljs45dkb00473n6lesqaxyj0', 'cljax80ln00323n6lqpmv3bw3', 'cll8z8cjo00833o6lye7ul3os', 'cljawo31o00173n6lk7goqxm1', 'clk6lmzcw00503n6l851ywdpd', 'cljvwi48w002l3n6l60p46q08', 'cll9u9i8r00093o6l5ikd2m5u', 'cll74cfvn00183o6lzjgjf4sy', 'cljawzxb5002g3n6ladcuzi1g', 'cljr6q6hi000s3n6l92mb8yqa', 'cljw7257w003h3n6lgnsitrvd', 'cljwshr10001c3n6ln1kkpqs6', 'cljo2wwu7001a3n6ljmqm39l6', 'cljw498vp00213n6lke1u98jj', 'cll7b8e7l001z3o6lrl1ng69n', 'cljxilqrf008c3n6l523828ci', 'cll8yvrje005x3o6lv7fdip49', 'cljwd8jby001u3n6lizluv10f', 'cll9waubg00473o6l19jbb2mu', 'clk6lhj5y004l3n6l6hlpkdfp', 'cljr5nnwf000w3n6l8byrugrq', 'cljw4az3t002a3n6l7j3i4lee', 'cljarpts600dx3n6l98zqf6yn', 'cllenanis001h3o6lsiozrhdi', 'cll8ylbsh004j3o6lguz5obh1', 'cll8eqzi1002q3o6lyzm2v8ri', 'cljwsawxw000h3n6lxtnmrtll', 'cljwsyscb00133n6lj5h5v9v1', 'cll8f71lx004b3o6l0tgjpc2f', 'clld350gs00213o6lt5pzq6o1', 'cll9xelef001i3o6lz3xa6hw6', 'cljwbftxx000h3n6lv1v7w0ux', 'cljs4qzpx005v3n6lpl170g3d', 'cll7awma0000w3o6lrtedrldd', 'cljo1a363002j3n6lcjk9wghk', 'cljo74u8m001z3n6ly63a0fod', 'cll9x2r7c007p3o6l4dqekhnl', 'cljo1e30t002t3n6l8fvbqxa5', 'cljvx6sap00473n6la59xatps', 'cljo2vai700133n6lr8vfevzs', 'cljwslbss001w3n6lr5pf4t4k', 'cll4st1rv003o3o6l7sfx8uhq', 'clk7wilpu006a3n6lly2g44il', 'cljr3zsb6002z3n6lx6emjomm', 'cll7nsa9l001e3o6ldsgyg1qy', 'cljs1j69t000w3n6ll4jnm662', 'cljap1efc003z3n6l5ghozcy9', 'cll8i98ro001q3o6l6me0cbul', 'cljvx26e4003q3n6lkx7aqcme', 'cll9uz70r00453o6l3c7yy5r2', 'cll4494ux000n3o6lyqr7dx4l', 'cll45xfis00cd3o6l8ljdswtv', 'cljr3kiht001i3n6l4jq31vhh', 'cljxlrov1002l3n6lpdcu0j0p', 'cll45eqix00903o6lalmbmqlv', 'cll9whe0h004z3o6letax0zcr', 'cll44l89z00353o6l1ve62vk7', 'cljwd53nu001a3n6l8lu2lz3u', 'cll8gq7i7004l3o6lby0zk8l9', 'cljwtogit00203n6labkjs3gk', 'cll45ct6p008n3o6ltsoy1y7d', 'cljas134500f73n6lkfbjfayp', 'cljaotzi6002g3n6ljofm5j6d', 'cllc0owv5002i3o6lf8nc9wez', 'cll8i1ry6000h3o6lro9qix4i', 'cljw7ndde006n3n6lfm5x8fuv', 'cll7pkihc001z3o6l2k2myogc', 'cll74kndy000z3o6libp3z895', 'cljo33m8400263n6l4xxsl6ku', 'cll8xxc8w00093o6lcq5eithl', 'cljo71lk4001j3n6lghxvvz0r', 'cljxhlvfn003k3n6li498ww87', 'cljxgsqgt00043n6lvj5enj3z', 'cljxkbce1001f3n6lfsg0zbg4', 'cll7p2x3z006c3o6l9gfs03ce', 'cll1tl72s00183o6lidwjpm4l', 'cljawd01m00093n6l4kx9020l', 'cll749gur000o3o6liy16wuvp', 'cll44m0to00393o6l0zg49ou0', 'clk7uqx0y00093n6lyp9anc3y', 'cll9x8ght000d3o6l4clj3v43', 'cll8ykymb004g3o6ltus18wn7', 'cljw7swdz007l3n6larz6jybg', 'clk7v612u00133n6ldrkdfi7n', 'cll7pe1vf000u3o6l4kz90gxi', 'cllenh9d100253o6lu2fyb0jk', 'cljw7tfqg007p3n6l0nwqb8w1', 'clk7v85pj001b3n6lhmu8dk9m', 'cll4vednu00513o6lipvtz0oz', 'cll45anxm00823o6la2q71owc', 'cljwbhsda000p3n6lo07fktzr', 'cll8jvu18004d3o6la711z911', 'clk7w3ipd004v3n6lvxg2f2do', 'cll7p8ha300093o6lgty82whb', 'cljs1t95n001k3n6ldcxlogmd', 'cll44tnb500513o6l5zdd2bsb', 'cljxhso2n004k3n6lczes9nyj', 'cljs4cd14004r3n6l3pu26q0r', 'cll7p63zc00753o6lmf6n6p9i', 'cll8ewaqp003e3o6l6x9pfu77', 'cll8yvfp4005t3o6l33zyx8ap', 'cll45zkrs00ct3o6loe94okf8', 'cll8kzv9600923o6lnmbhp88u', 'clk7wqyig007i3n6lkie1ez3m', 'cll8k6t9d00673o6lb9ryzdsb', 'cll8i2l3w000p3o6l8vxxvet5', 'cljw6om0e001f3n6l395dmbg4', 'cll451mvy00713o6lvcdckobf', 'cll9v1wrv004g3o6ldfsksu23', 'cljxjpb7z000d3n6lpmxhbqau', 'cll8ywl6200653o6lvr3kd8ni', 'cljvx8zo5004j3n6l09nz7rpt', 'cll7om3gz004f3o6ley5yrxxo', 'cljaruue100ee3n6l6kv3vv1h', 'cll8ey1l0003m3o6ldadqnbs8', 'cljw7c11f004z3n6ldnwe9cqj', 'cljaqi14m009o3n6lutscti5j', 'cll8zdghs00903o6lsc69xrdv', 'cll44balt00193o6lbzpyxlqq', 'clk6lapp7003e3n6lnpqtai54', 'cljo1phh2003y3n6l69kfyzp4', 'clk6lcq54003u3n6llqcmuee5', 'cljo83yl800513n6lfglf5jn8', 'cll7nvnpk001v3o6l6i9yqdbg', 'cll1tpvdm001v3o6lpqzlnorv', 'clk7wcql7005g3n6lqmwzxquh', 'cljr6mxf0000c3n6lujp11l6w', 'cljao8kyf000d3n6l0x9kgmav', 'cljxhuq6p004s3n6lvv0r39b9', 'cljxhxc8l00543n6le711pgu9', 'cljwta1v800043n6l7tvrpsc5', 'cllamo3pq003d3o6ldsog6gb1', 'cljarhldg00d13n6l7utw0lqn', 'clk6l1mlq002h3n6lvt6phaxh', 'cll1tfz0t000e3o6l6ypxvap2', 'cll1swzih00163o6lxkyk0n6i', 'cll7as4yq000d3o6l9o4h2ozb', 'clldfwnnn00153o6l8d3rygky', 'cll9uwwio003s3o6livli3vfd', 'cljr4wlt0000z3n6l0984n9o3', 'cll4sjxys001s3o6lgz82fhoc', 'cljnyzwbo00043n6lugyldlhu', 'cll1suku5000i3o6l0ztj3m3v', 'cllep8bfm00093o6lsk0z8oh8', 'cljxho16c003w3n6lm2bhcvp6', 'cll8kl3ha00883o6l861c0yh4', 'cll1tta09002d3o6l4kroorkw', 'cljxlvp0c003e3n6lhbqb87qc', 'cll9wsbzf00673o6lhloccwpj', 'cljw2vl73000k3n6lqkzk2mga', 'cljwreup5001v3n6lv1gnmnpu', 'clk7wnlq4006t3n6l6bimz9pn', 'cljvx07sw003h3n6ltdmixplw', 'cllc0y22y003i3o6liek1w8k8', 'cll8fwfcz00153o6lirqzxw1f', 'clk6kdbvm000g3n6ln30mqzw6', 'cljwrs3ox003s3n6l3qiz89pr', 'clld35xx200283o6l5o4i98br', 'cll9vg9un000t3o6ledh37ba2', 'cll7bb07a00293o6lln0i08hu', 'cllapcuxj000y3o6lja30yzic', 'cll7bh2lv00333o6l66gqcyq3', 'cljaommx0001m3n6lfb2cuqgv', 'cll1sz60600053o6lewgeftg3', 'cljws85nz00043n6lfct00zcv', 'cljrrf2gf00043n6lx8hwp6k3', 'cljawvm5k00203n6lpalr2ose', 'cljw6zrh800353n6l76psqelc', 'clk7wq143007a3n6lbpbb74l7', 'clld3ef9b003p3o6l1f3mrlez', 'cljxjfx4c008y3n6lvumawda5', 'cljr5a80800253n6lzu0jmkx6', 'cll9w1e0500333o6l5omih4uh', 'cll8kjx4500803o6laioc6a6l', 'clk7veg1d00233n6ld9n15yu8', 'cljxhrmyz004g3n6ldq656j69', 'cll9vej3n000d3o6li0zfmfjh', 'cljr3ovxy001v3n6lp1ru2833', 'cljo6oiiv000g3n6lr7nwhvl8', 'cllenznbt003s3o6liisv7agr', 'cljwbsax5001o3n6lgoj7f57r', 'cll4scju3000h3o6ls1eg53cq', 'cljr6zqwu001l3n6lc40rmemx', 'cll9usru4002x3o6lx0n272sp', 'cljvwe0ky00213n6l7qczieno', 'cljxlunqd00353n6lhitle9h1', 'cll8ya2fg002d3o6ln8rlee1k', 'cljs1hv8z000s3n6li0v6glrz', 'cljvw0vgp000i3n6lf0ykyacv', 'cljw488gl001t3n6l5ogfho3h', 'cll8in9cr002x3o6lkkh73hy9', 'cll7b5mmr001f3o6ler43480l', 'cll8ifor6002e3o6l1zwhhwps', 'cll8xwtqh00053o6lnmzz62kh', 'cllc0t1oc002y3o6lz7j1wq4l', 'cljxjsfhr000t3n6l1t0t0i5v', 'cljw6e97y00083n6lopyf3zqt', 'cljvxhzpm005f3n6lup499agk', 'cljxgugiu000d3n6l1ieoxyk9', 'cljar1lys00bf3n6lnn8jrx8y', 'cljr61601002i3n6lp9ppmflo', 'cljs507qx006k3n6l0raraiqg', 'cljw3xegk00043n6l9kkmoeco', 'cljo16d9a001w3n6lg07nk76y', 'cll8l7rpo009w3o6l08elz1cg', 'cljvxbmbq004v3n6lz5ou4j62', 'cljwr9rrl00163n6lt054x4sf', 'cljaot782002c3n6liew6rbtf', 'cljws2r5g005a3n6ll46hxg3f', 'clk6l28gd002l3n6l0sh6iyud', 'cljxl3an5001c3n6lschs9zkv', 'cll7pp9ze00373o6lbfxzudn0', 'cll8ecayf000y3o6lpus3xxcd', 'cljarcy3g00co3n6lzsn1x034', 'cll8k4oby005r3o6ljjncvkp8', 'cll74iurd000n3o6l11c4d3dr', 'cll8yj3l800453o6lacid5bqv', 'cllapbhiq000q3o6lvbqzxdb5', 'cll8ycctu002x3o6lpkcttnko', 'cljr6xqvi001d3n6lctvtihw2', 'cljw6t22j00253n6lqj29g2uu', 'cll8z5xql007n3o6l052xywc3', 'cljximnr0008g3n6lmof9rjho', 'cljr44fvu003l3n6l5mjp10bs', 'cljxknprk00243n6l8cnbqih7', 'cljo7iy1d003j3n6lvhf98cre', 'cll7bjqen003b3o6ljt1q648r', 'cljo7bfwl002n3n6lnbxuwj21', 'cll8hv4lm007c3o6l3u0iruij', 'cljr4k94300043n6lau0823r3', 'cll9vzp27002v3o6lp47tfzfc', 'cljwszgu800183n6lv2aev7fd', 'cljr3lvzs001n3n6l5805w9wq', 'cll8i28ce000l3o6lixho6ri4', 'cll4seb5n000v3o6lwdsjtqzy', 'cll9wr80g00633o6lg2tmhqi7', 'cljo8cyv500603n6lyl148tmg', 'clk7gyl2g00163n6llq7wids3', 'cll1t1y56000n3o6l0erm0qfo', 'cljwr30g000043n6ls0cp5ety', 'cljaoebv700113n6lw01p9hl3', 'cljxl3joo001g3n6l4rl9x2md', 'cljo7gra200373n6l6nyp18h5', 'cljwd1n5o000u3n6lo2vje4yj', 'cljw6f07a000c3n6l2ayhqj3o', 'cll7ogyi4003i3o6lnpe3i230', 'cllepdv8r000x3o6lqo5x4bvl', 'cll4591gc007t3o6lgclxbwfm', 'cljax9d2p00363n6lx043s1m7', 'cljwrtedu00413n6lty9mdlvq', 'cljxji13l00963n6l0o7vmhnf', 'cll8jurgd00493o6lzdzjcang', 'cll8lahyq00063o6l3pfgzwtp', 'cljap5o8u004r3n6llsoy3aww', 'cljw7shbo007h3n6lhj6j73z3', 'cljr4zha200173n6l6dz5hydi', 'cll8ylqv1004m3o6lnul9h7a8', 'cljr5ycaw00243n6lnkzsmyhl', 'cll8kklqc00843o6lqv7v4xnl', 'cll8ips7q00353o6llefwf1eb', 'cllc2ioa7003q3o6lns793jmg', 'cll9y9spt003u3o6l3sjk40hf', 'cll45obbz00az3o6lw3j673sm', 'cll8f6ept00473o6lw6kjtfk7', 'cljwbkl5u00113n6lq6juqm6c', 'cll45gpat009g3o6lzcamhn5r', 'cljo7acd3002j3n6lhb0de2it', 'cll7ouqx5005b3o6l6jpxfc60', 'cljw413ht000p3n6l2nrixlh6', 'cllafmjc4000e3o6lz21wye9y', 'cllbc9m7e00073o6ldmh5cpl5', 'cljwskeid001s3n6lrp3je2km', 'cllcybkmj001p3o6le6i3k02f', 'cll8y63s3001o3o6l1iuxw0qg', 'cljw3zyxa000h3n6lrlj0pgvo', 'cll8fqbit000c3o6l5hmryp94', 'cljo2pc2p000c3n6l5f5bhadf', 'cljo0zeft00183n6l0oii1i7y', 'cll1tjqey000z3o6l9rxk74ly', 'cll450706006p3o6l2vc93wf0', 'cljawurcg001w3n6lbuefy26i', 'cljo1r22b00453n6lzc828qd4', 'cljxhw08900503n6l3nyj2qhl', 'cll8lcois000i3o6lv2j3ajo4', 'cll8eyoab003q3o6lje0rebim', 'cll8idnvu00263o6lmxc3m8qx', 'cljaob36l000m3n6l9xokjqww', 'cllbkxxuf000c3o6l848vr3gz', 'cljs541cf00703n6l8gjj1v6r', 'clk7v3gtf000v3n6la00c8eue', 'cllepefwp00133o6lt28nvaio', 'cljap0c1m003o3n6lgmq5uhwn', 'cljas04fw00f33n6lm5cvx9g6', 'cljwcqyw500283n6lcmqv13n0', 'cllamyil1004o3o6lsl7ye5jj', 'clk7f51es000a3n6l36qtf09v', 'cljr4pd4f000k3n6l64jbh99c', 'cll44jfs6002s3o6lx81eaw9d', 'cljaonfdz001q3n6l4qtxtuut', 'cll8kj4xu007w3o6ll27qmd7n', 'cljxhdl5y002k3n6lryoxnto7', 'cll7omlfa004j3o6l475krfek', 'cljxhbr13002c3n6lo1ds8kua', 'cll7qjvcw006u3o6l280zhuqz', 'cllanuqaa000u3o6lg3qa4fgb', 'cll44xmlt00613o6luubjssx8', 'cllamg376002c3o6lyco69adn', 'cljxi3myk005w3n6lqukbi24u', 'cll46063b00cx3o6lkq2cvt1y', 'cll4smvp6002c3o6l64twsyns', 'cll45wx9r00c93o6ls8i3p388', 'cll7qrh84007o3o6ljr3cnbp7', 'cljwcxjlo00083n6lkqia9zx0', 'cljaruc8p00ea3n6lpgcgdo3d', 'cljxhla5g003g3n6le1tbxmop', 'cll7psrig003q3o6lqzf1eqde', 'cllanslnj000a3o6lyqljitdf', 'cljr676xh00363n6le4sij6m4', 'cljo32213001u3n6lel97up5f', 'cll74r665002g3o6leghjiw3d', 'cll16hpim00363o6lw2vi7j2h', 'cll7az0zy001c3o6ly4mhvfjm', 'cll8jdnzy003w3o6lvkbd1iiq', 'cllepj4kb001s3o6le0fhjor3', 'cll8yzbic006p3o6lmzz1rotd', 'cljw4a7sh00263n6l26jwdqpf', 'cljxhirrl00373n6l7xsxnxki', 'cljw4bvwa002i3n6l11cwtwxq', 'cljw6jpnw000w3n6lvibo5ynh', 'cll8hu4qq00743o6l9abmzbfu', 'cll7olcvh004b3o6lcxmzxvgq', 'cll7ppx1b003b3o6l7e9k5dwc', 'cljxkxrcq000g3n6l1h9qy95z', 'cll44uuy8005d3o6lp580ed3c', 'cll8z36lx007b3o6lvsy3tq9t', 'cljxjsxio000x3n6ldkxm7gs4', 'cljwstff4000d3n6ll71hchoj', 'cll74aq06000w3o6l1li6whdq', 'cllc1ylva00253o6le0hrppme', 'cljwsjpbp001o3n6ln3z2vtfk', 'clk6ksvq7001l3n6lh5doclng', 'clk7vl6yu00313n6lknetd6da', 'cljwcu98s002o3n6lgvojbey3', 'cllamf5or00273o6l8cchelc8', 'cljw7gpfm005t3n6lfh2c2fbe', 'cll8k3gus005g3o6la0ll4n2f', 'cljws9b1w000c3n6lzf4v7hdb', 'cll7rgp8y00be3o6lxy3nwceo', 'cll452yrt00793o6lag8gn2kk', 'cll7nkrfb00093o6l6bba9hwo', 'cljw456fl001b3n6lgrikkdsg', 'cll8gd8n500313o6lqp5qd0vs', 'cll454erx007l3o6lwt9kmva5', 'cljax5by5002x3n6la1cd2oel', 'cllc0la2000263o6ldir88qnb', 'cljar11t100bb3n6ls0aq85hr', 'clk7vbv2o001r3n6lwm62yivw', 'cll8zbjbh008j3o6lxbl4kovp', 'cll44mu2g003h3o6lo05v7xlw', 'cll7nz8sk00213o6lvx7830ce', 'cljr3tvxt002f3n6lui2z8qw7', 'cll7phxi9001j3o6l45fcb97i', 'clk7vqef6003j3n6labf9flig', 'cljnyl8fe000r3n6lrz4uf8bb', 'cll8gkpjk003x3o6lj30cbt8l', 'cljo1tiob004q3n6lap9yyt5l', 'cll8h2yit006s3o6l0megfvr0', 'cll7o3rt6002t3o6lhmpnv4pa', 'cljo84jju00553n6lmgm4dqtb', 'cljaoyz1c003c3n6l84cbjwg9', 'clk6kbxrx000c3n6lnxcdhw1x', 'cljax40az002t3n6lwspyczks', 'cljw7a2mf004q3n6l5u1wps0e', 'cll44md5y003d3o6l2s8g314n', 'cll45jwip00a93o6l9kjkmwjf', 'cll9wbp04004b3o6ldbbhuvwx', 'cll8je3cl00403o6lem0c5jxl', 'cllc136vu00423o6lz1gyo2p8', 'cljar4zkz00br3n6lp76etiwf', 'cll7bcydm002g3o6l4fkft7bh', 'cljwrqwc9003n3n6ltzrvje9c', 'cll8jeiqh00443o6le0d9gijv', 'cljxid694007c3n6l2mwpxjbt', 'cljw7pk60006w3n6lud1dvft9', 'cljxl4f0n001o3n6lbbq2h864', 'cll74h8qf000e3o6llqetl5re', 'cljawy3jy00283n6l7xw1p3ab', 'cljxktaru002w3n6lb8hll80p', 'cljo72lvo001n3n6lw5vlaf38', 'cljo7rfp9004f3n6l8r52qile', 'cljxklc35001v3n6l6ex171ry', 'cljwrl5sp002s3n6l9f979pew', 'clk7vxpkh004b3n6lh19y5sxu', 'cll74l1t600133o6l0y8ernl6', 'cljs3lenp00343n6lg7lk0p9c', 'cllbz4yas00203o6lb5lv3xmr', 'cljaouueo002k3n6l57zl7081', 'cljxh46p8001j3n6lnjlzlxpd', 'cll9y063j002i3o6lfk3xgifq', 'cljwbqprx001f3n6l49fulwhf', 'cljxl14d9000x3n6la28mx768', 'cljws1mn100523n6l7yrxf2yp', 'cll74i7aa000i3o6ljiq0nqr2', 'cljxlxyc0003v3n6l0if3b0i7', 'cljaqgysf009k3n6ll9eqg231', 'cll8fehbz005c3o6l3ug198rg', 'cll8y553i001k3o6lqko1gnwa', 'cll1tgy4z000m3o6lon7dsr95', 'cljw7ajrd004u3n6ltrzrbk92', 'cljo86iyn005d3n6lhr0el9mm', 'cljxlwvyd003n3n6ljo58d6s9', 'cljo1ge6r00303n6lya0vn04h', 'cll44qpg400493o6lfcd9cdqa', 'cljvxijr4005i3n6l51ll5c0g', 'cll9uoucr002f3o6lxqw761ez', 'cll8ybx5d002t3o6ldf5s7yss', 'cljw448vx00163n6lhm5vmfhm', 'clld3fen1003v3o6l9ecbpfk9', 'clk7wr95s007m3n6lclomc8ru', 'cll7p17gq005w3o6lqpp7ngr6', 'cljo7jzuh003n3n6l6ahn59qf', 'cllephqq9001m3o6li43x1ynu', 'cll8i6w8g001f3o6lnwpedsn7', 'cll754iv9003q3o6le34xmhdw', 'cllc0v8c100363o6l0tnitjgo', 'cljvwt0na003c3n6lrijx2mna', 'cllc1x7j3001y3o6l3jo829my', 'cll8y0q36000r3o6ljimeybn1', 'cll8k74kx006b3o6l0fue0bcg', 'cljo2teaa000v3n6l58tre0ur', 'cll9ufofj00163o6l0whdyobn', 'cll8ff8mp005g3o6lfiez3fs3', 'cljnyqv6p001a3n6ltpn3im47', 'cljwctrwx002k3n6lv7z0eodd', 'cll1tqrrx00233o6lomml91s1', 'cll7oi4hc003q3o6l89somaig', 'cll7qnc53007b3o6l18kjlo9h', 'clk7vkjqo002x3n6lfrz358aq', 'cll4vbibu004h3o6ldilydl4z', 'cll8gdntt00353o6l94nu8a89', 'cllamsonz003z3o6lwrp5vstm', 'cljvwb1h6001p3n6l138k9qo4', 'cll7ate0a000j3o6lurub2tak', 'cll44ukc800593o6lcuyd2sai', 'cljwbrss4001k3n6l6oaj5ayy', 'cll8yagvo002h3o6logwq14xn', 'cljartjkn00e63n6lh194w640', 'cljxjew0v008u3n6lfp6v2l22', 'cljxkinfg001j3n6lrled80pl', 'cll45mblp00ah3o6lihobda7q', 'cljs424vc003v3n6l00y4fdlb', 'cll7owekm005j3o6ldaan3x94', 'cljs14tc4000o3n6lcl4e859g', 'cllepfo1p00193o6lvxqto8mm', 'cllba6aci00153o6lcl94c1sg', 'cll8yp0ff004t3o6l10qclwhs', 'cljaodqnu000y3n6ltaisg7tz', 'cll8yr1ob00593o6lh13uctjn', 'cljr3yz5f002v3n6lcvv0x2kh', 'cll44iuad002o3o6l836m07p6', 'cll44ar0q00153o6luv35dhl0', 'clk7vlsxt00353n6lmynqknax', 'cljxl0iym000t3n6lynwllkv1', 'cll74jg80000r3o6liy3ptuv8', 'cljxhqmkc00483n6l5nmlgtsk', 'cll8igqep002i3o6l1ruz7ggz', 'cljxh7ss1001w3n6lqp12u749', 'cll8ydfsl00353o6lsn6rymhc', 'cllbyzkkm001i3o6l45u1jeg3', 'cljxlqqqm002g3n6lc2tgfix6', 'cljvw3sad000u3n6lb57uns3y', 'cll7rf3tx00b23o6l6rmg0swu', 'cljxiakgy006s3n6lnv6bs294', 'cljs1xxx5001o3n6lk7mnpg08', 'cljwrq524003j3n6lt19gnyf5', 'cll7r3sa3009k3o6l1r97egyz', 'cll7p882j00053o6lf14c7el3', 'cljs4fg5q00533n6lva2cwo7m', 'cll8z7uqs007z3o6lg1xwihmc', 'cljxhvgec004w3n6lbq9yhtpd', 'cljr35dz2000o3n6ldv8nzdn2', 'cll8kljtt008c3o6lo3nauxjy', 'cll45nlw300av3o6l315uns4s', 'cllapc5o7000u3o6lijj8asww', 'cll8fp9jh00043o6leq1pvm6n', 'cll1t0vvk000h3o6l7jnt7zo7', 'cllamomk2003h3o6lxq0mitm2', 'clk6li116004p3n6lxwvkwmoh', 'cll7bhnmu00373o6lsa7y9j51', 'clk7f45v100043n6lfg3slaf9', 'cljr4rcwq000s3n6lxu1mjryx', 'cljs3fc6r002s3n6l1va1vqkv', 'cljxkwbqc00083n6l6afotzlq', 'cll7ointh003u3o6lgein6ile', 'cljaoxzmr00343n6lfoaxldb1', 'cll45rg0v00bl3o6ls2ix6zfv', 'cljaqfh2m009g3n6l1e9tgem1', 'cll8ejpn5001z3o6lc97nhqzd', 'cll8z4ofb007j3o6l6ks1s7ho', 'cljas4dqj00fj3n6ldw6wiwpy', 'cll45h3z5009k3o6lfvvbtj9i', 'cll44faz0002b3o6lkfu2oggx', 'cljr63lr2002u3n6ltz5dkwef', 'cllfygkas000a3o6lz5uy81n1', 'cllen39z8000v3o6l4x2kgvwe', 'cll747tza000a3o6l8yboodhd', 'cljaovpji002o3n6lgugwrc6j', 'clk7gz7xe001a3n6lwzc45ru5', 'cll74q59g00283o6lp8wjejom', 'cljo8hcfv006k3n6lgrx0fcpx', 'cll9wf622004n3o6lbzugnnix', 'clk7vgohu002f3n6l6edo8gi2', 'cljawpjqr001f3n6lop4rdnzm', 'cll7rh5l100bi3o6lsl6a0l14', 'cll16j9i2003m3o6l0q72twds', 'cll7b7wg2001v3o6lai7giyv9', 'cll45i8bj009v3o6l81ux4gw6', 'cljo6uf24000v3n6l466kgki4', 'clk7wpim200763n6ltlvyc7kv', 'cljwsgzl400173n6l1o4umk7l', 'cljwbcjvq00043n6lllxhr535', 'cljxhpdds00443n6l04zwwcby', 'cll9wlgu7005j3o6lefspaeem', 'cljxkz0sw000l3n6lag5efqf7', 'cll4su2eu003w3o6l5wzs40yw', 'cll8ikdv2002q3o6l5kq3d1wp', 'cljaqocwq00a23n6lj8kgw100', 'cljdyypnd000c3n6lp8jaku1w', 'cljawdoej000d3n6ll5ysj34f', 'cljxihp86007x3n6lv3i1hc0h', 'cll7pofeu002z3o6l476wbj4v', 'cljxkk705001r3n6lih7q9zt8', 'cljwd7gqa001m3n6lteailldg', 'cllenw3r8003g3o6ludxcf6jg', 'cll9wgth7004v3o6l3sw4err0', 'cll9wxj1v006z3o6lek7gwmy4', 'cll8gh26x003f3o6lmz6412q0', 'cljxlvf5h003a3n6lqssm40es', 'clk6kym3f00233n6lkpm2dxnq', 'cll8z6f5h007r3o6lt29n5zmi', 'cllam8www00173o6l4nf6u36a', 'cllepaawp000f3o6licwg9yxt', 'cljwrfyf600203n6ld19mo3ez', 'cljr42eoh003b3n6lo0fmcy5k', 'cljnz3l34000c3n6ldapq560j', 'cljr59m8e00213n6l2yf4rga3', 'cljnypth200163n6l1dfd5hbf', 'cll747czo00063o6l5sox9fps', 'cljwtp06q00243n6luy6xd8yh', 'cljr6plhu000o3n6loi07umhh', 'cllanvjdw00123o6ltqxqhs3e', 'cljarar9t00cc3n6lqhi9udoc', 'cljw77snx004c3n6lvetndlu2', 'cljarw4ip00em3n6lp4xcmkcb', 'cll7pqcwm003f3o6ltfi4x1ti', 'cll44hiwd002e3o6llv2e9o9t', 'cljr4qair000o3n6lfd04bbxe', 'cll7okd2g00463o6lqony3cgv', 'cll8h2imm006o3o6lrk0orfvc', 'cll7qvutf008d3o6lwsz9gxtf', 'cll8y8q8500213o6lzgu2vbx6', 'cljvw2pll000q3n6ljsxpln23', 'cljxh5uz0001r3n6l64mpm5b3', 'cll9x0jzl00793o6lm18f4tsp', 'cljwrbegv001e3n6l2d7a3018', 'clld38e4i002t3o6l0iije9fu', 'cll45bo9v008c3o6lli3qkb72', 'cll8jctrz003s3o6lrq9j7upl', 'cljw79f1u004l3n6l6qctcevn', 'cljaqdzxw009c3n6lo9tgpswu', 'cljap0sgs003s3n6lkyvcdzkd', 'cljvwh32z002h3n6lqbpciciy', 'cll1t63r300113o6lajubixny', 'cll9x90dx000h3o6lbcp3ofpv', 'cll7pkx8m00233o6l364wm6k4', 'cll7qs7tb007w3o6lxsdgc4ui', 'cljo2sm7w000r3n6lixdl066n', 'clk7v4dfr000z3n6lthxv7b9z', 'cll4sil1p001k3o6lzcqlflci', 'cljwrljou002w3n6ld0cnkyyv', 'cljxm3vy3004q3n6lbbo4t0af', 'cljwru1g600463n6lp6agakeg', 'cljs513ok006o3n6l9oapxupv', 'cll1tjali000v3o6lz1q0sbhh', 'cljw66tru00363n6lul1gvz3v', 'cljw7q1kn00703n6lo6plljo9', 'cljw7jxyk00663n6la0rfq89w', 'cll8esfku002y3o6le510a9jy', 'cll9uw5d0003k3o6lrqtgjt9a', 'cljardvzg00cs3n6loetskba6', 'clk7wescc005s3n6lwpgkwfkk', 'cljwrkef8002o3n6lp21lyyik', 'cljawlkt0000v3n6lo2s8a5rl', 'cljxkvisw00043n6l32m6unyg', 'cllanpv2600563o6lzc4igc2r', 'cll8ebce5000u3o6lj55n38oe', 'cll44yz75006d3o6l4a0v6ovq', 'cll8jbufk003o3o6lbdlhq55p', 'clk7vs979003r3n6l21728wxc', 'cljxi82s2006k3n6l8u7gqntq', 'cll74sxdi002s3o6ljm7imxsb', 'cljwcvfg5002w3n6lo9eg0k8w', 'cll45fxj000983o6lr7ndc8m8', 'cll8e7fwo000a3o6lx7vbhve7', 'cljaqvpdp00an3n6ld9oqnejn', 'cljw461m9001f3n6l0o9gjzvg', 'cll7pdpya000q3o6ljqewymao', 'cll9v8q89005f3o6loixx36b4', 'cljvvvetj000b3n6lqxrqgm3o', 'cll45y7bn00ch3o6lda25s1bw', 'cljawb5nf00043n6l38chxsod', 'cll8fprbu00083o6l8va6lsx5', 'clk7vb47s001n3n6lygrlfyfm', 'cljxikwg800883n6l1fsf45nx', 'cljo7qni2004b3n6lhr5cbmt6', 'cljnz7jnj000w3n6lku3pfvtm', 'cll7556nj003u3o6lzhcysmtf', 'cljxjtvxn00113n6lzfbo2p4o', 'cll1sweuf00103o6lbl3xk82g', 'cll9vdoyz00053o6lesqzcat4', 'cll8e93g3000i3o6lxvm2yhd6', 'cll7p5o5700713o6lf77pcwo6', 'cljwcn068001y3n6lrm6qqj8o', 'cljxjiy2z009a3n6lt8814xvn', 'cllbacor3001n3o6l6shinqqr', 'cljwt17kh001g3n6lhqelrx2w', 'cljr3pl9g001z3n6luaky2d90', 'cljarmcm700dh3n6lxw24hxgx', 'cljwno0m600043n6lq54umusu', 'cll16mmxj004a3o6lims8zdjc', 'cljw7cy8n00573n6logmpj8qf', 'cljarkax200d93n6lukx52g1t', 'cljs1rs7s001g3n6lza2i5sdx', 'cll8kxq55008t3o6lg6kdl7lw', 'clk7vopzf003b3n6ls09yk91c', 'cllepbkly000l3o6l0iowjhfk', 'cll8f81fi004f3o6lg0cl1dqz', 'cljxhh8ya00333n6lmn4bfa1d', 'cll7rg9nk00ba3o6lblgphdnf', 'cll8ytqe1005j3o6l3r7h2zkx', 'cljaqdekt00983n6ldn9m222j', 'cljwtfmw9000u3n6lwarp8uit', 'cll8ki7xa007p3o6lrxe1n7lb', 'cllendz0h001t3o6lkl4rhklc', 'cljxgxq03000w3n6lpsp4cgc9', 'cll8yq2pj00513o6lkv0grvn9', 'cll8lc6c0000e3o6lgu3uicr8', 'cll7ntwcy001j3o6l58p3y3fx', 'cljnz5sb1000o3n6lntosswwz', 'cll8y32yb00153o6lll6uq3r4', 'cljs4shwn005z3n6lw5bwbprv', 'cljaxabfg003a3n6l95mrlcry', 'cll1t00hj000b3o6ltvcr8m0l', 'cljarp08600dt3n6lxa7sysiv', 'cljw48sqo001x3n6lui1j6arn', 'cljw70yj4003d3n6lzhjn55nb', 'cljwrsi3r003w3n6ltfmup6z0', 'cll44vscs005l3o6lizvxoeqj', 'cljw7ewnf005o3n6ltnxeqg54', 'cll9vgqli000x3o6lnyfwj9yf', 'cll8k3z7n005k3o6lps3evia5', 'cljo875nq005h3n6lgtoxz2ug', 'cljxjqo0e000l3n6lzw4fbzvx', 'cljap626d004v3n6ldyysleyr', 'cljs51wg8006s3n6la5snnj9g', 'cljs3dvx6002o3n6lqlo1s770', 'cll74cz9o001c3o6ld19cusaf', 'cljr3jq8m001e3n6legw30pqn', 'cll1tlpxj001c3o6lkqkvvqhq', 'cll8zb0pp008f3o6l0iqld0dz', 'clk6l0fy800293n6lhh1t24pc', 'cll1thi3n000q3o6lnr0j6u0f', 'cljo30lnz001q3n6lopfty7q5', 'cll7rbjqf00ah3o6lavxphy3j', 'cll9v88e7005b3o6lsm78vmuo', 'clk6lb2my003i3n6lesxxkgpf', 'cll8kmknf008h3o6lu3vojf3j', 'cll4ssg7d003k3o6lp1s8zs9g', 'cljaqyc4800az3n6l3qio6zbh', 'cljwcx6nj00043n6l90obz35w', 'cll44nq06003p3o6l7vf29lq8', 'cljwrju1q002k3n6locdj52a9', 'cljw6dlqu00043n6lth228e1x', 'cll7pzgge004x3o6lz8afsrb8', 'cll9xyhl400293o6l0ais7ans', 'cll9uc54b000m3o6lp356kyh6', 'cljas1yfs00fb3n6lna38ui6i', 'cll8ee0we00143o6lutcc0bu3', 'cll8eahs6000q3o6lzemkbi27', 'clk7wqkks007e3n6lnhit334h', 'cljxjd0vg008q3n6lik66nqws', 'cllen5o7r00113o6lgnt7bym8', 'cljwt1mnk001k3n6lsrz5snat', 'clk6ktoi4001o3n6l2m6oag7i', 'cljw2uzhq000g3n6l4hha2c1e', 'cljs40rs9003r3n6lcwzznnbm', 'cll8i4y5000163o6lrkj1m6h7', 'cljvw8q00001h3n6lpt6wb3mz', 'cljs12u6n000g3n6l1aq9hj4u', 'cllapanh9000m3o6l7bvi0buh', 'cll9wq8oc005z3o6lgzuw4rfo', 'cljo1f64d002w3n6lesxbgihr', 'cljwtauxc00093n6lcfjk03tn', 'cll8k8pxy006n3o6l2q1gopyo', 'cll7qkwgd006y3o6llnmxybt1', 'cll8eqc0v002m3o6lpvxbaikp', 'cljr5wgkf001w3n6lwp1w3wlu', 'cll7nqash00123o6l6sft78cp', 'cljwd6kxa001i3n6lm1mk8bg8', 'cllc0zccl003o3o6lsxg9bxha', 'cllbyadr3000a3o6ll9sc6eii', 'cljo2yqzp001i3n6lg75p7wtq', 'cljas5esv00fn3n6lewd5xqdl', 'cll44k63a002y3o6l5mrc1stg', 'cljs3m7j800383n6lhtfqmad8', 'cljo15f2p001s3n6lvgsiqoki', 'cljr36aul000s3n6lw1f1eyrc', 'cllam9w82001f3o6lb3j1vm9l', 'cljxhqzxh004c3n6l7fpf8bpn', 'cll74rnnc002k3o6lgyr24huh', 'cljw7rexn00793n6l1q6fmh8e', 'cll9whpoi00533o6l0mz819gz', 'cljawsyn6001o3n6l6z20teaj', 'cll44s9xc004p3o6l0u5rf1xc', 'cll45b4zs00883o6li71m93e8', 'cljr41gm600373n6l0lw102v7', 'cll44jukm002v3o6lri55zuf7', 'cljr3qjx300233n6ltiah1f9z', 'cll9v2gym004k3o6lse7pn7tt', 'cljs4jfyk005j3n6lwif0h0gw', 'clk7vd8v8001z3n6l4h45mbxl', 'cll9wlxrk005n3o6l1cd92hoh', 'cljw6qeiv001o3n6lo9dcmmeg', 'cljaof3ba00153n6lcr8af6bi', 'cll7rem8d00ay3o6l3ytumz1s', 'cll9wibkn00573o6l2f7dlhrh', 'cll8erp8i002u3o6lvgyz4i4d', 'cll7r6v4500a13o6lddr88noj', 'cljw61mqp002r3n6ly9axf1b2', 'cljawmt3400133n6lp41x9vvn', 'cljr537dq001f3n6lvf21d511', 'cll8fagz6004v3o6li524eskm', 'clk6le8lt00463n6l6op89c4x', 'cljo2it2u00043n6lwbfknran', 'cllam0u6900053o6ls6ps8z9c', 'cljr3y3de002r3n6ld2hr4lka', 'cll9ybfgq00453o6ltqrsnmq0', 'cll8el32600273o6lv1oz0vub', 'cll8y1iiu000x3o6lu5mvumh2', 'cljxkmtb900203n6l4tapnb5w', 'clk6l5hsj002w3n6lrta6djle', 'cll7pk4bv001v3o6l4rvsbn9u', 'cljw40lsw000l3n6l0mit7gid', 'cljvwg5ec002d3n6l2md9azmd', 'cljnz6vg1000s3n6lxxknbe72', 'cll7qfnma00613o6ly66zt286', 'cljaqzzus00b73n6lkximasu4', 'clk7vfg2700273n6l7uw034tx', 'cllampv8c003p3o6l2k0e60tp', 'cll44833z000j3o6lwxof7566', 'cll8kx8ia008p3o6l5gkgknlv', 'cljaqky9x009x3n6l7nrltuyb', 'cljaqwk3x00ar3n6l1dok7jvh', 'cll7p3axj006g3o6lly39n3tl', 'cljo7pxn500473n6lwuo5m466', 'clk7vhaux002j3n6lnpdit5wa', 'cllba535b000x3o6l204nr8e8', 'cljw6r61s001t3n6luv0xuqsw', 'cljr70g44001p3n6l08md7kau', 'cljr5pdec00103n6lxb9mplvp', 'cljo7d25e002v3n6lmau0u1wr', 'cll8yhohu003u3o6loak9t1uh', 'cljwd0zll000q3n6lg38q5kzy', 'cll7b0ogn00093o6lkoze3mta', 'cljo6pd2x000k3n6lzncvjn3t', 'cll9ub6zm000i3o6l9pagthuv', 'cll8ywztu00693o6l3vf6is8g', 'cljs3yzy0003k3n6lkupc3zyj', 'cljnz4e8u000g3n6l1luikppo', 'cljr5hwxc000f3n6lof5w9tyt', 'cll8eztoy003u3o6lpqpiefk2', 'cljawf4e4000h3n6lri4oz9uy', 'cljan9b4p00043n6ligceanyp', 'cll7492n5000k3o6lv2s5m91s', 'cll9w9nz000433o6l7wkh825g', 'cljxhcwlt002g3n6lpnrdf5mx', 'cll45hgo1009n3o6l3r35aw10', 'cljarlbch00dd3n6l9jaubrxq', 'cll7pm826002f3o6lp5tm9v27', 'cll7b64pr001j3o6l51wteo3i', 'cljxlsxdl002t3n6l0re2d2cy', 'clk6lbly5003m3n6l9bjdqiyz', 'cll4vcq7i004t3o6ljvfqfw5h', 'cljo8fdke006c3n6lr8bzjjgi', 'cll7qz1w4008x3o6lmg2qbi0u', 'cll9ucwud000q3o6l14sjstwt', 'cljvxcwbz004z3n6lmavy9xwl', 'cll44srul004t3o6lx6ivzcz3', 'clk7wi2pt00663n6lc98qnzvz', 'cljs1lk2900143n6lddkmnnro', 'cljnyb9qa00083n6l2b6wex1t', 'cljvx4wos003z3n6l6bdtpbfj', 'cll8y97aw00253o6l8vtn03pu', 'cljarvh1700ei3n6lkjjreiz2', 'cljs10pvi00083n6ljjct68cc', 'cll7o2ylv002l3o6ll1xqlsse', 'cljapao5600503n6lhrbr4zii', 'cll44dip4001x3o6l2pa7optw', 'cljxlsc97002p3n6ldn9pbuxt', 'cllencclk001n3o6lakdxfzps', 'cljwr7n4o000w3n6lqxx0iv86', 'cljxh9q2200243n6lq69dhx3v', 'cll7qgtea00693o6l50q3lo00', 'cljxiccu300743n6lmy70fnrb', 'cljr3h0u500163n6lgbf967hh', 'cljo17yhq00273n6loaq9lln6', 'clleng5wh001z3o6lpemlh9dy', 'cll8yqmmo00553o6l1mj7ote9', 'cll8l6r0y009s3o6lb2t64r1s', 'cljwsd2vm000o3n6ldtv71ge9', 'cll9x7wof00093o6lyuh32onb', 'cljr5vg0s001s3n6lvxtmt0rn', 'cljr5iki0000j3n6lwi8z5nh6', 'cll8i3cyg000x3o6l2tosywms', 'cljaobtd0000q3n6lutd71mer', 'cllba340u000k3o6lfxhoh96p', 'cll74s21j002o3o6lee0bhajg', 'clk7vcgpg001v3n6le7jiaagx', 'clk7ushtq000d3n6lkqijwp5x', 'cll458jkt007p3o6lzvdpvi7z', 'cll9y5en600353o6lll2biua4', 'cljw30e2700143n6lx5ba2sma', 'cljr6gdt9003k3n6l77qag0tc', 'cljarn9oy00dl3n6l8pg9exfg', 'clk7vg4wh002b3n6lnrl2k4nf', 'cljo2zn41001m3n6lhbvww48i', 'cll459mu2007z3o6l93enseug', 'cll749ze3000s3o6lpoucotf0', 'cljwbiep2000t3n6l0xm73f73', 'cljwtm8x8001o3n6lz7zicp07', 'cljaqpie200a63n6li84amx32', 'cll7522up00393o6lahjxv1rb', 'cljw47neo001o3n6ll8fh5krg', 'cljarqtuz00e13n6lrnox6mfs', 'cljo11225001g3n6l7zdk56hb', 'cljxloy3800263n6lyoi0r1ft', 'cll7qekvj005t3o6ln160mgm7', 'cll168a55001o3o6lwsqxz5b4', 'cll8ex4h0003i3o6lmjfi5kde', 'cljrrgtez000c3n6lkj3o1mlv', 'cljr6o2r2000g3n6ld9zqoaqo', 'cljxl011m000p3n6l374n38ms', 'clk7wdcvs005k3n6lh2dho0v6', 'cljxlu1ql00313n6lqtuw77ji', 'cljw6nqn7001b3n6liypqmvgj', 'cll74oaue001s3o6lokpt6r3r', 'cll45e1rg008x3o6lki1yqi2o', 'cljo1wt9j00533n6lzvn1a6d2', 'cljvwlhib00323n6lu8rksy7r', 'cllbjs73i000x3o6lx7zbihtv', 'cll9xxn1300223o6ld7rnxtls', 'cllant0x7000e3o6lscuptdtz', 'clk6ky7b5001z3n6l2xsvs2z2', 'cljxi6yx1006c3n6l55izjvr5', 'cll9xf4z7001m3o6l1kaimbdt', 'cljxkr5zf002k3n6lv3aaexih', 'clld37oaa002m3o6li6dyqsp9', 'cljxkpurw002g3n6lnq0pryhp', 'cll7pn8hj002r3o6lgw1isap7', 'cljw70c2t00393n6l8ou5prmf', 'cll8i2wa6000t3o6l1lq6m3k1', 'cll4sklzb001w3o6l03xh1msu', 'cljw771mg00483n6lnajrytho', 'cll8isulz00393o6ljthp6l7e', 'cllam9ewb001b3o6liwz90gsq', 'cljw69f3h003a3n6lk2qd3f08', 'cll9x2atj007m3o6la49iflfi', 'cll7ot0hm00563o6lkpq8mwoe', 'cll8y079o000n3o6l3vep725g', 'cljwrxi03004k3n6ltnmu15ks', 'cll7bec6c002p3o6lddbs22oo', 'cll45f2ga00943o6l35m5g4x0', 'cll1sxtm2001c3o6ljrt1rg3u', 'cll9vfa44000l3o6luf8qzkqs', 'cljwtjwzm001b3n6ldfj8y8yt', 'cljw76g4e00443n6lfbboyczo', 'cljs2vx9b001s3n6lo4tc3qwd', 'cljaozfe5003g3n6lc5wkcomq', 'cll9x4pt100823o6lf1hqdszv', 'cljw614kh002n3n6l98x3nnr6', 'cllam8frg00133o6l16jpk53x', 'cljo32ik2001y3n6lmmnu0sgo', 'cljs4we1v00683n6l3sp64qx4', 'cll9wckf9004f3o6lcoi6h59t', 'cljwrix1g002f3n6lcqc3bzfa', 'cllanwlpm00193o6lv40noprb', 'cljxgtshi00093n6lozooumt1', 'clld34hz8001u3o6la1gw24at', 'cljs3cnzx002k3n6lf906p4hv', 'clk6km1dx000p3n6lg1prr2xr', 'cll7ay9td00183o6li3x7vks6', 'cljaolsgy001i3n6li20nkrgp', 'cljarwu6700eq3n6lq9mk9ef7', 'cll8z9hk100883o6l3llduslo', 'cljwswza1000v3n6lfl03wwes', 'cll8y3gpc00193o6lk70shwvu', 'cll9uvanr003c3o6lpzud1lr4', 'cljawh4c7000m3n6lkz9es9bl', 'cllbyxjmr00163o6l8skxmujb', 'cll44x594005x3o6l8ojujebf', 'cljs3bsag002g3n6l2jctyel3', 'cll74qs2e002c3o6l88xwhcsc', 'cll9unvsh002a3o6l89tfljyx', 'cljdytzd800083n6l1vuekg83', 'cljw7drsi005f3n6l5aaw5d6j', 'cljwri6el002b3n6l76w6m2d2', 'cll7rfn9p00b63o6llicdrdik', 'cljxm0q9n00493n6l1zgi8j4p', 'cll45n5z700as3o6lqvsiny7q', 'cll8enxer002i3o6lenrt548c', 'cljr34d8n000k3n6la33g2yh8', 'cljvx7axd004b3n6lftkobhxs', 'cll44wafv005p3o6lsd1boi3s', 'cllenvewz00393o6lvc1dc7qr', 'cljaroguw00dp3n6lhfddiadu', 'cll8jxu0w004l3o6ldked5z1i', 'clld31rce001g3o6lfozpguia', 'cll7b8rqh00233o6lu29ve8tx', 'cljwrn1is00353n6lsjuek9uh', 'cll1tvded002o3o6lqnb31xmm', 'cljr5zp1i002b3n6l72p1rnd6', 'cll44u10u00553o6lf2iilwrx', 'cljw7mjyv006j3n6lr6d34gvu', 'cljxlxk3m003r3n6l0ooimbk2', 'cll8gocmx004d3o6lj3ma0dbg', 'cll7ax03e00103o6lnh82mwyz', 'cll8freaa000n3o6lyd8w47o6', 'cljwssdku00093n6lv3u03u8b', 'cll9vqxj200233o6lbpxp789r', 'cljas71p600fv3n6lk1rzl7y5', 'clk7fexpr000l3n6l3fnz76zq', 'cll7bdq38002l3o6l1q2ph1uc', 'cll449lal000t3o6lv4pja4l7', 'cljr4m03300083n6l8udync6s', 'cljr658xk00323n6lfid0k0y6', 'cljxi10qi005k3n6lyaoabejr', 'cljxh9aq900203n6l7y6lqrt3', 'cll45c3m7008f3o6lu5mtrg74', 'cll8k2xvv005c3o6lbvl9w3f4', 'cll7bgdaa002y3o6l35uuu3cn', 'cljawkh09000r3n6lmz56x0qk', 'cljs4dsq7004v3n6lzy1oxbvw', 'cll7rhn4c00bm3o6l7i14kom1', 'cljxjogr100083n6ldltplryd', 'cljo1sszd004h3n6lf8w955ge', 'cll8i48z500123o6labtj33qq', 'cljxjrak3000p3n6lpocul02a', 'cljw6wq8o002q3n6lo4lmi8vd', 'cll7quy7y00893o6lgq17f5xp', 'clk7wm113006m3n6lzk77zvoy', 'cljxhkcct003c3n6lvn7vvhnk', 'cljr6kr9p00043n6lxsegjd2q', 'cljwth9ln00123n6l7bn94j2u', 'cll9u8ov900053o6l3ad7pezo', 'cljr6u47g00113n6lkd13v5fb', 'cllanuda0000q3o6lqaqrsc0c', 'cll74tkf6002w3o6lgyark0c3', 'cll44r4mc004d3o6lf9qrgqcn', 'cll7p6iq200793o6lyzrndvi1', 'clk7vstq3003v3n6lx16fsb87', 'cll8yglwy003m3o6ln0ykr332', 'clk7vy9ja004f3n6lhju0ini5', 'clk7h3u8a001u3n6l5e34c1yc', 'cll44q7mm00453o6lblioekqn', 'cljary1c800ey3n6lak8hjn7d', 'cll44rrtg004l3o6lodazy5i6', 'cljap2na700433n6lwob4q16g', 'cll8ky6ov008x3o6l7axg5yhe', 'cljxhzmht005c3n6ljn9iszh2', 'cll4sqvdl00383o6lhsd4an2j', 'cljxi2qbp005s3n6llajez7qb', 'cll9w31b300373o6ljog7yocm', 'cll8k49ga005n3o6lrg92111d', 'cll755ukj003y3o6l82yyhwzc', 'cljxlzzdt00453n6l50zvip0f', 'cljaoxl8100303n6ll1waw5n0', 'cljr5rpf8001c3n6lpd51eb9m', 'cll9v16uc004c3o6liq2wc2u8', 'cll8e821x000e3o6l1a9bjetz', 'cljr5dmk000043n6l5cme80uw']\n"
     ]
    }
   ],
   "source": [
    "# Load annotations\n",
    "annotation_path = \"gcs/aaaaa/code/updated_dataset.pkl\"\n",
    "df = pd.read_pickle(annotation_path)\n",
    "clip_label = df[['seq', 'gait_pat']].drop_duplicates()\n",
    "clip_angle = df[['seq', 'cam_view']].drop_duplicates()\n",
    "label_mapping = {row['seq']: row['gait_pat'] for idx, row in clip_label.iterrows()}\n",
    "angle_mapping = {row['seq']: row['cam_view'] for idx, row in clip_angle.iterrows()}\n",
    "\n",
    "# Load all sequence directories\n",
    "feature_dir = \"gcs/aaaaa/landmark_files\"\n",
    "sequence_dirs = [d.split(\"_\")[0] for d in os.listdir(feature_dir) if d.startswith('c')]\n",
    "labels = [label_mapping[seq] for seq in sequence_dirs]\n",
    "\n",
    "# Count occurrences of each label\n",
    "label_counts = Counter(labels)\n",
    "\n",
    "# Keep only classes with at least 2 samples\n",
    "valid_classes = {label for label, count in label_counts.items() if count > 1}\n",
    "filtered_dirs = [seq for seq, label in zip(sequence_dirs, labels) if label in valid_classes]\n",
    "filtered_labels = [label for label in labels if label in valid_classes]\n",
    "\n",
    "label_encoder = LabelEncoder()\n",
    "y_encoded = label_encoder.fit_transform(filtered_labels)\n",
    "# Create a mapping of labels to their encodings\n",
    "label_to_encoding = {label: idx for idx, label in enumerate(label_encoder.classes_)}\n",
    "encoding_to_label = {idx: label for label, idx in label_to_encoding.items()}\n",
    "encoded_label_mapping = {idx: label_to_encoding[label] for idx, label in label_mapping.items()}\n",
    "\n",
    "# Stratified split\n",
    "train_dirs, temp_dirs, train_labels, temp_labels = train_test_split(\n",
    "    filtered_dirs, y_encoded, stratify=y_encoded, test_size=0.35, random_state=42\n",
    ")\n",
    "val_dirs, test_dirs, val_labels, test_labels = train_test_split(\n",
    "    temp_dirs, temp_labels, stratify=temp_labels, test_size=0.5, random_state=42)\n",
    "\n",
    "print(train_dirs)"
   ]
  },
  {
   "cell_type": "code",
   "execution_count": 4,
   "metadata": {},
   "outputs": [],
   "source": [
    "# Initialize Dataset\n",
    "train_dataset = MediapipeDataset(\n",
    "    clips=train_dirs,\n",
    "    feature_dir=feature_dir,\n",
    "    label_mapping=encoded_label_mapping,\n",
    "    angle_mapping=angle_mapping,\n",
    "    sequence_length=30,\n",
    "    downsample_factor=3\n",
    ")\n",
    "# Initialize Dataset\n",
    "val_dataset = MediapipeDataset(\n",
    "    clips=val_dirs,\n",
    "    feature_dir=feature_dir,\n",
    "    label_mapping=encoded_label_mapping,\n",
    "    angle_mapping=angle_mapping,\n",
    "    sequence_length=30,\n",
    "    downsample_factor=3\n",
    ")\n",
    "# Initialize Dataset\n",
    "test_dataset = MediapipeDataset(\n",
    "    clips=test_dirs,\n",
    "    feature_dir=feature_dir,\n",
    "    label_mapping=encoded_label_mapping,\n",
    "    angle_mapping=angle_mapping,\n",
    "    sequence_length=30,\n",
    "    downsample_factor=3\n",
    ")\n",
    "\n",
    "# Make data loaders\n",
    "train_loader = DataLoader(train_dataset, batch_size=32, shuffle=True)\n",
    "val_loader = DataLoader(val_dataset, batch_size=32, shuffle=False)\n",
    "test_loader = DataLoader(test_dataset, batch_size=32, shuffle=False)"
   ]
  },
  {
   "cell_type": "code",
   "execution_count": 5,
   "metadata": {
    "id": "snFBGg4hK30s"
   },
   "outputs": [],
   "source": [
    "# Model parameters\n",
    "input_size = train_dataset[0][0].shape[1]  # Number of features, assuming landmark_11 to landmark_32 (22 landmarks)\n",
    "hidden_size = 512  # Size of the LSTM's hidden layer\n",
    "num_layers = 3     # Number of LSTM layers\n",
    "output_size = 12    # Number of output units (change this based on your task)\n",
    "\n",
    "# Instantiate the model\n",
    "model = LSTMwithAngle(input_size, hidden_size, num_layers, output_size)\n"
   ]
  },
  {
   "cell_type": "code",
   "execution_count": 12,
   "metadata": {
    "colab": {
     "base_uri": "https://localhost:8080/",
     "height": 538,
     "referenced_widgets": [
      "4c79c8c2781c4cf0b32fc171a61b1b13",
      "8db33c38bdc044faa485325dcf93da1f",
      "13b7101cbe984e98baf22bff01537042",
      "848d22aca05e4c86a0a1eb6d4c774060",
      "bcb205c8a06c480da3c5f544e024981b",
      "547673061020455f9504e722918d4460",
      "31b5c1f5e633417fae052dcd458028fb",
      "58dc7d092bba42b99c7250619411eafa",
      "df1c207a4c434ed1b9f58fde4ee717b3",
      "7849c788ac404493b4c30068d6869ec5",
      "14e862028f40495db926c5ab87ce33f0",
      "b3f60f9bc78842fd960ea49829bafaa9",
      "07e1c02738924dd28a24d540dec00673",
      "72c3ee7ee14c49209102c8dc36addcc2",
      "e52fa36f103e44458d133fbc3e744269",
      "21b3ae2f69494b7b8a6b5da6f9e7aa63",
      "fcaba6a1adbb4758af24c0ac04633d2c",
      "b04bb91068524c2092a1381652687a6b",
      "b28cf06c4c164d2bae820a2e5aca96e9",
      "e4e8f1da10fd430da3c31f5cda584da1",
      "ee174f0e8d1e427e9d36f2667fe41a66",
      "a6ccffc7ca044195a2490081ba41caad"
     ]
    },
    "id": "VxYIF-I1atnA",
    "outputId": "ad213804-7fc8-4e20-9941-771a959c0c5d"
   },
   "outputs": [
    {
     "data": {
      "text/html": [
       "Finishing last run (ID:x507abwo) before initializing another..."
      ],
      "text/plain": [
       "<IPython.core.display.HTML object>"
      ]
     },
     "metadata": {},
     "output_type": "display_data"
    },
    {
     "data": {
      "text/html": [
       "\n",
       "    <style>\n",
       "        .wandb-row {\n",
       "            display: flex;\n",
       "            flex-direction: row;\n",
       "            flex-wrap: wrap;\n",
       "            justify-content: flex-start;\n",
       "            width: 100%;\n",
       "        }\n",
       "        .wandb-col {\n",
       "            display: flex;\n",
       "            flex-direction: column;\n",
       "            flex-basis: 100%;\n",
       "            flex: 1;\n",
       "            padding: 10px;\n",
       "        }\n",
       "    </style>\n",
       "<div class=\"wandb-row\"><div class=\"wandb-col\"><h3>Run history:</h3><br/><table class=\"wandb\"><tr><td>downsampling</td><td>▁</td></tr><tr><td>hidden_size</td><td>▁</td></tr><tr><td>num_layers</td><td>▁</td></tr><tr><td>sequence_length</td><td>▁</td></tr></table><br/></div><div class=\"wandb-col\"><h3>Run summary:</h3><br/><table class=\"wandb\"><tr><td>downsampling</td><td>3</td></tr><tr><td>hidden_size</td><td>512</td></tr><tr><td>num_layers</td><td>3</td></tr><tr><td>sequence_length</td><td>30</td></tr></table><br/></div></div>"
      ],
      "text/plain": [
       "<IPython.core.display.HTML object>"
      ]
     },
     "metadata": {},
     "output_type": "display_data"
    },
    {
     "data": {
      "text/html": [
       " View run <strong style=\"color:#cdcd00\">ethereal-armadillo-7</strong> at: <a href='https://wandb.ai/henrylicht/mp-lstm-gait-analysis/runs/x507abwo' target=\"_blank\">https://wandb.ai/henrylicht/mp-lstm-gait-analysis/runs/x507abwo</a><br/> View project at: <a href='https://wandb.ai/henrylicht/mp-lstm-gait-analysis' target=\"_blank\">https://wandb.ai/henrylicht/mp-lstm-gait-analysis</a><br/>Synced 5 W&B file(s), 0 media file(s), 0 artifact file(s) and 0 other file(s)"
      ],
      "text/plain": [
       "<IPython.core.display.HTML object>"
      ]
     },
     "metadata": {},
     "output_type": "display_data"
    },
    {
     "data": {
      "text/html": [
       "Find logs at: <code>./wandb/run-20241128_020112-x507abwo/logs</code>"
      ],
      "text/plain": [
       "<IPython.core.display.HTML object>"
      ]
     },
     "metadata": {},
     "output_type": "display_data"
    },
    {
     "data": {
      "text/html": [
       "Successfully finished last run (ID:x507abwo). Initializing new run:<br/>"
      ],
      "text/plain": [
       "<IPython.core.display.HTML object>"
      ]
     },
     "metadata": {},
     "output_type": "display_data"
    },
    {
     "data": {
      "text/html": [
       "Tracking run with wandb version 0.18.7"
      ],
      "text/plain": [
       "<IPython.core.display.HTML object>"
      ]
     },
     "metadata": {},
     "output_type": "display_data"
    },
    {
     "data": {
      "text/html": [
       "Run data is saved locally in <code>/home/henry/wandb/run-20241128_020226-kk4uz13q</code>"
      ],
      "text/plain": [
       "<IPython.core.display.HTML object>"
      ]
     },
     "metadata": {},
     "output_type": "display_data"
    },
    {
     "data": {
      "text/html": [
       "Syncing run <strong><a href='https://wandb.ai/henrylicht/mp-lstm-gait-analysis/runs/kk4uz13q' target=\"_blank\">rural-morning-8</a></strong> to <a href='https://wandb.ai/henrylicht/mp-lstm-gait-analysis' target=\"_blank\">Weights & Biases</a> (<a href='https://wandb.me/developer-guide' target=\"_blank\">docs</a>)<br/>"
      ],
      "text/plain": [
       "<IPython.core.display.HTML object>"
      ]
     },
     "metadata": {},
     "output_type": "display_data"
    },
    {
     "data": {
      "text/html": [
       " View project at <a href='https://wandb.ai/henrylicht/mp-lstm-gait-analysis' target=\"_blank\">https://wandb.ai/henrylicht/mp-lstm-gait-analysis</a>"
      ],
      "text/plain": [
       "<IPython.core.display.HTML object>"
      ]
     },
     "metadata": {},
     "output_type": "display_data"
    },
    {
     "data": {
      "text/html": [
       " View run at <a href='https://wandb.ai/henrylicht/mp-lstm-gait-analysis/runs/kk4uz13q' target=\"_blank\">https://wandb.ai/henrylicht/mp-lstm-gait-analysis/runs/kk4uz13q</a>"
      ],
      "text/plain": [
       "<IPython.core.display.HTML object>"
      ]
     },
     "metadata": {},
     "output_type": "display_data"
    },
    {
     "name": "stdout",
     "output_type": "stream",
     "text": [
      "Train Loss: 2.3337, Train Accuracy: 5.97%\n",
      "Val Loss: 2.3938, Val Accuracy: 4.38%\n",
      "Model saved with improved validation loss.\n",
      "Train Loss: 2.2231, Train Accuracy: 7.87%\n",
      "Val Loss: 2.3604, Val Accuracy: 4.93%\n",
      "Model saved with improved validation loss.\n",
      "Train Loss: 2.1679, Train Accuracy: 9.58%\n",
      "Val Loss: 2.3263, Val Accuracy: 28.52%\n",
      "Model saved with improved validation loss.\n",
      "Train Loss: 2.1121, Train Accuracy: 10.91%\n",
      "Val Loss: 2.3396, Val Accuracy: 6.63%\n",
      "Train Loss: 2.0454, Train Accuracy: 11.04%\n",
      "Val Loss: 2.3557, Val Accuracy: 5.60%\n",
      "Train Loss: 1.9706, Train Accuracy: 12.42%\n",
      "Val Loss: 2.2856, Val Accuracy: 9.86%\n",
      "Model saved with improved validation loss.\n",
      "Train Loss: 1.8931, Train Accuracy: 14.79%\n",
      "Val Loss: 2.3181, Val Accuracy: 7.18%\n",
      "Train Loss: 1.8027, Train Accuracy: 16.58%\n",
      "Val Loss: 2.2033, Val Accuracy: 12.54%\n",
      "Model saved with improved validation loss.\n",
      "Train Loss: 1.7484, Train Accuracy: 19.56%\n",
      "Val Loss: 2.2918, Val Accuracy: 9.90%\n",
      "Train Loss: 1.6748, Train Accuracy: 20.49%\n",
      "Val Loss: 2.2065, Val Accuracy: 11.28%\n",
      "Train Loss: 1.6182, Train Accuracy: 22.95%\n",
      "Val Loss: 2.3014, Val Accuracy: 13.29%\n",
      "Train Loss: 1.5644, Train Accuracy: 23.90%\n",
      "Val Loss: 2.2453, Val Accuracy: 12.98%\n",
      "Train Loss: 1.5174, Train Accuracy: 24.85%\n",
      "Val Loss: 2.1398, Val Accuracy: 19.01%\n",
      "Model saved with improved validation loss.\n",
      "Train Loss: 1.4251, Train Accuracy: 27.57%\n",
      "Val Loss: 2.1990, Val Accuracy: 17.55%\n",
      "Train Loss: 1.4453, Train Accuracy: 27.43%\n",
      "Val Loss: 2.2334, Val Accuracy: 16.21%\n",
      "Train Loss: 1.3390, Train Accuracy: 30.22%\n",
      "Val Loss: 2.2097, Val Accuracy: 17.08%\n",
      "Train Loss: 1.2459, Train Accuracy: 31.81%\n",
      "Val Loss: 2.2684, Val Accuracy: 18.50%\n",
      "Train Loss: 1.1841, Train Accuracy: 34.39%\n",
      "Val Loss: 2.3189, Val Accuracy: 20.75%\n",
      "Train Loss: 1.2030, Train Accuracy: 34.92%\n",
      "Val Loss: 2.1789, Val Accuracy: 22.60%\n",
      "Train Loss: 1.1163, Train Accuracy: 38.04%\n",
      "Val Loss: 2.2358, Val Accuracy: 24.22%\n",
      "Train Loss: 1.0418, Train Accuracy: 41.23%\n",
      "Val Loss: 2.2138, Val Accuracy: 24.22%\n",
      "Train Loss: 1.0226, Train Accuracy: 42.83%\n",
      "Val Loss: 2.1942, Val Accuracy: 27.38%\n",
      "Train Loss: 0.9399, Train Accuracy: 44.89%\n",
      "Val Loss: 2.2492, Val Accuracy: 30.30%\n",
      "Train Loss: 1.0055, Train Accuracy: 44.32%\n",
      "Val Loss: 2.2235, Val Accuracy: 27.30%\n",
      "Train Loss: 0.7884, Train Accuracy: 51.13%\n",
      "Val Loss: 2.3227, Val Accuracy: 30.30%\n",
      "Train Loss: 0.7743, Train Accuracy: 52.35%\n",
      "Val Loss: 2.3453, Val Accuracy: 29.90%\n",
      "Train Loss: 0.6765, Train Accuracy: 56.66%\n",
      "Val Loss: 2.2835, Val Accuracy: 32.58%\n",
      "Train Loss: 0.6957, Train Accuracy: 56.49%\n",
      "Val Loss: 2.2833, Val Accuracy: 35.27%\n",
      "Train Loss: 0.5747, Train Accuracy: 61.49%\n",
      "Val Loss: 2.3891, Val Accuracy: 36.41%\n",
      "Train Loss: 0.5390, Train Accuracy: 62.78%\n",
      "Val Loss: 2.4029, Val Accuracy: 37.16%\n",
      "Train Loss: 0.5660, Train Accuracy: 63.13%\n",
      "Val Loss: 2.3394, Val Accuracy: 37.91%\n",
      "Train Loss: 0.4785, Train Accuracy: 67.25%\n",
      "Val Loss: 2.9832, Val Accuracy: 27.97%\n",
      "Train Loss: 0.8490, Train Accuracy: 55.82%\n",
      "Val Loss: 2.3637, Val Accuracy: 38.74%\n",
      "Train Loss: 0.4265, Train Accuracy: 70.22%\n",
      "Val Loss: 2.3667, Val Accuracy: 39.76%\n",
      "Train Loss: 0.3375, Train Accuracy: 74.51%\n",
      "Val Loss: 2.4945, Val Accuracy: 41.34%\n",
      "Train Loss: 0.4309, Train Accuracy: 71.77%\n",
      "Val Loss: 2.5765, Val Accuracy: 38.42%\n",
      "Train Loss: 0.3311, Train Accuracy: 75.78%\n",
      "Val Loss: 2.5434, Val Accuracy: 44.73%\n",
      "Train Loss: 0.2855, Train Accuracy: 78.58%\n",
      "Val Loss: 2.6414, Val Accuracy: 45.56%\n",
      "Train Loss: 0.2659, Train Accuracy: 79.75%\n",
      "Val Loss: 2.6656, Val Accuracy: 44.85%\n",
      "Train Loss: 0.2060, Train Accuracy: 83.79%\n",
      "Val Loss: 2.7292, Val Accuracy: 47.18%\n",
      "Train Loss: 0.5908, Train Accuracy: 66.00%\n",
      "Val Loss: 2.5349, Val Accuracy: 42.72%\n",
      "Train Loss: 0.2358, Train Accuracy: 82.85%\n",
      "Val Loss: 2.5837, Val Accuracy: 45.48%\n",
      "Train Loss: 0.1634, Train Accuracy: 87.39%\n",
      "Val Loss: 2.8027, Val Accuracy: 50.06%\n",
      "Train Loss: 0.1402, Train Accuracy: 89.28%\n",
      "Val Loss: 2.8760, Val Accuracy: 48.21%\n",
      "Train Loss: 0.5031, Train Accuracy: 72.64%\n",
      "Val Loss: 2.6894, Val Accuracy: 41.22%\n",
      "Train Loss: 0.1888, Train Accuracy: 85.58%\n",
      "Val Loss: 2.7315, Val Accuracy: 49.51%\n",
      "Train Loss: 0.1552, Train Accuracy: 88.19%\n",
      "Val Loss: 2.8958, Val Accuracy: 44.34%\n",
      "Train Loss: 0.1901, Train Accuracy: 86.96%\n",
      "Val Loss: 2.9404, Val Accuracy: 38.38%\n",
      "Train Loss: 0.2502, Train Accuracy: 82.73%\n",
      "Val Loss: 2.8573, Val Accuracy: 50.89%\n",
      "Train Loss: 0.1098, Train Accuracy: 91.31%\n",
      "Val Loss: 3.0108, Val Accuracy: 51.87%\n"
     ]
    }
   ],
   "source": [
    "import torch\n",
    "import torch.nn as nn\n",
    "import torch.optim as optim\n",
    "\n",
    "from sklearn.utils.class_weight import compute_class_weight\n",
    "\n",
    "# Initialize wandb\n",
    "\n",
    "wandb.init(project='mp-lstm-gait-analysis')\n",
    "wandb.log({\"hidden_size\": hidden_size, \n",
    "           \"num_layers\": num_layers,\n",
    "           \"sequence_length\": train_dataset.sequence_length, \n",
    "           \"downsampling\": train_dataset.downsample_factor\n",
    "           })\n",
    "\n",
    "device = torch.device(\"cuda\" if torch.cuda.is_available() else \"cpu\")\n",
    "model.to(device)\n",
    "\n",
    "# Loss function\n",
    "class_weights = compute_class_weight(class_weight='balanced', classes=np.unique(y_encoded), y=y_encoded)\n",
    "class_weights = torch.tensor(class_weights, dtype=torch.float)\n",
    "class_weights = class_weights.to(device)\n",
    "\n",
    "# Use in loss\n",
    "criterion = torch.nn.CrossEntropyLoss(weight=class_weights)\n",
    "optimizer = optim.Adam(model.parameters(), lr=1e-4)\n",
    "\n",
    "# Track the best validation loss\n",
    "best_val_loss = float('inf')\n",
    "best_model_weights = None  # To hold the best model's weights\n",
    "\n",
    "# Training loop\n",
    "num_epochs = 50\n",
    "for epoch in range(num_epochs):\n",
    "    model.train()  # Set the model to training mode\n",
    "    running_loss = 0.0\n",
    "    correct = 0\n",
    "    total = 0\n",
    "\n",
    "    for batch in train_loader:\n",
    "        sequences, labels, _, angles = batch  # Assuming train_loader returns inputs and targets\n",
    "        sequences = sequences.to(device) \n",
    "        labels = labels.to(device)\n",
    "        angles = angles.to(device)\n",
    "\n",
    "        assert not torch.isnan(sequences).any(), \"NaN found in inputs\"\n",
    "        assert not torch.isinf(sequences).any(), \"Inf found in inputs\"\n",
    "\n",
    "        # Zero the parameter gradients\n",
    "        optimizer.zero_grad()\n",
    "\n",
    "        # Forward pass\n",
    "        outputs = model(sequences, angles)\n",
    "        loss = criterion(outputs, labels)\n",
    "\n",
    "        # Backward pass and optimize\n",
    "        loss.backward()\n",
    "        optimizer.step()\n",
    "        running_loss += loss.item()\n",
    "\n",
    "        # Calculate accuracy\n",
    "        _, predicted = torch.max(outputs, 1)\n",
    "        total += labels.size(0)\n",
    "        correct += (predicted == labels).sum().item()\n",
    "        train_loss = running_loss / len(train_loader)\n",
    "        train_accuracy = 100 * correct / total\n",
    "\n",
    "    # Log the validation loss and accuracy to wandb\n",
    "    wandb.log({\"epoch\":epoch, \"train_loss\": train_loss, \"train_accuracy\": train_accuracy})\n",
    "    print(f\"Train Loss: {train_loss:.4f}, Train Accuracy: {train_accuracy:.2f}%\")\n",
    "\n",
    "    # Validation step\n",
    "    model.eval()\n",
    "    val_loss = 0.0\n",
    "    correct = 0\n",
    "    total = 0\n",
    "    skipped = 0\n",
    "    with torch.no_grad():\n",
    "        for sequences, labels, _, angles in val_loader:\n",
    "            sequences = sequences.to(device)\n",
    "            labels = labels.to(device)\n",
    "            angles = angles.to(device)\n",
    "\n",
    "            assert not torch.isnan(labels).any(), \"NaN found in inputs\"\n",
    "            assert not torch.isinf(labels).any(), \"Inf found in inputs\"\n",
    "\n",
    "            outputs = model(sequences,angles)\n",
    "            if not torch.isnan(outputs).any():           \n",
    "                loss = criterion(outputs, labels)\n",
    "                val_loss += loss.item()\n",
    "            else:\n",
    "                skipped += 1\n",
    "\n",
    "            _, predicted = torch.max(outputs, 1)\n",
    "            total += labels.size(0)\n",
    "            correct += (predicted == labels).sum().item()\n",
    "\n",
    "    val_loss /= (len(val_loader)-skipped)\n",
    "    val_accuracy = 100 * correct / total\n",
    "\n",
    "    # Log the validation loss and accuracy to wandb\n",
    "    wandb.log({\"epoch\":epoch, \"val_loss\": val_loss, \"val_accuracy\": val_accuracy})\n",
    "    print(f\"Val Loss: {val_loss:.4f}, Val Accuracy: {val_accuracy:.2f}%\")\n",
    "\n",
    "    # Save the model if the validation loss improves\n",
    "    if val_loss < best_val_loss:\n",
    "        best_val_loss = val_loss\n",
    "\n",
    "        # Save the model checkpoint\n",
    "        torch.save(model.state_dict(), f\"big_mp_model_20_3.pth\")\n",
    "        print(\"Model saved with improved validation loss.\")\n"
   ]
  },
  {
   "cell_type": "code",
   "execution_count": 13,
   "metadata": {},
   "outputs": [],
   "source": [
    "torch.save(model.state_dict(), f\"final_big_mpmodel_30_3_angles.pth\")"
   ]
  },
  {
   "cell_type": "code",
   "execution_count": 15,
   "metadata": {},
   "outputs": [
    {
     "name": "stdout",
     "output_type": "stream",
     "text": [
      "Test Accuracy: 53.51%\n"
     ]
    }
   ],
   "source": [
    "# Test the model\n",
    "model.eval()  # Set the model to evaluation mode\n",
    "test_loss = 0.0\n",
    "correct = 0\n",
    "total = 0\n",
    "\n",
    "with torch.no_grad():\n",
    "    for batch in test_loader:\n",
    "        inputs, targets, _, angles = batch\n",
    "        inputs = inputs.to(device)\n",
    "        targets = targets.to(device)\n",
    "        angles = angles.to(device)\n",
    "\n",
    "        outputs = model(inputs, angles)\n",
    "        loss = criterion(outputs, targets)\n",
    "        test_loss += loss.item()\n",
    "\n",
    "        # Get predictions\n",
    "        _, predicted = torch.max(outputs, 1)\n",
    "        total += targets.size(0)\n",
    "        correct += (predicted == targets).sum().item()\n",
    "\n",
    "print(f\"Test Accuracy: {100 * correct / total:.2f}%\")\n"
   ]
  },
  {
   "cell_type": "code",
   "execution_count": 16,
   "metadata": {
    "colab": {
     "base_uri": "https://localhost:8080/"
    },
    "id": "z-oo1bWUfQ4V",
    "outputId": "d9fdb6cc-11c9-4c4a-e662-15f58aeca2c0"
   },
   "outputs": [
    {
     "name": "stdout",
     "output_type": "stream",
     "text": [
      "Test Accuracy: 53.90%\n",
      "Per-Video Confusion Matrix:\n",
      " [[83  1  2  7  1  3  5  0  2  6  1]\n",
      " [ 1  4  0  0  0  0  0  0  1  0  0]\n",
      " [ 4  0  6  0  0  0  0  0  1  0  0]\n",
      " [21  1  0 11  2  1  2  0  0  1  0]\n",
      " [ 0  0  0  0  1  0  1  0  0  0  0]\n",
      " [ 7  1  0  2  0 18  1  1  2  0  0]\n",
      " [16  2  2  1  0  3 15  0  3  0  2]\n",
      " [ 5  0  0  0  0  0  0  2  0  0  0]\n",
      " [ 4  0  0  0  0  1  0  0  2  0  0]\n",
      " [ 2  1  0  0  0  1  0  0  0  9  0]\n",
      " [ 4  0  0  2  0  2  1  0  0  0  1]]\n",
      "Class Labels: ['abnormal' 'antalgic' 'cerebral palsy' 'exercise' 'inebriated'\n",
      " 'myopathic' 'normal' 'parkinsons' 'pregnant' 'prosthetic' 'stroke'\n",
      " 'style']\n"
     ]
    }
   ],
   "source": [
    "from sklearn.metrics import confusion_matrix\n",
    "from collections import defaultdict\n",
    "import numpy as np\n",
    "\n",
    "# Extract true labels, clip IDs, and predictions\n",
    "y_true = [x[1] for x in test_dataset]\n",
    "clip_ids = [x[2] for x in test_dataset]\n",
    "angles = torch.stack([x[3] for x in test_dataset]).to(device)\n",
    "x_test = torch.stack([x[0] for x in test_dataset]).to(device)\n",
    "\n",
    "\n",
    "# Predict using the model\n",
    "y_pred = torch.argmax(model(x_test, angles), dim=1).cpu().numpy()\n",
    "\n",
    "# Group predictions and true labels by video (clip ID)\n",
    "clip_predictions = defaultdict(list)\n",
    "clip_labels = {}\n",
    "\n",
    "for pred, true_label, clip in zip(y_pred, y_true, clip_ids):\n",
    "    clip_predictions[clip].append(pred)\n",
    "    clip_labels[clip] = true_label  # True label for each video\n",
    "\n",
    "# Determine majority vote prediction and true label per video\n",
    "video_preds = []\n",
    "video_labels = []\n",
    "\n",
    "for clip, preds in clip_predictions.items():\n",
    "    majority_vote = np.bincount(preds).argmax()  # Most common prediction\n",
    "    video_preds.append(majority_vote)\n",
    "    video_labels.append(clip_labels[clip])\n",
    "\n",
    "correct = np.equal(video_preds,video_labels).sum()\n",
    "print(f\"Test Accuracy: {100 * correct / len(video_preds):.2f}%\")\n",
    "\n",
    "# Generate the per-video confusion matrix\n",
    "per_video_conf_matrix = confusion_matrix(video_labels, video_preds)\n",
    "print(\"Per-Video Confusion Matrix:\\n\", per_video_conf_matrix)\n",
    "\n",
    "# Assuming you have a label encoder to get class names\n",
    "print(\"Class Labels:\", label_encoder.classes_)\n"
   ]
  },
  {
   "cell_type": "code",
   "execution_count": 17,
   "metadata": {
    "colab": {
     "base_uri": "https://localhost:8080/"
    },
    "id": "IMEKIs15fx1B",
    "outputId": "7cae8db7-b5f1-416c-a11b-75f6a42f3ab2"
   },
   "outputs": [
    {
     "name": "stdout",
     "output_type": "stream",
     "text": [
      "Confusion Matrix:\n",
      " [[738  16  27  70   5  56  53  31   6  40  36   6]\n",
      " [  7  23   0   0   0   7   0   3   0   8   0   0]\n",
      " [ 31   3  50   1   1   0   5   0   0   6   6   6]\n",
      " [114   8  20 142  11  14  17   0   0   3  11   9]\n",
      " [  1   0   0   1   8   0   2   0   0   2   5   0]\n",
      " [ 43   9   2  15   0 107  19   4   0  13   3   5]\n",
      " [ 87   7  15  25   3  25  70   2   0  21   8   8]\n",
      " [ 52   0   0  12   0   2   3  13   0   3   2   0]\n",
      " [  0   0   0   0   0   0   0   0   0   0   0   0]\n",
      " [ 31   0   0   0   0   7   1   0   0  31   2   0]\n",
      " [ 32   5   6   6   0  19  18   6   0   0 186   0]\n",
      " [ 11   0   0   5   0   9   3   0   0   0   0  10]]\n",
      "['abnormal' 'antalgic' 'cerebral palsy' 'exercise' 'inebriated'\n",
      " 'myopathic' 'normal' 'parkinsons' 'pregnant' 'prosthetic' 'stroke'\n",
      " 'style']\n"
     ]
    }
   ],
   "source": [
    "from sklearn.metrics import confusion_matrix\n",
    "\n",
    "# Generate the confusion matrix\n",
    "conf_matrix = confusion_matrix(y_true, y_pred)\n",
    "print(\"Confusion Matrix:\\n\", conf_matrix)\n",
    "\n",
    "print(label_encoder.classes_)\n"
   ]
  },
  {
   "cell_type": "code",
   "execution_count": 18,
   "metadata": {
    "colab": {
     "base_uri": "https://localhost:8080/"
    },
    "id": "VKHAnpmIf0lx",
    "outputId": "f3582949-5f09-4280-8467-ddda5e09ab18"
   },
   "outputs": [
    {
     "name": "stdout",
     "output_type": "stream",
     "text": [
      "Class abnormal: 74.77%\n",
      "Class antalgic: 66.67%\n",
      "Class cerebral palsy: 54.55%\n",
      "Class exercise: 28.21%\n",
      "Class inebriated: 50.00%\n",
      "Class myopathic: 56.25%\n",
      "Class normal: 34.09%\n",
      "Class parkinsons: 28.57%\n",
      "Class pregnant: 28.57%\n",
      "Class prosthetic: 69.23%\n",
      "Class stroke: 10.00%\n"
     ]
    }
   ],
   "source": [
    "import numpy as np\n",
    "\n",
    "# Calculate per-class accuracy\n",
    "class_accuracy = {}\n",
    "num_classes = per_video_conf_matrix.shape[0]\n",
    "\n",
    "for i in range(num_classes):\n",
    "    true_positives = per_video_conf_matrix[i, i]  # Correctly predicted instances for class i\n",
    "    total_instances = np.sum(per_video_conf_matrix[i, :])  # Total instances for class i\n",
    "    if total_instances > 0:\n",
    "        class_accuracy[label_encoder.classes_[i]] = true_positives / total_instances * 100  # Percent correct\n",
    "    else:\n",
    "        class_accuracy[label_encoder.classes_[i]] = 0.0  # Handle cases with no instances of class i\n",
    "\n",
    "#print(\"Original labels:\", label_encoder.classes_)\n",
    "\n",
    "# Print per-class accuracy\n",
    "for class_label, accuracy in class_accuracy.items():\n",
    "    print(f\"Class {class_label}: {accuracy:.2f}%\")\n"
   ]
  },
  {
   "cell_type": "code",
   "execution_count": null,
   "metadata": {},
   "outputs": [
    {
     "name": "stderr",
     "output_type": "stream",
     "text": [
      "/opt/conda/lib/python3.10/site-packages/shap/explainers/_deep/deep_pytorch.py:243: UserWarning: unrecognized nn.Module: LSTM\n",
      "  warnings.warn(f'unrecognized nn.Module: {module_type}')\n"
     ]
    },
    {
     "ename": "KeyboardInterrupt",
     "evalue": "",
     "output_type": "error",
     "traceback": [
      "\u001b[0;31m---------------------------------------------------------------------------\u001b[0m",
      "\u001b[0;31mKeyboardInterrupt\u001b[0m                         Traceback (most recent call last)",
      "Cell \u001b[0;32mIn[50], line 22\u001b[0m\n\u001b[1;32m     19\u001b[0m     explainer \u001b[38;5;241m=\u001b[39m shap\u001b[38;5;241m.\u001b[39mDeepExplainer(model, background)\n\u001b[1;32m     21\u001b[0m     \u001b[38;5;66;03m# Generate SHAP values for your test data\u001b[39;00m\n\u001b[0;32m---> 22\u001b[0m     shap_values \u001b[38;5;241m=\u001b[39m \u001b[43mexplainer\u001b[49m\u001b[38;5;241;43m.\u001b[39;49m\u001b[43mshap_values\u001b[49m\u001b[43m(\u001b[49m\u001b[43mx_test\u001b[49m\u001b[43m)\u001b[49m\n\u001b[1;32m     23\u001b[0m \u001b[38;5;28;01mfinally\u001b[39;00m:\n\u001b[1;32m     24\u001b[0m     \u001b[38;5;66;03m# Restore cudnn settings and evaluation mode\u001b[39;00m\n\u001b[1;32m     25\u001b[0m     cudnn\u001b[38;5;241m.\u001b[39menabled \u001b[38;5;241m=\u001b[39m \u001b[38;5;28;01mTrue\u001b[39;00m\n",
      "File \u001b[0;32m/opt/conda/lib/python3.10/site-packages/shap/explainers/_deep/__init__.py:159\u001b[0m, in \u001b[0;36mDeepExplainer.shap_values\u001b[0;34m(self, X, ranked_outputs, output_rank_order, check_additivity)\u001b[0m\n\u001b[1;32m    115\u001b[0m \u001b[38;5;28;01mdef\u001b[39;00m \u001b[38;5;21mshap_values\u001b[39m(\u001b[38;5;28mself\u001b[39m, X, ranked_outputs\u001b[38;5;241m=\u001b[39m\u001b[38;5;28;01mNone\u001b[39;00m, output_rank_order\u001b[38;5;241m=\u001b[39m\u001b[38;5;124m'\u001b[39m\u001b[38;5;124mmax\u001b[39m\u001b[38;5;124m'\u001b[39m, check_additivity\u001b[38;5;241m=\u001b[39m\u001b[38;5;28;01mTrue\u001b[39;00m):\n\u001b[1;32m    116\u001b[0m \u001b[38;5;250m    \u001b[39m\u001b[38;5;124;03m\"\"\"Return approximate SHAP values for the model applied to the data given by X.\u001b[39;00m\n\u001b[1;32m    117\u001b[0m \n\u001b[1;32m    118\u001b[0m \u001b[38;5;124;03m    Parameters\u001b[39;00m\n\u001b[0;32m   (...)\u001b[0m\n\u001b[1;32m    157\u001b[0m \n\u001b[1;32m    158\u001b[0m \u001b[38;5;124;03m    \"\"\"\u001b[39;00m\n\u001b[0;32m--> 159\u001b[0m     \u001b[38;5;28;01mreturn\u001b[39;00m \u001b[38;5;28;43mself\u001b[39;49m\u001b[38;5;241;43m.\u001b[39;49m\u001b[43mexplainer\u001b[49m\u001b[38;5;241;43m.\u001b[39;49m\u001b[43mshap_values\u001b[49m\u001b[43m(\u001b[49m\u001b[43mX\u001b[49m\u001b[43m,\u001b[49m\u001b[43m \u001b[49m\u001b[43mranked_outputs\u001b[49m\u001b[43m,\u001b[49m\u001b[43m \u001b[49m\u001b[43moutput_rank_order\u001b[49m\u001b[43m,\u001b[49m\u001b[43m \u001b[49m\u001b[43mcheck_additivity\u001b[49m\u001b[38;5;241;43m=\u001b[39;49m\u001b[43mcheck_additivity\u001b[49m\u001b[43m)\u001b[49m\n",
      "File \u001b[0;32m/opt/conda/lib/python3.10/site-packages/shap/explainers/_deep/deep_pytorch.py:186\u001b[0m, in \u001b[0;36mPyTorchDeep.shap_values\u001b[0;34m(self, X, ranked_outputs, output_rank_order, check_additivity)\u001b[0m\n\u001b[1;32m    184\u001b[0m \u001b[38;5;66;03m# run attribution computation graph\u001b[39;00m\n\u001b[1;32m    185\u001b[0m feature_ind \u001b[38;5;241m=\u001b[39m model_output_ranks[j, i]\n\u001b[0;32m--> 186\u001b[0m sample_phis \u001b[38;5;241m=\u001b[39m \u001b[38;5;28;43mself\u001b[39;49m\u001b[38;5;241;43m.\u001b[39;49m\u001b[43mgradient\u001b[49m\u001b[43m(\u001b[49m\u001b[43mfeature_ind\u001b[49m\u001b[43m,\u001b[49m\u001b[43m \u001b[49m\u001b[43mjoint_x\u001b[49m\u001b[43m)\u001b[49m\n\u001b[1;32m    187\u001b[0m \u001b[38;5;66;03m# assign the attributions to the right part of the output arrays\u001b[39;00m\n\u001b[1;32m    188\u001b[0m \u001b[38;5;28;01mif\u001b[39;00m \u001b[38;5;28mself\u001b[39m\u001b[38;5;241m.\u001b[39minterim:\n",
      "\u001b[0;31mKeyboardInterrupt\u001b[0m: "
     ]
    }
   ],
   "source": [
    "import torch.backends.cudnn as cudnn\n",
    "import shap\n",
    "\n",
    "# Ensure the model is on the appropriate device\n",
    "model.to(device)\n",
    "\n",
    "# Use a small subset of your data as background for SHAP\n",
    "background = x_test[:20]  # Choose a reasonable size to avoid memory issues\n",
    "\n",
    "# Temporarily disable cudnn for RNNs\n",
    "cudnn.enabled = False\n",
    "cudnn.benchmark = False\n",
    "\n",
    "try:\n",
    "    # Set the model to training mode temporarily\n",
    "    model.train()\n",
    "\n",
    "    # Initialize the SHAP explainer\n",
    "    explainer = shap.DeepExplainer(model, background)\n",
    "\n",
    "    # Generate SHAP values for your test data\n",
    "    shap_values = explainer.shap_values(x_test)\n",
    "finally:\n",
    "    # Restore cudnn settings and evaluation mode\n",
    "    cudnn.enabled = True\n",
    "    cudnn.benchmark = True\n",
    "    model.eval()\n",
    "\n",
    "# Visualize SHAP values (example for a single prediction)\n",
    "shap.summary_plot(shap_values, x_test.cpu().numpy())\n"
   ]
  }
 ],
 "metadata": {
  "accelerator": "GPU",
  "colab": {
   "gpuType": "T4",
   "provenance": []
  },
  "kernelspec": {
   "display_name": "base",
   "language": "python",
   "name": "python3"
  },
  "language_info": {
   "codemirror_mode": {
    "name": "ipython",
    "version": 3
   },
   "file_extension": ".py",
   "mimetype": "text/x-python",
   "name": "python",
   "nbconvert_exporter": "python",
   "pygments_lexer": "ipython3",
   "version": "3.10.15"
  },
  "widgets": {
   "application/vnd.jupyter.widget-state+json": {
    "07e1c02738924dd28a24d540dec00673": {
     "model_module": "@jupyter-widgets/controls",
     "model_module_version": "1.5.0",
     "model_name": "HTMLModel",
     "state": {
      "_dom_classes": [],
      "_model_module": "@jupyter-widgets/controls",
      "_model_module_version": "1.5.0",
      "_model_name": "HTMLModel",
      "_view_count": null,
      "_view_module": "@jupyter-widgets/controls",
      "_view_module_version": "1.5.0",
      "_view_name": "HTMLView",
      "description": "",
      "description_tooltip": null,
      "layout": "IPY_MODEL_fcaba6a1adbb4758af24c0ac04633d2c",
      "placeholder": "​",
      "style": "IPY_MODEL_b04bb91068524c2092a1381652687a6b",
      "value": "Testing DataLoader 0: 100%"
     }
    },
    "13b7101cbe984e98baf22bff01537042": {
     "model_module": "@jupyter-widgets/controls",
     "model_module_version": "1.5.0",
     "model_name": "FloatProgressModel",
     "state": {
      "_dom_classes": [],
      "_model_module": "@jupyter-widgets/controls",
      "_model_module_version": "1.5.0",
      "_model_name": "FloatProgressModel",
      "_view_count": null,
      "_view_module": "@jupyter-widgets/controls",
      "_view_module_version": "1.5.0",
      "_view_name": "ProgressView",
      "bar_style": "success",
      "description": "",
      "description_tooltip": null,
      "layout": "IPY_MODEL_58dc7d092bba42b99c7250619411eafa",
      "max": 108,
      "min": 0,
      "orientation": "horizontal",
      "style": "IPY_MODEL_df1c207a4c434ed1b9f58fde4ee717b3",
      "value": 108
     }
    },
    "14e862028f40495db926c5ab87ce33f0": {
     "model_module": "@jupyter-widgets/controls",
     "model_module_version": "1.5.0",
     "model_name": "DescriptionStyleModel",
     "state": {
      "_model_module": "@jupyter-widgets/controls",
      "_model_module_version": "1.5.0",
      "_model_name": "DescriptionStyleModel",
      "_view_count": null,
      "_view_module": "@jupyter-widgets/base",
      "_view_module_version": "1.2.0",
      "_view_name": "StyleView",
      "description_width": ""
     }
    },
    "21b3ae2f69494b7b8a6b5da6f9e7aa63": {
     "model_module": "@jupyter-widgets/base",
     "model_module_version": "1.2.0",
     "model_name": "LayoutModel",
     "state": {
      "_model_module": "@jupyter-widgets/base",
      "_model_module_version": "1.2.0",
      "_model_name": "LayoutModel",
      "_view_count": null,
      "_view_module": "@jupyter-widgets/base",
      "_view_module_version": "1.2.0",
      "_view_name": "LayoutView",
      "align_content": null,
      "align_items": null,
      "align_self": null,
      "border": null,
      "bottom": null,
      "display": "inline-flex",
      "flex": null,
      "flex_flow": "row wrap",
      "grid_area": null,
      "grid_auto_columns": null,
      "grid_auto_flow": null,
      "grid_auto_rows": null,
      "grid_column": null,
      "grid_gap": null,
      "grid_row": null,
      "grid_template_areas": null,
      "grid_template_columns": null,
      "grid_template_rows": null,
      "height": null,
      "justify_content": null,
      "justify_items": null,
      "left": null,
      "margin": null,
      "max_height": null,
      "max_width": null,
      "min_height": null,
      "min_width": null,
      "object_fit": null,
      "object_position": null,
      "order": null,
      "overflow": null,
      "overflow_x": null,
      "overflow_y": null,
      "padding": null,
      "right": null,
      "top": null,
      "visibility": null,
      "width": "100%"
     }
    },
    "31b5c1f5e633417fae052dcd458028fb": {
     "model_module": "@jupyter-widgets/controls",
     "model_module_version": "1.5.0",
     "model_name": "DescriptionStyleModel",
     "state": {
      "_model_module": "@jupyter-widgets/controls",
      "_model_module_version": "1.5.0",
      "_model_name": "DescriptionStyleModel",
      "_view_count": null,
      "_view_module": "@jupyter-widgets/base",
      "_view_module_version": "1.2.0",
      "_view_name": "StyleView",
      "description_width": ""
     }
    },
    "4c79c8c2781c4cf0b32fc171a61b1b13": {
     "model_module": "@jupyter-widgets/controls",
     "model_module_version": "1.5.0",
     "model_name": "HBoxModel",
     "state": {
      "_dom_classes": [],
      "_model_module": "@jupyter-widgets/controls",
      "_model_module_version": "1.5.0",
      "_model_name": "HBoxModel",
      "_view_count": null,
      "_view_module": "@jupyter-widgets/controls",
      "_view_module_version": "1.5.0",
      "_view_name": "HBoxView",
      "box_style": "",
      "children": [
       "IPY_MODEL_8db33c38bdc044faa485325dcf93da1f",
       "IPY_MODEL_13b7101cbe984e98baf22bff01537042",
       "IPY_MODEL_848d22aca05e4c86a0a1eb6d4c774060"
      ],
      "layout": "IPY_MODEL_bcb205c8a06c480da3c5f544e024981b"
     }
    },
    "547673061020455f9504e722918d4460": {
     "model_module": "@jupyter-widgets/base",
     "model_module_version": "1.2.0",
     "model_name": "LayoutModel",
     "state": {
      "_model_module": "@jupyter-widgets/base",
      "_model_module_version": "1.2.0",
      "_model_name": "LayoutModel",
      "_view_count": null,
      "_view_module": "@jupyter-widgets/base",
      "_view_module_version": "1.2.0",
      "_view_name": "LayoutView",
      "align_content": null,
      "align_items": null,
      "align_self": null,
      "border": null,
      "bottom": null,
      "display": null,
      "flex": null,
      "flex_flow": null,
      "grid_area": null,
      "grid_auto_columns": null,
      "grid_auto_flow": null,
      "grid_auto_rows": null,
      "grid_column": null,
      "grid_gap": null,
      "grid_row": null,
      "grid_template_areas": null,
      "grid_template_columns": null,
      "grid_template_rows": null,
      "height": null,
      "justify_content": null,
      "justify_items": null,
      "left": null,
      "margin": null,
      "max_height": null,
      "max_width": null,
      "min_height": null,
      "min_width": null,
      "object_fit": null,
      "object_position": null,
      "order": null,
      "overflow": null,
      "overflow_x": null,
      "overflow_y": null,
      "padding": null,
      "right": null,
      "top": null,
      "visibility": null,
      "width": null
     }
    },
    "58dc7d092bba42b99c7250619411eafa": {
     "model_module": "@jupyter-widgets/base",
     "model_module_version": "1.2.0",
     "model_name": "LayoutModel",
     "state": {
      "_model_module": "@jupyter-widgets/base",
      "_model_module_version": "1.2.0",
      "_model_name": "LayoutModel",
      "_view_count": null,
      "_view_module": "@jupyter-widgets/base",
      "_view_module_version": "1.2.0",
      "_view_name": "LayoutView",
      "align_content": null,
      "align_items": null,
      "align_self": null,
      "border": null,
      "bottom": null,
      "display": null,
      "flex": "2",
      "flex_flow": null,
      "grid_area": null,
      "grid_auto_columns": null,
      "grid_auto_flow": null,
      "grid_auto_rows": null,
      "grid_column": null,
      "grid_gap": null,
      "grid_row": null,
      "grid_template_areas": null,
      "grid_template_columns": null,
      "grid_template_rows": null,
      "height": null,
      "justify_content": null,
      "justify_items": null,
      "left": null,
      "margin": null,
      "max_height": null,
      "max_width": null,
      "min_height": null,
      "min_width": null,
      "object_fit": null,
      "object_position": null,
      "order": null,
      "overflow": null,
      "overflow_x": null,
      "overflow_y": null,
      "padding": null,
      "right": null,
      "top": null,
      "visibility": null,
      "width": null
     }
    },
    "72c3ee7ee14c49209102c8dc36addcc2": {
     "model_module": "@jupyter-widgets/controls",
     "model_module_version": "1.5.0",
     "model_name": "FloatProgressModel",
     "state": {
      "_dom_classes": [],
      "_model_module": "@jupyter-widgets/controls",
      "_model_module_version": "1.5.0",
      "_model_name": "FloatProgressModel",
      "_view_count": null,
      "_view_module": "@jupyter-widgets/controls",
      "_view_module_version": "1.5.0",
      "_view_name": "ProgressView",
      "bar_style": "success",
      "description": "",
      "description_tooltip": null,
      "layout": "IPY_MODEL_b28cf06c4c164d2bae820a2e5aca96e9",
      "max": 47,
      "min": 0,
      "orientation": "horizontal",
      "style": "IPY_MODEL_e4e8f1da10fd430da3c31f5cda584da1",
      "value": 47
     }
    },
    "7849c788ac404493b4c30068d6869ec5": {
     "model_module": "@jupyter-widgets/base",
     "model_module_version": "1.2.0",
     "model_name": "LayoutModel",
     "state": {
      "_model_module": "@jupyter-widgets/base",
      "_model_module_version": "1.2.0",
      "_model_name": "LayoutModel",
      "_view_count": null,
      "_view_module": "@jupyter-widgets/base",
      "_view_module_version": "1.2.0",
      "_view_name": "LayoutView",
      "align_content": null,
      "align_items": null,
      "align_self": null,
      "border": null,
      "bottom": null,
      "display": null,
      "flex": null,
      "flex_flow": null,
      "grid_area": null,
      "grid_auto_columns": null,
      "grid_auto_flow": null,
      "grid_auto_rows": null,
      "grid_column": null,
      "grid_gap": null,
      "grid_row": null,
      "grid_template_areas": null,
      "grid_template_columns": null,
      "grid_template_rows": null,
      "height": null,
      "justify_content": null,
      "justify_items": null,
      "left": null,
      "margin": null,
      "max_height": null,
      "max_width": null,
      "min_height": null,
      "min_width": null,
      "object_fit": null,
      "object_position": null,
      "order": null,
      "overflow": null,
      "overflow_x": null,
      "overflow_y": null,
      "padding": null,
      "right": null,
      "top": null,
      "visibility": null,
      "width": null
     }
    },
    "848d22aca05e4c86a0a1eb6d4c774060": {
     "model_module": "@jupyter-widgets/controls",
     "model_module_version": "1.5.0",
     "model_name": "HTMLModel",
     "state": {
      "_dom_classes": [],
      "_model_module": "@jupyter-widgets/controls",
      "_model_module_version": "1.5.0",
      "_model_name": "HTMLModel",
      "_view_count": null,
      "_view_module": "@jupyter-widgets/controls",
      "_view_module_version": "1.5.0",
      "_view_name": "HTMLView",
      "description": "",
      "description_tooltip": null,
      "layout": "IPY_MODEL_7849c788ac404493b4c30068d6869ec5",
      "placeholder": "​",
      "style": "IPY_MODEL_14e862028f40495db926c5ab87ce33f0",
      "value": " 108/108 [00:00&lt;00:00, 179.70it/s, v_num=6]"
     }
    },
    "8db33c38bdc044faa485325dcf93da1f": {
     "model_module": "@jupyter-widgets/controls",
     "model_module_version": "1.5.0",
     "model_name": "HTMLModel",
     "state": {
      "_dom_classes": [],
      "_model_module": "@jupyter-widgets/controls",
      "_model_module_version": "1.5.0",
      "_model_name": "HTMLModel",
      "_view_count": null,
      "_view_module": "@jupyter-widgets/controls",
      "_view_module_version": "1.5.0",
      "_view_name": "HTMLView",
      "description": "",
      "description_tooltip": null,
      "layout": "IPY_MODEL_547673061020455f9504e722918d4460",
      "placeholder": "​",
      "style": "IPY_MODEL_31b5c1f5e633417fae052dcd458028fb",
      "value": "Epoch 49: 100%"
     }
    },
    "a6ccffc7ca044195a2490081ba41caad": {
     "model_module": "@jupyter-widgets/controls",
     "model_module_version": "1.5.0",
     "model_name": "DescriptionStyleModel",
     "state": {
      "_model_module": "@jupyter-widgets/controls",
      "_model_module_version": "1.5.0",
      "_model_name": "DescriptionStyleModel",
      "_view_count": null,
      "_view_module": "@jupyter-widgets/base",
      "_view_module_version": "1.2.0",
      "_view_name": "StyleView",
      "description_width": ""
     }
    },
    "b04bb91068524c2092a1381652687a6b": {
     "model_module": "@jupyter-widgets/controls",
     "model_module_version": "1.5.0",
     "model_name": "DescriptionStyleModel",
     "state": {
      "_model_module": "@jupyter-widgets/controls",
      "_model_module_version": "1.5.0",
      "_model_name": "DescriptionStyleModel",
      "_view_count": null,
      "_view_module": "@jupyter-widgets/base",
      "_view_module_version": "1.2.0",
      "_view_name": "StyleView",
      "description_width": ""
     }
    },
    "b28cf06c4c164d2bae820a2e5aca96e9": {
     "model_module": "@jupyter-widgets/base",
     "model_module_version": "1.2.0",
     "model_name": "LayoutModel",
     "state": {
      "_model_module": "@jupyter-widgets/base",
      "_model_module_version": "1.2.0",
      "_model_name": "LayoutModel",
      "_view_count": null,
      "_view_module": "@jupyter-widgets/base",
      "_view_module_version": "1.2.0",
      "_view_name": "LayoutView",
      "align_content": null,
      "align_items": null,
      "align_self": null,
      "border": null,
      "bottom": null,
      "display": null,
      "flex": "2",
      "flex_flow": null,
      "grid_area": null,
      "grid_auto_columns": null,
      "grid_auto_flow": null,
      "grid_auto_rows": null,
      "grid_column": null,
      "grid_gap": null,
      "grid_row": null,
      "grid_template_areas": null,
      "grid_template_columns": null,
      "grid_template_rows": null,
      "height": null,
      "justify_content": null,
      "justify_items": null,
      "left": null,
      "margin": null,
      "max_height": null,
      "max_width": null,
      "min_height": null,
      "min_width": null,
      "object_fit": null,
      "object_position": null,
      "order": null,
      "overflow": null,
      "overflow_x": null,
      "overflow_y": null,
      "padding": null,
      "right": null,
      "top": null,
      "visibility": null,
      "width": null
     }
    },
    "b3f60f9bc78842fd960ea49829bafaa9": {
     "model_module": "@jupyter-widgets/controls",
     "model_module_version": "1.5.0",
     "model_name": "HBoxModel",
     "state": {
      "_dom_classes": [],
      "_model_module": "@jupyter-widgets/controls",
      "_model_module_version": "1.5.0",
      "_model_name": "HBoxModel",
      "_view_count": null,
      "_view_module": "@jupyter-widgets/controls",
      "_view_module_version": "1.5.0",
      "_view_name": "HBoxView",
      "box_style": "",
      "children": [
       "IPY_MODEL_07e1c02738924dd28a24d540dec00673",
       "IPY_MODEL_72c3ee7ee14c49209102c8dc36addcc2",
       "IPY_MODEL_e52fa36f103e44458d133fbc3e744269"
      ],
      "layout": "IPY_MODEL_21b3ae2f69494b7b8a6b5da6f9e7aa63"
     }
    },
    "bcb205c8a06c480da3c5f544e024981b": {
     "model_module": "@jupyter-widgets/base",
     "model_module_version": "1.2.0",
     "model_name": "LayoutModel",
     "state": {
      "_model_module": "@jupyter-widgets/base",
      "_model_module_version": "1.2.0",
      "_model_name": "LayoutModel",
      "_view_count": null,
      "_view_module": "@jupyter-widgets/base",
      "_view_module_version": "1.2.0",
      "_view_name": "LayoutView",
      "align_content": null,
      "align_items": null,
      "align_self": null,
      "border": null,
      "bottom": null,
      "display": "inline-flex",
      "flex": null,
      "flex_flow": "row wrap",
      "grid_area": null,
      "grid_auto_columns": null,
      "grid_auto_flow": null,
      "grid_auto_rows": null,
      "grid_column": null,
      "grid_gap": null,
      "grid_row": null,
      "grid_template_areas": null,
      "grid_template_columns": null,
      "grid_template_rows": null,
      "height": null,
      "justify_content": null,
      "justify_items": null,
      "left": null,
      "margin": null,
      "max_height": null,
      "max_width": null,
      "min_height": null,
      "min_width": null,
      "object_fit": null,
      "object_position": null,
      "order": null,
      "overflow": null,
      "overflow_x": null,
      "overflow_y": null,
      "padding": null,
      "right": null,
      "top": null,
      "visibility": null,
      "width": "100%"
     }
    },
    "df1c207a4c434ed1b9f58fde4ee717b3": {
     "model_module": "@jupyter-widgets/controls",
     "model_module_version": "1.5.0",
     "model_name": "ProgressStyleModel",
     "state": {
      "_model_module": "@jupyter-widgets/controls",
      "_model_module_version": "1.5.0",
      "_model_name": "ProgressStyleModel",
      "_view_count": null,
      "_view_module": "@jupyter-widgets/base",
      "_view_module_version": "1.2.0",
      "_view_name": "StyleView",
      "bar_color": null,
      "description_width": ""
     }
    },
    "e4e8f1da10fd430da3c31f5cda584da1": {
     "model_module": "@jupyter-widgets/controls",
     "model_module_version": "1.5.0",
     "model_name": "ProgressStyleModel",
     "state": {
      "_model_module": "@jupyter-widgets/controls",
      "_model_module_version": "1.5.0",
      "_model_name": "ProgressStyleModel",
      "_view_count": null,
      "_view_module": "@jupyter-widgets/base",
      "_view_module_version": "1.2.0",
      "_view_name": "StyleView",
      "bar_color": null,
      "description_width": ""
     }
    },
    "e52fa36f103e44458d133fbc3e744269": {
     "model_module": "@jupyter-widgets/controls",
     "model_module_version": "1.5.0",
     "model_name": "HTMLModel",
     "state": {
      "_dom_classes": [],
      "_model_module": "@jupyter-widgets/controls",
      "_model_module_version": "1.5.0",
      "_model_name": "HTMLModel",
      "_view_count": null,
      "_view_module": "@jupyter-widgets/controls",
      "_view_module_version": "1.5.0",
      "_view_name": "HTMLView",
      "description": "",
      "description_tooltip": null,
      "layout": "IPY_MODEL_ee174f0e8d1e427e9d36f2667fe41a66",
      "placeholder": "​",
      "style": "IPY_MODEL_a6ccffc7ca044195a2490081ba41caad",
      "value": " 47/47 [00:00&lt;00:00, 179.68it/s]"
     }
    },
    "ee174f0e8d1e427e9d36f2667fe41a66": {
     "model_module": "@jupyter-widgets/base",
     "model_module_version": "1.2.0",
     "model_name": "LayoutModel",
     "state": {
      "_model_module": "@jupyter-widgets/base",
      "_model_module_version": "1.2.0",
      "_model_name": "LayoutModel",
      "_view_count": null,
      "_view_module": "@jupyter-widgets/base",
      "_view_module_version": "1.2.0",
      "_view_name": "LayoutView",
      "align_content": null,
      "align_items": null,
      "align_self": null,
      "border": null,
      "bottom": null,
      "display": null,
      "flex": null,
      "flex_flow": null,
      "grid_area": null,
      "grid_auto_columns": null,
      "grid_auto_flow": null,
      "grid_auto_rows": null,
      "grid_column": null,
      "grid_gap": null,
      "grid_row": null,
      "grid_template_areas": null,
      "grid_template_columns": null,
      "grid_template_rows": null,
      "height": null,
      "justify_content": null,
      "justify_items": null,
      "left": null,
      "margin": null,
      "max_height": null,
      "max_width": null,
      "min_height": null,
      "min_width": null,
      "object_fit": null,
      "object_position": null,
      "order": null,
      "overflow": null,
      "overflow_x": null,
      "overflow_y": null,
      "padding": null,
      "right": null,
      "top": null,
      "visibility": null,
      "width": null
     }
    },
    "fcaba6a1adbb4758af24c0ac04633d2c": {
     "model_module": "@jupyter-widgets/base",
     "model_module_version": "1.2.0",
     "model_name": "LayoutModel",
     "state": {
      "_model_module": "@jupyter-widgets/base",
      "_model_module_version": "1.2.0",
      "_model_name": "LayoutModel",
      "_view_count": null,
      "_view_module": "@jupyter-widgets/base",
      "_view_module_version": "1.2.0",
      "_view_name": "LayoutView",
      "align_content": null,
      "align_items": null,
      "align_self": null,
      "border": null,
      "bottom": null,
      "display": null,
      "flex": null,
      "flex_flow": null,
      "grid_area": null,
      "grid_auto_columns": null,
      "grid_auto_flow": null,
      "grid_auto_rows": null,
      "grid_column": null,
      "grid_gap": null,
      "grid_row": null,
      "grid_template_areas": null,
      "grid_template_columns": null,
      "grid_template_rows": null,
      "height": null,
      "justify_content": null,
      "justify_items": null,
      "left": null,
      "margin": null,
      "max_height": null,
      "max_width": null,
      "min_height": null,
      "min_width": null,
      "object_fit": null,
      "object_position": null,
      "order": null,
      "overflow": null,
      "overflow_x": null,
      "overflow_y": null,
      "padding": null,
      "right": null,
      "top": null,
      "visibility": null,
      "width": null
     }
    }
   }
  }
 },
 "nbformat": 4,
 "nbformat_minor": 0
}
